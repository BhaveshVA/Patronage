{
 "cells": [
  {
   "cell_type": "markdown",
   "metadata": {
    "application/vnd.databricks.v1+cell": {
     "cellMetadata": {},
     "inputWidgets": {},
     "nuid": "eed30dfe-9582-4ebe-9075-8a9a605ffc8c",
     "showTitle": false,
     "tableResultSettingsMap": {},
     "title": ""
    }
   },
   "source": [
    "# **Processing and Transforming PSA, Person, and Institution Data in PySpark**\n",
    "\n",
    "This document outlines the step-by-step process for loading, filtering, joining, deduplicating, and pivoting data from PSA, Person, and Institution datasets using PySpark."
   ]
  },
  {
   "cell_type": "markdown",
   "metadata": {
    "application/vnd.databricks.v1+cell": {
     "cellMetadata": {},
     "inputWidgets": {},
     "nuid": "00324266-02e7-4656-8c09-7bafec94c72a",
     "showTitle": false,
     "tableResultSettingsMap": {},
     "title": ""
    }
   },
   "source": [
    "## 1. Load Data from Parquet Files\n",
    "We begin by reading three datasets from Parquet files into PySpark DataFrames."
   ]
  },
  {
   "cell_type": "code",
   "execution_count": 0,
   "metadata": {
    "application/vnd.databricks.v1+cell": {
     "cellMetadata": {
      "byteLimit": 2048000,
      "rowLimit": 10000
     },
     "inputWidgets": {},
     "nuid": "7e271132-636a-40d3-b4c6-f54849a9599b",
     "showTitle": false,
     "tableResultSettingsMap": {},
     "title": ""
    }
   },
   "outputs": [],
   "source": [
    "psa_df = spark.read.parquet(\"/mnt/ci-mvi/Processed/SVeteran.SMVIPersonSiteAssociation/\")\n",
    "person_df = spark.read.parquet(\"/mnt/ci-mvi/Processed/SVeteran.SMVIPerson\")\n",
    "institution_df = spark.read.parquet(\"/mnt/ci-mvi/Raw/NDim.MVIInstitution/\")\n"
   ]
  },
  {
   "cell_type": "code",
   "execution_count": 0,
   "metadata": {
    "application/vnd.databricks.v1+cell": {
     "cellMetadata": {
      "byteLimit": 2048000,
      "rowLimit": 10000
     },
     "inputWidgets": {},
     "nuid": "b8f63ae1-721e-4e67-ab2b-0879613b5938",
     "showTitle": false,
     "tableResultSettingsMap": {},
     "title": ""
    }
   },
   "outputs": [],
   "source": [
    "psa_df.filter((psa_df.MVIPersonICN == 1035192139) & (psa_df.TreatingFacilityPersonIdentifier == 10050329)).display()"
   ]
  },
  {
   "cell_type": "markdown",
   "metadata": {
    "application/vnd.databricks.v1+cell": {
     "cellMetadata": {},
     "inputWidgets": {},
     "nuid": "31437be0-6a0a-49ba-8738-5f7d081af7e6",
     "showTitle": false,
     "tableResultSettingsMap": {},
     "title": ""
    }
   },
   "source": [
    "- psa_df: Contains information related to Treating Facility and Person Identifiers.\n",
    "\n",
    "- person_df: Contains Person ICN and their status.\n",
    "\n",
    "- institution_df: Contains mappings of Institution SIDs to Institution Codes."
   ]
  },
  {
   "cell_type": "markdown",
   "metadata": {
    "application/vnd.databricks.v1+cell": {
     "cellMetadata": {},
     "inputWidgets": {},
     "nuid": "549fdd78-e217-4337-94e0-a5951b7c332d",
     "showTitle": false,
     "tableResultSettingsMap": {},
     "title": ""
    }
   },
   "source": [
    "## 2. Define Window Specifications\n",
    "\n",
    "Window functions are used to rank records within a partitioned group."
   ]
  },
  {
   "cell_type": "code",
   "execution_count": 0,
   "metadata": {
    "application/vnd.databricks.v1+cell": {
     "cellMetadata": {
      "byteLimit": 2048000,
      "rowLimit": 10000
     },
     "inputWidgets": {},
     "nuid": "800c75ad-fa46-4611-b515-a28d8e79d538",
     "showTitle": false,
     "tableResultSettingsMap": {},
     "title": ""
    }
   },
   "outputs": [],
   "source": [
    "from pyspark.sql.window import Window\n",
    "from pyspark.sql.functions import col, rank, first, row_number\n",
    "\n",
    "psa_window_spec = Window.partitionBy(\"MVIPersonICN\", \"MVITreatingFacilityInstitutionSID\").orderBy(\"CorrelationModifiedDateTime\")\n",
    "person_window_spec = Window.partitionBy(\"MVIPersonICN\").orderBy(\"calc_IngestionTimestamp\")\n"
   ]
  },
  {
   "cell_type": "markdown",
   "metadata": {
    "application/vnd.databricks.v1+cell": {
     "cellMetadata": {},
     "inputWidgets": {},
     "nuid": "3214d581-007b-4f91-9822-621ab2f5bdd5",
     "showTitle": false,
     "tableResultSettingsMap": {},
     "title": ""
    }
   },
   "source": [
    "- psa_window_spec: Partitions data by MVIPersonICN and MVITreatingFacilityInstitutionSID, ordering by CorrelationModifiedDateTime to select the latest record per partition.\n",
    "\n",
    "- person_window_spec: Partitions data by MVIPersonICN, ordering by calc_IngestionTimestamp to pick the most recent ingestion record."
   ]
  },
  {
   "cell_type": "markdown",
   "metadata": {
    "application/vnd.databricks.v1+cell": {
     "cellMetadata": {},
     "inputWidgets": {},
     "nuid": "bf93fccb-9e71-42ee-846f-69f80a8b352a",
     "showTitle": false,
     "tableResultSettingsMap": {},
     "title": ""
    }
   },
   "source": [
    "## 3. Process PSA Data\n",
    "\n",
    "This step filters and ranks PSA records to retain only the most recent entry per MVIPersonICN and MVITreatingFacilityInstitutionSID."
   ]
  },
  {
   "cell_type": "code",
   "execution_count": 0,
   "metadata": {
    "application/vnd.databricks.v1+cell": {
     "cellMetadata": {
      "byteLimit": 2048000,
      "rowLimit": 10000
     },
     "inputWidgets": {},
     "nuid": "72a5eb73-5467-4a2b-9098-75d9b745db22",
     "showTitle": false,
     "tableResultSettingsMap": {},
     "title": ""
    }
   },
   "outputs": [],
   "source": [
    "psa_df = (\n",
    "    psa_df.filter(\n",
    "        (col(\"MVITreatingFacilityInstitutionSID\").isin([5667, 6061, 6722])) &\n",
    "        ((col(\"ActiveMergedIdentifier\").isNull()) | (col(\"ActiveMergedIdentifier\") == 'Active')) &\n",
    "        col(\"MVIPersonICN\").isNotNull()\n",
    "    )\n",
    "    # .select(\"MVIPersonICN\", \"TreatingFacilityPersonIdentifier\", \"MVITreatingFacilityInstitutionSID\", \"CorrelationModifiedDateTime\")\n",
    "    # .distinct()\n",
    "    .withColumn(\"rank\", rank().over(psa_window_spec))\n",
    "    .filter(col(\"rank\") == 1)\n",
    "    .select(\"MVIPersonICN\", \"TreatingFacilityPersonIdentifier\", \"MVITreatingFacilityInstitutionSID\", \"CorrelationModifiedDateTime\")\n",
    ")\n"
   ]
  },
  {
   "cell_type": "markdown",
   "metadata": {
    "application/vnd.databricks.v1+cell": {
     "cellMetadata": {},
     "inputWidgets": {},
     "nuid": "eeb62858-deb6-4301-bd5e-15ff05740745",
     "showTitle": false,
     "tableResultSettingsMap": {},
     "title": ""
    }
   },
   "source": [
    "###  Filtering Criteria:\n",
    "  -   Keeps only Institution SIDs 5667, 6061, and 6722.\n",
    "\n",
    "  -   Excludes records where ActiveMergedIdentifier is not 'Active' or NULL.\n",
    "\n",
    "  - Ensures MVIPersonICN is not NULL.\n",
    "\n",
    "###  Ranking:\n",
    "\n",
    "  -   Assigns a rank based on CorrelationModifiedDateTime (latest first) within each partition.\n",
    "\n",
    "### Selection:\n",
    "\n",
    "  - Retains only the highest-ranked record for each partition."
   ]
  },
  {
   "cell_type": "markdown",
   "metadata": {
    "application/vnd.databricks.v1+cell": {
     "cellMetadata": {},
     "inputWidgets": {},
     "nuid": "158f2b98-abc1-4727-ad1b-5588198aa4d8",
     "showTitle": false,
     "tableResultSettingsMap": {},
     "title": ""
    }
   },
   "source": [
    "## 4. Process Person Data\n",
    "\n",
    "Similar to PSA processing, this step filters and retains only the most recent Person ICN record."
   ]
  },
  {
   "cell_type": "code",
   "execution_count": 0,
   "metadata": {
    "application/vnd.databricks.v1+cell": {
     "cellMetadata": {
      "byteLimit": 2048000,
      "rowLimit": 10000
     },
     "inputWidgets": {},
     "nuid": "926c18b1-a587-4ac7-a96f-437697b71799",
     "showTitle": false,
     "tableResultSettingsMap": {},
     "title": ""
    }
   },
   "outputs": [],
   "source": [
    "person_df = (\n",
    "    person_df.withColumn(\"rank\", rank().over(person_window_spec))\n",
    "    .filter(col(\"rank\") == 1)\n",
    "    .select(\"MVIPersonICN\", \"ICNStatus\")\n",
    ")\n"
   ]
  },
  {
   "cell_type": "markdown",
   "metadata": {
    "application/vnd.databricks.v1+cell": {
     "cellMetadata": {},
     "inputWidgets": {},
     "nuid": "75283865-b7f4-46ae-a5aa-f68df666869d",
     "showTitle": false,
     "tableResultSettingsMap": {},
     "title": ""
    }
   },
   "source": [
    "### Ranking:\n",
    "\n",
    "  - Assigns a rank based on calc_IngestionTimestamp (latest first) for each MVIPersonICN.\n",
    "\n",
    "### Selection:\n",
    "\n",
    "  -  Keeps only the latest record per MVIPersonICN.\n",
    "\n"
   ]
  },
  {
   "cell_type": "markdown",
   "metadata": {
    "application/vnd.databricks.v1+cell": {
     "cellMetadata": {},
     "inputWidgets": {},
     "nuid": "64e182f1-470a-4a42-ae6d-f09e7cf2c78d",
     "showTitle": false,
     "tableResultSettingsMap": {},
     "title": ""
    }
   },
   "source": [
    "## 5. Join PSA Data with Institution Data\n",
    "\n",
    "This step maps the MVITreatingFacilityInstitutionSID in psa_df to InstitutionCode from institution_df"
   ]
  },
  {
   "cell_type": "code",
   "execution_count": 0,
   "metadata": {
    "application/vnd.databricks.v1+cell": {
     "cellMetadata": {
      "byteLimit": 2048000,
      "rowLimit": 10000
     },
     "inputWidgets": {},
     "nuid": "6c859bbd-4c48-4c6b-bb35-e42e7421554e",
     "showTitle": false,
     "tableResultSettingsMap": {},
     "title": ""
    }
   },
   "outputs": [],
   "source": [
    "relationship_df = (\n",
    "    psa_df.join(institution_df, psa_df[\"MVITreatingFacilityInstitutionSID\"] == institution_df[\"MVIInstitutionSID\"], \"left\")\n",
    "    .select(psa_df[\"MVIPersonICN\"], institution_df[\"InstitutionCode\"], psa_df[\"TreatingFacilityPersonIdentifier\"], psa_df[\"CorrelationModifiedDateTime\"].alias(\"Last_Modified\"))\n",
    ").cache()\n"
   ]
  },
  {
   "cell_type": "code",
   "execution_count": 0,
   "metadata": {
    "application/vnd.databricks.v1+cell": {
     "cellMetadata": {
      "byteLimit": 2048000,
      "rowLimit": 10000
     },
     "inputWidgets": {},
     "nuid": "e9c892ae-a601-4146-a56b-ff649330e9be",
     "showTitle": false,
     "tableResultSettingsMap": {},
     "title": ""
    }
   },
   "outputs": [],
   "source": [
    "relationship_df.limit(5).display()"
   ]
  },
  {
   "cell_type": "markdown",
   "metadata": {
    "application/vnd.databricks.v1+cell": {
     "cellMetadata": {},
     "inputWidgets": {},
     "nuid": "2a3f0f52-c591-4b3d-8503-39dce7946beb",
     "showTitle": false,
     "tableResultSettingsMap": {},
     "title": ""
    }
   },
   "source": [
    "### Performs a left join between psa_df and institution_df.\n",
    "\n",
    "- **Retains:**\n",
    "\n",
    "    - MVIPersonICN\n",
    "\n",
    "    - InstitutionCode\n",
    "\n",
    "    - TreatingFacilityPersonIdentifier\n",
    "\n",
    "    - CorrelationModifiedDateTime"
   ]
  },
  {
   "cell_type": "markdown",
   "metadata": {
    "application/vnd.databricks.v1+cell": {
     "cellMetadata": {},
     "inputWidgets": {},
     "nuid": "66e409df-43cc-4e77-861a-b72dc7ff8027",
     "showTitle": false,
     "tableResultSettingsMap": {},
     "title": ""
    }
   },
   "source": [
    "### 6. Identify Duplicate Records\n",
    "\n",
    "Duplicates are identified based on two different criteria."
   ]
  },
  {
   "cell_type": "code",
   "execution_count": 0,
   "metadata": {
    "application/vnd.databricks.v1+cell": {
     "cellMetadata": {
      "byteLimit": 2048000,
      "rowLimit": 10000
     },
     "inputWidgets": {},
     "nuid": "d0c7446b-cb36-4688-8525-bd3808d6f37d",
     "showTitle": false,
     "tableResultSettingsMap": {},
     "title": ""
    }
   },
   "outputs": [],
   "source": [
    "duplicate_iens = relationship_df.groupBy(\"MVIPersonICN\", \"InstitutionCode\").count().filter(col(\"count\") > 1).withColumnRenamed(\"count\", \"count_1\")\n",
    "duplicate_icns = relationship_df.groupBy(\"InstitutionCode\", \"TreatingFacilityPersonIdentifier\").count().filter(col(\"count\") > 1).withColumnRenamed(\"count\", \"count_2\")\n"
   ]
  },
  {
   "cell_type": "markdown",
   "metadata": {
    "application/vnd.databricks.v1+cell": {
     "cellMetadata": {},
     "inputWidgets": {},
     "nuid": "af6c76e3-b864-49e3-b704-2153102471b4",
     "showTitle": false,
     "tableResultSettingsMap": {},
     "title": ""
    }
   },
   "source": [
    "- duplicate_iens: Finds duplicate MVIPersonICN within the same InstitutionCode.\n",
    "\n",
    "- duplicate_icns: Identifies duplicate TreatingFacilityPersonIdentifier within an InstitutionCode"
   ]
  },
  {
   "cell_type": "markdown",
   "metadata": {
    "application/vnd.databricks.v1+cell": {
     "cellMetadata": {},
     "inputWidgets": {},
     "nuid": "c08151cd-dd42-47f6-94dc-f7fa706ced0d",
     "showTitle": false,
     "tableResultSettingsMap": {},
     "title": ""
    }
   },
   "source": [
    "### 7. Remove Duplicate Records\n",
    "\n",
    "This step removes records that were marked as duplicates."
   ]
  },
  {
   "cell_type": "code",
   "execution_count": 0,
   "metadata": {
    "application/vnd.databricks.v1+cell": {
     "cellMetadata": {
      "byteLimit": 2048000,
      "rowLimit": 10000
     },
     "inputWidgets": {},
     "nuid": "43fcaa93-43a0-42bc-b66f-adcb01b3fa3c",
     "showTitle": false,
     "tableResultSettingsMap": {},
     "title": ""
    }
   },
   "outputs": [],
   "source": [
    "correlations = (\n",
    "    relationship_df\n",
    "    .join(duplicate_iens, [\"MVIPersonICN\", \"InstitutionCode\"], \"left\")\n",
    "    .join(duplicate_icns, [\"InstitutionCode\", \"TreatingFacilityPersonIdentifier\"], \"left\")\n",
    ").cache()\n",
    "\n",
    "unduped_correlations = (\n",
    "    correlations\n",
    "    .filter(col(\"count_1\").isNull())\n",
    "    .filter(col(\"count_2\").isNull())\n",
    ").cache()\n"
   ]
  },
  {
   "cell_type": "markdown",
   "metadata": {
    "application/vnd.databricks.v1+cell": {
     "cellMetadata": {},
     "inputWidgets": {},
     "nuid": "052e4244-db3d-47d4-b89d-8ee70ea656b7",
     "showTitle": false,
     "tableResultSettingsMap": {},
     "title": ""
    }
   },
   "source": [
    "- Left joins with duplicate_iens and duplicate_icns to mark duplicates.\n",
    "\n",
    "- Filters out any records where a duplicate count exists (count is not NULL)."
   ]
  },
  {
   "cell_type": "code",
   "execution_count": 0,
   "metadata": {
    "application/vnd.databricks.v1+cell": {
     "cellMetadata": {
      "byteLimit": 2048000,
      "rowLimit": 10000
     },
     "inputWidgets": {},
     "nuid": "02bb7e0a-5484-463c-b804-2abf62d97221",
     "showTitle": false,
     "tableResultSettingsMap": {},
     "title": ""
    }
   },
   "outputs": [],
   "source": [
    "unduped_correlations.limit(5).display()"
   ]
  },
  {
   "cell_type": "markdown",
   "metadata": {
    "application/vnd.databricks.v1+cell": {
     "cellMetadata": {},
     "inputWidgets": {},
     "nuid": "4b15e91d-44e5-4614-82dd-64a0aaf233d4",
     "showTitle": false,
     "tableResultSettingsMap": {},
     "title": ""
    }
   },
   "source": [
    "### 8. Pivot the Data for Final Transformation\n",
    "The data is reshaped into a wide format using pivoting."
   ]
  },
  {
   "cell_type": "code",
   "execution_count": 0,
   "metadata": {
    "application/vnd.databricks.v1+cell": {
     "cellMetadata": {
      "byteLimit": 2048000,
      "rowLimit": 10000
     },
     "inputWidgets": {},
     "nuid": "681b16df-b9a1-4572-a0bf-cc2cb1f3b453",
     "showTitle": false,
     "tableResultSettingsMap": {},
     "title": ""
    }
   },
   "outputs": [],
   "source": [
    "icn_master = (\n",
    "    unduped_correlations.join(person_df, [\"MVIPersonICN\"], \"left\")\n",
    "    .groupBy(\"MVIPersonICN\")\n",
    "    .pivot(\"InstitutionCode\", [\"200CORP\", \"200DOD\", \"200VETS\"])\n",
    "    .agg(first(\"TreatingFacilityPersonIdentifier\"))\n",
    "    .join(person_df.select(\"MVIPersonICN\", \"ICNStatus\"), [\"MVIPersonICN\"], \"left\")\n",
    "    .withColumnRenamed(\"ICNStatus\", \"icn_status\")\n",
    "    .withColumnRenamed(\"200CORP\", \"participant_id\")\n",
    "    .withColumnRenamed(\"200DOD\", \"edipi\")\n",
    "    .withColumnRenamed(\"200VETS\", \"va_profile_id\")\n",
    ").cache()\n"
   ]
  },
  {
   "cell_type": "code",
   "execution_count": 0,
   "metadata": {
    "application/vnd.databricks.v1+cell": {
     "cellMetadata": {
      "byteLimit": 2048000,
      "rowLimit": 10000
     },
     "inputWidgets": {},
     "nuid": "a6a4bdeb-9b8e-470f-8c93-31f54052050c",
     "showTitle": false,
     "tableResultSettingsMap": {},
     "title": ""
    }
   },
   "outputs": [],
   "source": [
    "icn_master.display()"
   ]
  },
  {
   "cell_type": "markdown",
   "metadata": {
    "application/vnd.databricks.v1+cell": {
     "cellMetadata": {},
     "inputWidgets": {},
     "nuid": "17e3e5a5-b7f9-42f0-969e-2a99b0020af7",
     "showTitle": false,
     "tableResultSettingsMap": {},
     "title": ""
    }
   },
   "source": [
    "Joins unduped_correlations with person_df to bring in ICNStatus.\n",
    "\n",
    "Pivots on InstitutionCode to create separate columns for:\n",
    "\n",
    "- 200CORP → 6061 → participant_id\n",
    "\n",
    "- 200DOD → 5667 → edipi \n",
    "\n",
    "- 200VETS → 6722 → va_profile_id\n",
    "\n",
    "- Renames columns for clarity.\n",
    "\n"
   ]
  },
  {
   "cell_type": "markdown",
   "metadata": {
    "application/vnd.databricks.v1+cell": {
     "cellMetadata": {},
     "inputWidgets": {},
     "nuid": "b6226765-b0c6-4397-b4a4-b33e39dcf2ba",
     "showTitle": false,
     "tableResultSettingsMap": {},
     "title": ""
    }
   },
   "source": [
    "Final Output\n",
    "The final dataset icn_master contains:\n",
    "\n",
    "MVIPersonICN: Unique person identifier.\n",
    "\n",
    "participant_id: Corresponding Treating Facility ID for 200CORP.\n",
    "\n",
    "edipi: Corresponding Treating Facility ID for 200DOD.\n",
    "\n",
    "va_profile_id: Corresponding Treating Facility ID for 200VETS.\n",
    "\n",
    "icn_status: ICN status for the person."
   ]
  },
  {
   "cell_type": "markdown",
   "metadata": {
    "application/vnd.databricks.v1+cell": {
     "cellMetadata": {},
     "inputWidgets": {},
     "nuid": "13ecb1d1-a97a-4a54-b765-b8f26a71788b",
     "showTitle": false,
     "tableResultSettingsMap": {},
     "title": ""
    }
   },
   "source": [
    "Summary\n",
    "This PySpark workflow processes three datasets (PSA, Person, Institution) to:\n",
    "\n",
    "Load data from Parquet files.\n",
    "\n",
    "Filter and retain the latest records using window functions.\n",
    "\n",
    "Join PSA data with institution mappings.\n",
    "\n",
    "Identify and remove duplicate records.\n",
    "\n",
    "Pivot data to create a structured master dataset.\n",
    "\n",
    "This workflow ensures efficient processing, eliminates duplicates, and provides a final structured dataset ready for further analysis."
   ]
  },
  {
   "cell_type": "markdown",
   "metadata": {
    "application/vnd.databricks.v1+cell": {
     "cellMetadata": {},
     "inputWidgets": {},
     "nuid": "3edda9d6-4bee-4913-980b-157f08a0f72a",
     "showTitle": false,
     "tableResultSettingsMap": {},
     "title": ""
    }
   },
   "source": [
    "### Duplicate Identities"
   ]
  },
  {
   "cell_type": "code",
   "execution_count": 0,
   "metadata": {
    "application/vnd.databricks.v1+cell": {
     "cellMetadata": {
      "byteLimit": 2048000,
      "rowLimit": 10000
     },
     "inputWidgets": {},
     "nuid": "8f15ae53-56a6-41cc-b000-ffa724957a88",
     "showTitle": false,
     "tableResultSettingsMap": {},
     "title": ""
    }
   },
   "outputs": [],
   "source": [
    "duplicate_correlations = (\n",
    "    correlations\n",
    "    .filter(col(\"count_1\").isNotNull() | col(\"count_2\").isNotNull())\n",
    ").cache()"
   ]
  },
  {
   "cell_type": "code",
   "execution_count": 0,
   "metadata": {
    "application/vnd.databricks.v1+cell": {
     "cellMetadata": {
      "byteLimit": 2048000,
      "rowLimit": 10000
     },
     "inputWidgets": {},
     "nuid": "5eb4c59d-c38e-4818-8c8c-1c8e0e8e16bb",
     "showTitle": false,
     "tableResultSettingsMap": {},
     "title": ""
    }
   },
   "outputs": [],
   "source": [
    "duplicate_correlations.display()"
   ]
  },
  {
   "cell_type": "code",
   "execution_count": 0,
   "metadata": {
    "application/vnd.databricks.v1+cell": {
     "cellMetadata": {
      "byteLimit": 2048000,
      "rowLimit": 10000
     },
     "inputWidgets": {},
     "nuid": "cbd1c838-f5dd-417a-9477-775d5687fdb9",
     "showTitle": false,
     "tableResultSettingsMap": {},
     "title": ""
    }
   },
   "outputs": [],
   "source": [
    "duplicate_correlations.display()\n"
   ]
  },
  {
   "cell_type": "code",
   "execution_count": 0,
   "metadata": {
    "application/vnd.databricks.v1+cell": {
     "cellMetadata": {
      "byteLimit": 2048000,
      "rowLimit": 10000
     },
     "inputWidgets": {},
     "nuid": "b71f105b-30b1-4c6a-881c-c669616d8c96",
     "showTitle": false,
     "tableResultSettingsMap": {},
     "title": ""
    }
   },
   "outputs": [],
   "source": [
    "duplicate_correlations.filter(duplicate_correlations.MVIPersonICN == 1035192139).display()"
   ]
  },
  {
   "cell_type": "code",
   "execution_count": 0,
   "metadata": {
    "application/vnd.databricks.v1+cell": {
     "cellMetadata": {
      "byteLimit": 2048000,
      "rowLimit": 10000
     },
     "inputWidgets": {},
     "nuid": "8331af99-2ce5-4f48-9de4-298307466bf6",
     "showTitle": false,
     "tableResultSettingsMap": {},
     "title": ""
    }
   },
   "outputs": [],
   "source": [
    "duplicate_correlations.filter(duplicate_correlations.MVIPersonICN == 1035192139).display()\n"
   ]
  },
  {
   "cell_type": "code",
   "execution_count": 0,
   "metadata": {
    "application/vnd.databricks.v1+cell": {
     "cellMetadata": {
      "byteLimit": 2048000,
      "rowLimit": 10000
     },
     "inputWidgets": {},
     "nuid": "b377fd1c-d8a4-4578-85dc-4079b1cec23e",
     "showTitle": false,
     "tableResultSettingsMap": {},
     "title": ""
    }
   },
   "outputs": [],
   "source": [
    "unduped_correlations.filter(duplicate_correlations.TreatingFacilityPersonIdentifier == 10050359).display()\n"
   ]
  },
  {
   "cell_type": "code",
   "execution_count": 0,
   "metadata": {
    "application/vnd.databricks.v1+cell": {
     "cellMetadata": {
      "byteLimit": 2048000,
      "rowLimit": 10000
     },
     "inputWidgets": {},
     "nuid": "72869336-2010-4ad3-b17f-dda544b3e92e",
     "showTitle": false,
     "tableResultSettingsMap": {},
     "title": ""
    }
   },
   "outputs": [],
   "source": [
    "duplicate_correlations.filter(duplicate_correlations.TreatingFacilityPersonIdentifier == 10050359).display()\n"
   ]
  },
  {
   "cell_type": "code",
   "execution_count": 0,
   "metadata": {
    "application/vnd.databricks.v1+cell": {
     "cellMetadata": {
      "byteLimit": 2048000,
      "rowLimit": 10000
     },
     "inputWidgets": {},
     "nuid": "161bc215-5c65-48eb-b469-e2029c5886ad",
     "showTitle": false,
     "tableResultSettingsMap": {},
     "title": ""
    }
   },
   "outputs": [],
   "source": [
    "psa_df.filter(psa_df.TreatingFacilityPersonIdentifier == 10050359).display()"
   ]
  },
  {
   "cell_type": "code",
   "execution_count": 0,
   "metadata": {
    "application/vnd.databricks.v1+cell": {
     "cellMetadata": {
      "byteLimit": 2048000,
      "implicitDf": true,
      "rowLimit": 10000
     },
     "inputWidgets": {},
     "nuid": "966b619e-f31b-4fda-89cc-3c601e68ff70",
     "showTitle": false,
     "tableResultSettingsMap": {},
     "title": ""
    }
   },
   "outputs": [],
   "source": [
    "%sql\n",
    "SELECT *\n",
    "FROM delta.`/mnt/Patronage/identity_correlations` --`/mnt/Patronage/distinct_identity_correlations`\n",
    "WHERE MVIPersonICN IN (1062563044, 1005082557, 1035192139, 1008247960,1014287787,1079672752)"
   ]
  },
  {
   "cell_type": "code",
   "execution_count": 0,
   "metadata": {
    "application/vnd.databricks.v1+cell": {
     "cellMetadata": {
      "byteLimit": 2048000,
      "rowLimit": 10000
     },
     "inputWidgets": {},
     "nuid": "ba8d70f8-0656-48f7-9e53-a7c9d4c1711d",
     "showTitle": false,
     "tableResultSettingsMap": {},
     "title": ""
    }
   },
   "outputs": [],
   "source": [
    "relationship_df.createOrReplaceTempView(\"relationship_df\")\n",
    "unduped_correlations.createOrReplaceTempView(\"unduped_correlations\")\n",
    "person.createOrReplaceTempView('person')"
   ]
  },
  {
   "cell_type": "code",
   "execution_count": 0,
   "metadata": {
    "application/vnd.databricks.v1+cell": {
     "cellMetadata": {
      "byteLimit": 2048000,
      "implicitDf": true,
      "rowLimit": 10000
     },
     "inputWidgets": {},
     "nuid": "58ed4c1a-ebda-4272-bab5-1f29a0e88f1b",
     "showTitle": false,
     "tableResultSettingsMap": {},
     "title": ""
    }
   },
   "outputs": [],
   "source": [
    "%sql\n",
    "SELECT count(*), 'dist_count'\n",
    "FROM delta.`/mnt/Patronage/distinct_identity_correlations`\n",
    "UNION\n",
    "SELECT count(*), 'old_count'\n",
    "FROM delta.`/mnt/Patronage/identity_correlations`\n",
    "-- 61276959"
   ]
  },
  {
   "cell_type": "code",
   "execution_count": 0,
   "metadata": {
    "application/vnd.databricks.v1+cell": {
     "cellMetadata": {
      "byteLimit": 2048000,
      "implicitDf": true,
      "rowLimit": 10000
     },
     "inputWidgets": {},
     "nuid": "aa03416b-941b-4446-801d-e907b89732b7",
     "showTitle": false,
     "tableResultSettingsMap": {},
     "title": ""
    }
   },
   "outputs": [],
   "source": [
    "%sql\n",
    "SELECT *\n",
    "FROM delta.`/mnt/Patronage/distinct_identity_correlations` \n",
    "WHERE MVIPersonICN NOT IN (SELECT MVIPersonICN\n",
    "FROM delta.`/mnt/Patronage/identity_correlations`)"
   ]
  },
  {
   "cell_type": "code",
   "execution_count": 0,
   "metadata": {
    "application/vnd.databricks.v1+cell": {
     "cellMetadata": {
      "byteLimit": 2048000,
      "rowLimit": 10000
     },
     "inputWidgets": {},
     "nuid": "4f106f64-2c07-4147-8984-6151b87536f3",
     "showTitle": false,
     "tableResultSettingsMap": {},
     "title": ""
    }
   },
   "outputs": [],
   "source": [
    "relationship_df.createOrReplaceTempView(\"relationship_df\")\n",
    "unduped_correlations.createOrReplaceTempView(\"unduped_correlations\")\n",
    "person_df.createOrReplaceTempView('person')"
   ]
  },
  {
   "cell_type": "code",
   "execution_count": 0,
   "metadata": {
    "application/vnd.databricks.v1+cell": {
     "cellMetadata": {
      "byteLimit": 2048000,
      "rowLimit": 10000
     },
     "inputWidgets": {},
     "nuid": "62151339-e0e2-4ae1-a1af-90c1b09a61f2",
     "showTitle": false,
     "tableResultSettingsMap": {},
     "title": ""
    }
   },
   "outputs": [],
   "source": [
    "icn_master = spark.sql(\"\"\"\n",
    "    with 200CORP as (\n",
    "    select\n",
    "        MVIPersonICN,\n",
    "        TreatingFacilityPersonIdentifier, \n",
    "        Last_Modified\n",
    "    from\n",
    "        unduped_correlations\n",
    "    where\n",
    "        InstitutionCode = '200CORP'\n",
    "    ),\n",
    "    200DOD as (\n",
    "    select\n",
    "        MVIPersonICN,\n",
    "        TreatingFacilityPersonIdentifier,\n",
    "        Last_Modified\n",
    "    from\n",
    "        unduped_correlations\n",
    "    where\n",
    "        InstitutionCode = '200DOD'\n",
    "    ),\n",
    "    200VETS as (\n",
    "    select\n",
    "        MVIPersonICN,\n",
    "        TreatingFacilityPersonIdentifier,\n",
    "        Last_Modified\n",
    "    from\n",
    "        unduped_correlations\n",
    "    where\n",
    "        InstitutionCode = '200VETS'\n",
    "    ),\n",
    "    unique_ICNs as (\n",
    "    select MVIPersonICN, max(Last_Modified) as record_updated_date from relationship_df group by 1\n",
    "    ),\n",
    "    person as (\n",
    "        select MVIPersonICN, ICNStatus from person\n",
    "    )\n",
    "    select\n",
    "    a.MVIPersonICN,\n",
    "    b.TreatingFacilityPersonIdentifier as participant_id,\n",
    "    c.TreatingFacilityPersonIdentifier as edipi,\n",
    "    d.TreatingFacilityPersonIdentifier as va_profile_id,\n",
    "    e.ICNSTatus as icn_status,\n",
    "    a.record_updated_date\n",
    "    from\n",
    "    unique_ICNs a\n",
    "    left join 200CORP b on a.MVIPersonICN = b.MVIPersonICN\n",
    "    left join 200DOD c on a.MVIPersonICN = c.MVIPersonICN\n",
    "    left join 200VETS d on a.MVIPersonICN = d.MVIPersonICN\n",
    "    left join person e on a.MVIPersonICN = e.MVIPersonICN\n",
    "    \"\"\")"
   ]
  },
  {
   "cell_type": "code",
   "execution_count": 0,
   "metadata": {
    "application/vnd.databricks.v1+cell": {
     "cellMetadata": {
      "byteLimit": 2048000,
      "rowLimit": 10000
     },
     "inputWidgets": {},
     "nuid": "17bd3cb5-4cfe-45d8-96e0-1aaac819ce33",
     "showTitle": false,
     "tableResultSettingsMap": {},
     "title": ""
    }
   },
   "outputs": [],
   "source": [
    "dbutils.fs.rm('/mnt/Patronage/distinct_identity_correlations', True)"
   ]
  },
  {
   "cell_type": "code",
   "execution_count": 0,
   "metadata": {
    "application/vnd.databricks.v1+cell": {
     "cellMetadata": {
      "byteLimit": 2048000,
      "implicitDf": true,
      "rowLimit": 10000
     },
     "inputWidgets": {},
     "nuid": "953fa584-0917-48f1-b875-e1948f433cc5",
     "showTitle": false,
     "tableResultSettingsMap": {},
     "title": ""
    }
   },
   "outputs": [],
   "source": [
    "%sql\n",
    "drop table delta.`/mnt/Patronage/distinct_identity_correlations`"
   ]
  },
  {
   "cell_type": "code",
   "execution_count": 0,
   "metadata": {
    "application/vnd.databricks.v1+cell": {
     "cellMetadata": {
      "byteLimit": 2048000,
      "rowLimit": 10000
     },
     "inputWidgets": {},
     "nuid": "d490fc5d-1d50-4729-ad89-9c359bcc3f17",
     "showTitle": false,
     "tableResultSettingsMap": {},
     "title": ""
    }
   },
   "outputs": [],
   "source": [
    "icn_master.write.format(\"delta\").mode(\"overwrite\").save(\n",
    "        \"/mnt/Patronage/distinct_identity_correlations\"\n",
    "    )"
   ]
  },
  {
   "cell_type": "code",
   "execution_count": 0,
   "metadata": {
    "application/vnd.databricks.v1+cell": {
     "cellMetadata": {
      "byteLimit": 2048000,
      "implicitDf": true,
      "rowLimit": 10000
     },
     "inputWidgets": {},
     "nuid": "87fd5587-0c4c-4e7b-bb13-c43dfa5582da",
     "showTitle": false,
     "tableResultSettingsMap": {},
     "title": ""
    }
   },
   "outputs": [],
   "source": [
    "%sql\n",
    "SELECT *\n",
    "FROM delta.`/mnt/Patronage/distinct_identity_correlations`\n",
    "WHERE MVIPersonICN == 1006433939"
   ]
  },
  {
   "cell_type": "code",
   "execution_count": 0,
   "metadata": {
    "application/vnd.databricks.v1+cell": {
     "cellMetadata": {
      "byteLimit": 2048000,
      "implicitDf": true,
      "rowLimit": 10000
     },
     "inputWidgets": {},
     "nuid": "4d229653-beeb-41b5-9d92-f6e2d89bedfc",
     "showTitle": false,
     "tableResultSettingsMap": {},
     "title": ""
    }
   },
   "outputs": [],
   "source": [
    "%sql\n",
    "SELECT *\n",
    "FROM delta.`/mnt/Patronage/identity_correlations`\n",
    "WHERE MVIPersonICN ==  1008247960"
   ]
  },
  {
   "cell_type": "code",
   "execution_count": 0,
   "metadata": {
    "application/vnd.databricks.v1+cell": {
     "cellMetadata": {
      "byteLimit": 2048000,
      "rowLimit": 10000
     },
     "inputWidgets": {},
     "nuid": "9717ec17-d66f-4443-afc3-688a54a5650a",
     "showTitle": false,
     "tableResultSettingsMap": {},
     "title": ""
    }
   },
   "outputs": [],
   "source": [
    "icn_master.createOrReplaceTempView(\"icn_mast\")"
   ]
  },
  {
   "cell_type": "code",
   "execution_count": 0,
   "metadata": {
    "application/vnd.databricks.v1+cell": {
     "cellMetadata": {
      "byteLimit": 2048000,
      "implicitDf": true,
      "rowLimit": 10000
     },
     "inputWidgets": {},
     "nuid": "bd63cfd8-26d3-4fa6-8747-166363f2b707",
     "showTitle": false,
     "tableResultSettingsMap": {},
     "title": ""
    }
   },
   "outputs": [],
   "source": [
    "%sql\n",
    "SELECT *\n",
    "FROM icn_mast\n",
    "WHERE MVIPersonICN == 1006433939"
   ]
  },
  {
   "cell_type": "code",
   "execution_count": 0,
   "metadata": {
    "application/vnd.databricks.v1+cell": {
     "cellMetadata": {
      "byteLimit": 2048000,
      "implicitDf": true,
      "rowLimit": 10000
     },
     "inputWidgets": {},
     "nuid": "c3ce6d79-ea5c-4629-9944-0ad94eba7486",
     "showTitle": false,
     "tableResultSettingsMap": {},
     "title": ""
    }
   },
   "outputs": [],
   "source": [
    "%sql\n",
    "SELECT * FROM (DESCRIBE HISTORY delta.`/mnt/Patronage/identity_correlations`) "
   ]
  },
  {
   "cell_type": "code",
   "execution_count": 0,
   "metadata": {
    "application/vnd.databricks.v1+cell": {
     "cellMetadata": {
      "byteLimit": 2048000,
      "implicitDf": true,
      "rowLimit": 10000
     },
     "inputWidgets": {},
     "nuid": "8508ffe1-0a15-4eb4-8535-c0541564cffb",
     "showTitle": false,
     "tableResultSettingsMap": {},
     "title": ""
    }
   },
   "outputs": [],
   "source": [
    "%sql\n",
    "select current_timestamp()"
   ]
  }
 ],
 "metadata": {
  "application/vnd.databricks.v1+notebook": {
   "computePreferences": null,
   "dashboards": [],
   "environmentMetadata": {
    "base_environment": "",
    "environment_version": "1"
   },
   "inputWidgetPreferences": null,
   "language": "python",
   "notebookMetadata": {
    "mostRecentlyExecutedCommandWithImplicitDF": {
     "commandId": 3379926646670702,
     "dataframes": [
      "_sqldf"
     ]
    },
    "pythonIndentUnit": 4
   },
   "notebookName": "Documenting ICN-IEN Relationship code",
   "widgets": {}
  },
  "language_info": {
   "name": "python"
  }
 },
 "nbformat": 4,
 "nbformat_minor": 0
}

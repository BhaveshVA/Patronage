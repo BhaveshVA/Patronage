{
 "cells": [
  {
   "cell_type": "code",
   "execution_count": 0,
   "metadata": {
    "application/vnd.databricks.v1+cell": {
     "cellMetadata": {
      "byteLimit": 2048000,
      "rowLimit": 10000
     },
     "inputWidgets": {},
     "nuid": "b618d05d-7241-42f1-b1b2-c421cd17f849",
     "showTitle": false,
     "tableResultSettingsMap": {},
     "title": ""
    }
   },
   "outputs": [],
   "source": [
    "SELECT *\n",
    "FROM mypatronage_test\n",
    "LIMIT 1"
   ]
  },
  {
   "cell_type": "code",
   "execution_count": 0,
   "metadata": {
    "application/vnd.databricks.v1+cell": {
     "cellMetadata": {
      "byteLimit": 2048000,
      "rowLimit": 10000
     },
     "inputWidgets": {},
     "nuid": "d6beac77-febc-4b67-b77b-23a29f103ee2",
     "showTitle": false,
     "tableResultSettingsMap": {},
     "title": ""
    }
   },
   "outputs": [
    {
     "output_type": "display_data",
     "data": {
      "text/plain": [
       "Databricks visualization. Run in Databricks to view."
      ]
     },
     "metadata": {
      "application/vnd.databricks.v1.subcommand+json": {
       "baseErrorDetails": null,
       "bindings": {},
       "collapsed": false,
       "command": "%sql WITH q AS (select * from `default`.`dmdc_checkpoint` \norder by 1 desc\nlimit 8) SELECT `checkpoint_timestamp`,SUM(`record_count`) `column_9300f4c7111` FROM q GROUP BY `checkpoint_timestamp`",
       "commandTitle": "Number of Records sent to DMDC in past 4 weeks",
       "commandType": "auto",
       "commandVersion": 0,
       "commentThread": [],
       "commentsVisible": false,
       "contentSha256Hex": null,
       "customPlotOptions": {
        "redashChart": [
         {
          "key": "type",
          "value": "CHART"
         },
         {
          "key": "options",
          "value": {
           "alignYAxesAtZero": true,
           "coefficient": 1,
           "columnConfigurationMap": {
            "x": {
             "column": "checkpoint_timestamp",
             "id": "column_9300f4c7108"
            },
            "y": [
             {
              "column": "record_count",
              "id": "column_9300f4c7111",
              "transform": "SUM"
             }
            ]
           },
           "dateTimeFormat": "DD/MM/YYYY HH:mm",
           "direction": {
            "type": "counterclockwise"
           },
           "error_y": {
            "type": "data",
            "visible": true
           },
           "globalSeriesType": "line",
           "hideYAxes": true,
           "isAggregationOn": true,
           "legend": {
            "traceorder": "normal"
           },
           "missingValuesAsZero": true,
           "numberFormat": "0,0.[00000]",
           "percentFormat": "0[.]00%",
           "series": {
            "error_y": {
             "type": "data",
             "visible": true
            },
            "percentValues": false,
            "stacking": "stack"
           },
           "seriesOptions": {
            "column_9300f4c7111": {
             "color": "#8BCAE7",
             "type": "line",
             "yAxis": 0
            }
           },
           "showDataLabels": true,
           "sizemode": "diameter",
           "sortX": true,
           "sortY": true,
           "swappedAxes": false,
           "textFormat": "",
           "useAggregationsUi": true,
           "valuesOptions": {},
           "version": 2,
           "xAxis": {
            "labels": {
             "enabled": true
            },
            "title": {
             "text": "Date sent"
            },
            "type": "-"
           },
           "yAxis": [
            {
             "title": {
              "text": "Number of Records"
             },
             "type": "-"
            },
            {
             "opposite": true,
             "type": "-"
            }
           ]
          }
         }
        ]
       },
       "datasetPreviewNameToCmdIdMap": {},
       "diffDeletes": [],
       "diffInserts": [],
       "displayType": "redashChart",
       "error": null,
       "errorDetails": null,
       "errorSummary": null,
       "errorTraceType": null,
       "finishTime": 0,
       "globalVars": {},
       "guid": "",
       "height": "auto",
       "hideCommandCode": false,
       "hideCommandResult": false,
       "iPythonMetadata": null,
       "inputWidgets": {},
       "isLockedInExamMode": false,
       "latestUser": "a user",
       "latestUserId": null,
       "listResultMetadata": null,
       "metadata": {
        "byteLimit": 2048000,
        "rowLimit": 10000
       },
       "nuid": "4495bcbc-8a55-40f6-8e82-21ffffeff371",
       "origId": 0,
       "parentHierarchy": [],
       "pivotAggregation": null,
       "pivotColumns": null,
       "position": 2.5,
       "resultDbfsErrorMessage": null,
       "resultDbfsStatus": "INLINED_IN_TREE",
       "results": null,
       "showCommandTitle": false,
       "startTime": 0,
       "state": "input",
       "streamStates": {},
       "subcommandOptions": {
        "queryPlan": {
         "groups": [
          {
           "column": "checkpoint_timestamp",
           "type": "column"
          }
         ],
         "selects": [
          {
           "column": "checkpoint_timestamp",
           "type": "column"
          },
          {
           "alias": "column_9300f4c7111",
           "args": [
            {
             "column": "record_count",
             "type": "column"
            }
           ],
           "function": "SUM",
           "type": "function"
          }
         ]
        }
       },
       "submitTime": 0,
       "subtype": "tableResultSubCmd.visualization",
       "tableResultIndex": 0,
       "tableResultSettingsMap": {},
       "useConsistentColors": false,
       "version": "CommandV1",
       "width": "auto",
       "workflows": null,
       "xColumns": null,
       "yColumns": null
      }
     },
     "output_type": "display_data"
    }
   ],
   "source": [
    "select * from `default`.`dmdc_checkpoint` \n",
    "order by 1 desc\n",
    "limit 8;"
   ]
  },
  {
   "cell_type": "code",
   "execution_count": 0,
   "metadata": {
    "application/vnd.databricks.v1+cell": {
     "cellMetadata": {
      "byteLimit": 2048000,
      "rowLimit": 10000
     },
     "inputWidgets": {},
     "nuid": "6fc790ff-8510-416a-8ee9-4de9404d8964",
     "showTitle": false,
     "tableResultSettingsMap": {},
     "title": ""
    }
   },
   "outputs": [
    {
     "output_type": "display_data",
     "data": {
      "text/plain": [
       "Databricks visualization. Run in Databricks to view."
      ]
     },
     "metadata": {
      "application/vnd.databricks.v1.subcommand+json": {
       "baseErrorDetails": null,
       "bindings": {},
       "collapsed": false,
       "command": "%sql WITH q AS (SELECT PT_INDICATOR, COUNT(1) as RecordCount\nFROM mypatronage_test\nWHERE RecordStatus\nAND BATCH_CD = 'SCD'\nGROUP BY 1\nORDER BY 1 desc, 2 desc) SELECT `PT_INDICATOR`,SUM(`RecordCount`) `column_7128e9a813`,`PT_INDICATOR` FROM q GROUP BY `PT_INDICATOR`",
       "commandTitle": "PT Indicator Count",
       "commandType": "auto",
       "commandVersion": 0,
       "commentThread": [],
       "commentsVisible": false,
       "contentSha256Hex": null,
       "customPlotOptions": {
        "redashChart": [
         {
          "key": "type",
          "value": "CHART"
         },
         {
          "key": "options",
          "value": {
           "alignYAxesAtZero": true,
           "coefficient": 1,
           "columnConfigurationMap": {
            "series": {
             "column": "PT_INDICATOR",
             "id": "column_7128e9a815"
            },
            "x": {
             "column": "PT_INDICATOR",
             "id": "column_7128e9a812"
            },
            "y": [
             {
              "column": "RecordCount",
              "id": "column_7128e9a813",
              "transform": "SUM"
             }
            ]
           },
           "dateTimeFormat": "DD/MM/YYYY HH:mm",
           "direction": {
            "type": "counterclockwise"
           },
           "error_y": {
            "type": "data",
            "visible": true
           },
           "globalSeriesType": "column",
           "hideYAxes": true,
           "isAggregationOn": true,
           "legend": {
            "traceorder": "reversed"
           },
           "missingValuesAsZero": true,
           "numberFormat": "‘0,’",
           "percentFormat": "0[.]00%",
           "series": {
            "error_y": {
             "type": "data",
             "visible": true
            },
            "stacking": null
           },
           "seriesOptions": {
            "N": {
             "color": "#8BCAE7",
             "zIndex": 0
            },
            "Y": {
             "color": "#FF3621",
             "zIndex": 1
            },
            "column_7128e9a813": {
             "name": "RecordCount",
             "yAxis": 0
            }
           },
           "showDataLabels": true,
           "sizemode": "diameter",
           "sortX": true,
           "sortY": true,
           "swappedAxes": false,
           "textFormat": "",
           "useAggregationsUi": true,
           "valuesOptions": {},
           "version": 2,
           "xAxis": {
            "labels": {
             "enabled": false
            },
            "title": {
             "text": "PT Indicator"
            },
            "type": "-"
           },
           "yAxis": [
            {
             "title": {
              "text": "Number of Records"
             },
             "type": "linear"
            },
            {
             "opposite": true,
             "type": "-"
            }
           ]
          }
         }
        ]
       },
       "datasetPreviewNameToCmdIdMap": {},
       "diffDeletes": [],
       "diffInserts": [],
       "displayType": "redashChart",
       "error": null,
       "errorDetails": null,
       "errorSummary": null,
       "errorTraceType": null,
       "finishTime": 0,
       "globalVars": {},
       "guid": "",
       "height": "429",
       "hideCommandCode": false,
       "hideCommandResult": false,
       "iPythonMetadata": null,
       "inputWidgets": {},
       "isLockedInExamMode": false,
       "latestUser": "a user",
       "latestUserId": null,
       "listResultMetadata": null,
       "metadata": {
        "byteLimit": 2048000,
        "rowLimit": 10000
       },
       "nuid": "33fe8e7c-50c5-4209-8494-cbc7b00ac56a",
       "origId": 0,
       "parentHierarchy": [],
       "pivotAggregation": null,
       "pivotColumns": null,
       "position": 3.0,
       "resultDbfsErrorMessage": null,
       "resultDbfsStatus": "INLINED_IN_TREE",
       "results": null,
       "showCommandTitle": false,
       "startTime": 0,
       "state": "input",
       "streamStates": {},
       "subcommandOptions": {
        "queryPlan": {
         "groups": [
          {
           "column": "PT_INDICATOR",
           "type": "column"
          },
          {
           "column": "PT_INDICATOR",
           "type": "column"
          }
         ],
         "selects": [
          {
           "column": "PT_INDICATOR",
           "type": "column"
          },
          {
           "alias": "column_7128e9a813",
           "args": [
            {
             "column": "RecordCount",
             "type": "column"
            }
           ],
           "function": "SUM",
           "type": "function"
          },
          {
           "column": "PT_INDICATOR",
           "type": "column"
          }
         ]
        }
       },
       "submitTime": 0,
       "subtype": "tableResultSubCmd.visualization",
       "tableResultIndex": 0,
       "tableResultSettingsMap": {},
       "useConsistentColors": false,
       "version": "CommandV1",
       "width": "auto",
       "workflows": null,
       "xColumns": null,
       "yColumns": null
      }
     },
     "output_type": "display_data"
    }
   ],
   "source": [
    "SELECT PT_INDICATOR, COUNT(1) as RecordCount\n",
    "FROM mypatronage_test\n",
    "WHERE RecordStatus\n",
    "AND BATCH_CD = 'SCD'\n",
    "GROUP BY 1\n",
    "ORDER BY 1 desc, 2 desc\n"
   ]
  },
  {
   "cell_type": "code",
   "execution_count": 0,
   "metadata": {
    "application/vnd.databricks.v1+cell": {
     "cellMetadata": {
      "byteLimit": 2048000,
      "rowLimit": 10000
     },
     "inputWidgets": {},
     "nuid": "74fea004-7534-4135-9f65-b86e1c573762",
     "showTitle": false,
     "tableResultSettingsMap": {},
     "title": ""
    }
   },
   "outputs": [
    {
     "output_type": "display_data",
     "data": {
      "text/plain": [
       "Databricks visualization. Run in Databricks to view."
      ]
     },
     "metadata": {
      "application/vnd.databricks.v1.subcommand+json": {
       "baseErrorDetails": null,
       "bindings": {},
       "collapsed": false,
       "command": "%sql WITH q AS (SELECT Applicant_Type, COUNT(1) as RecordCount\nFROM mypatronage_test\nWHERE RecordStatus\nAND BATCH_CD = 'CG'\nGROUP BY 1\nORDER BY RecordCount desc, 1) SELECT `Applicant_Type`,SUM(`RecordCount`) `column_b636d4a418`,`Applicant_Type` FROM q GROUP BY `Applicant_Type`",
       "commandTitle": "Caregivers Count",
       "commandType": "auto",
       "commandVersion": 0,
       "commentThread": [],
       "commentsVisible": false,
       "contentSha256Hex": null,
       "customPlotOptions": {
        "redashChart": [
         {
          "key": "type",
          "value": "CHART"
         },
         {
          "key": "options",
          "value": {
           "alignYAxesAtZero": false,
           "coefficient": 1,
           "columnConfigurationMap": {
            "series": {
             "column": "Applicant_Type",
             "id": "column_b636d4a420"
            },
            "x": {
             "column": "Applicant_Type",
             "id": "column_b636d4a417"
            },
            "y": [
             {
              "column": "RecordCount",
              "id": "column_b636d4a418",
              "transform": "SUM"
             }
            ]
           },
           "dateTimeFormat": "DD/MM/YYYY HH:mm",
           "direction": {
            "type": "counterclockwise"
           },
           "error_y": {
            "type": "data",
            "visible": true
           },
           "globalSeriesType": "column",
           "hideYAxes": false,
           "isAggregationOn": true,
           "legend": {
            "enabled": true,
            "placement": "right",
            "traceorder": "normal"
           },
           "missingValuesAsZero": true,
           "numberFormat": "‘0,’",
           "percentFormat": "0[.]00%",
           "reverseX": false,
           "series": {
            "error_y": {
             "type": "data",
             "visible": true
            },
            "stacking": null
           },
           "seriesOptions": {
            "General Caregiver": {
             "color": "#AB4057",
             "zIndex": 1
            },
            "Primary Caregiver": {
             "color": "#8BCAE7",
             "zIndex": 0
            },
            "Secondary Caregiver": {
             "color": "#00A972",
             "zIndex": 2
            },
            "column_b636d4a418": {
             "name": "RecordCount",
             "yAxis": 0
            }
           },
           "showDataLabels": true,
           "sizemode": "diameter",
           "sortX": false,
           "sortY": true,
           "swappedAxes": false,
           "textFormat": "",
           "useAggregationsUi": true,
           "valuesOptions": {},
           "version": 2,
           "xAxis": {
            "labels": {
             "enabled": false
            },
            "title": {
             "text": "Applicant Type"
            },
            "type": "-"
           },
           "yAxis": [
            {
             "rangeMin": 0,
             "title": {
              "text": "Number of Records"
             },
             "type": "-"
            },
            {
             "opposite": true,
             "type": "-"
            }
           ]
          }
         }
        ]
       },
       "datasetPreviewNameToCmdIdMap": {},
       "diffDeletes": [],
       "diffInserts": [],
       "displayType": "redashChart",
       "error": null,
       "errorDetails": null,
       "errorSummary": null,
       "errorTraceType": null,
       "finishTime": 0,
       "globalVars": {},
       "guid": "",
       "height": "auto",
       "hideCommandCode": false,
       "hideCommandResult": false,
       "iPythonMetadata": null,
       "inputWidgets": {},
       "isLockedInExamMode": false,
       "latestUser": "a user",
       "latestUserId": null,
       "listResultMetadata": null,
       "metadata": {
        "byteLimit": 2048000,
        "rowLimit": 10000
       },
       "nuid": "bbe378c0-e9ca-42b4-84ed-6d7897bc5841",
       "origId": 0,
       "parentHierarchy": [],
       "pivotAggregation": null,
       "pivotColumns": null,
       "position": 4.0,
       "resultDbfsErrorMessage": null,
       "resultDbfsStatus": "INLINED_IN_TREE",
       "results": null,
       "showCommandTitle": false,
       "startTime": 0,
       "state": "input",
       "streamStates": {},
       "subcommandOptions": {
        "queryPlan": {
         "groups": [
          {
           "column": "Applicant_Type",
           "type": "column"
          },
          {
           "column": "Applicant_Type",
           "type": "column"
          }
         ],
         "selects": [
          {
           "column": "Applicant_Type",
           "type": "column"
          },
          {
           "alias": "column_b636d4a418",
           "args": [
            {
             "column": "RecordCount",
             "type": "column"
            }
           ],
           "function": "SUM",
           "type": "function"
          },
          {
           "column": "Applicant_Type",
           "type": "column"
          }
         ]
        }
       },
       "submitTime": 0,
       "subtype": "tableResultSubCmd.visualization",
       "tableResultIndex": 0,
       "tableResultSettingsMap": {},
       "useConsistentColors": false,
       "version": "CommandV1",
       "width": "auto",
       "workflows": null,
       "xColumns": null,
       "yColumns": null
      }
     },
     "output_type": "display_data"
    }
   ],
   "source": [
    "SELECT Applicant_Type, COUNT(1) as RecordCount\n",
    "FROM mypatronage_test\n",
    "WHERE RecordStatus\n",
    "AND BATCH_CD = 'CG'\n",
    "GROUP BY 1\n",
    "ORDER BY RecordCount desc, 1"
   ]
  },
  {
   "cell_type": "code",
   "execution_count": 0,
   "metadata": {
    "application/vnd.databricks.v1+cell": {
     "cellMetadata": {
      "byteLimit": 2048000,
      "rowLimit": 10000
     },
     "inputWidgets": {},
     "nuid": "7ca45948-e899-4c6c-a693-041dc74903c9",
     "showTitle": false,
     "tableResultSettingsMap": {},
     "title": ""
    }
   },
   "outputs": [
    {
     "output_type": "display_data",
     "data": {
      "text/plain": [
       "Databricks visualization. Run in Databricks to view."
      ]
     },
     "metadata": {
      "application/vnd.databricks.v1.subcommand+json": {
       "baseErrorDetails": null,
       "bindings": {},
       "collapsed": false,
       "command": "%sql WITH q AS (SELECT PT_Indicator, SC_Combined_Disability_Percentage as DisabilityPercent,  COUNT(1) as RecordCount\nFROM mypatronage_test\nWHERE RecordStatus\nAND BATCH_CD = 'SCD'\nGROUP BY 1,2\nORDER BY 1 desc, 2, 3 desc) SELECT `DisabilityPercent`,`PT_Indicator`,SUM(`RecordCount`) `column_b636d4a429` FROM q GROUP BY `DisabilityPercent`,`PT_Indicator`",
       "commandTitle": "%Disability PT_Indicator",
       "commandType": "auto",
       "commandVersion": 0,
       "commentThread": [],
       "commentsVisible": false,
       "contentSha256Hex": null,
       "customPlotOptions": {
        "redashChart": [
         {
          "key": "type",
          "value": "CHART"
         },
         {
          "key": "options",
          "value": {
           "alignYAxesAtZero": true,
           "coefficient": 1,
           "columnConfigurationMap": {
            "series": {
             "column": "PT_Indicator",
             "id": "column_b636d4a433"
            },
            "x": {
             "column": "DisabilityPercent",
             "id": "column_b636d4a432"
            },
            "y": [
             {
              "column": "RecordCount",
              "id": "column_b636d4a429",
              "transform": "SUM"
             }
            ]
           },
           "dateTimeFormat": "DD/MM/YYYY HH:mm",
           "direction": {
            "type": "counterclockwise"
           },
           "error_y": {
            "type": "data",
            "visible": true
           },
           "globalSeriesType": "column",
           "isAggregationOn": true,
           "legend": {
            "traceorder": "normal"
           },
           "missingValuesAsZero": true,
           "numberFormat": "‘0,’",
           "percentFormat": "0[.]00%",
           "series": {
            "error_y": {
             "type": "data",
             "visible": true
            },
            "percentValues": false,
            "stacking": "stack"
           },
           "seriesOptions": {
            "N": {
             "color": "#8BCAE7",
             "zIndex": 1
            },
            "Y": {
             "color": "#FF3621",
             "zIndex": 0
            },
            "column_b636d4a429": {
             "name": "RecordCount",
             "yAxis": 0
            }
           },
           "showDataLabels": true,
           "sizemode": "diameter",
           "sortX": true,
           "sortY": true,
           "swappedAxes": false,
           "textFormat": "",
           "useAggregationsUi": true,
           "valuesOptions": {},
           "version": 2,
           "xAxis": {
            "labels": {
             "enabled": true
            },
            "title": {
             "text": "%Disability "
            },
            "type": "-"
           },
           "yAxis": [
            {
             "title": {
              "text": "Number of Records"
             },
             "type": "-"
            },
            {
             "opposite": true,
             "type": "-"
            }
           ]
          }
         }
        ]
       },
       "datasetPreviewNameToCmdIdMap": {},
       "diffDeletes": [],
       "diffInserts": [],
       "displayType": "redashChart",
       "error": null,
       "errorDetails": null,
       "errorSummary": null,
       "errorTraceType": null,
       "finishTime": 0,
       "globalVars": {},
       "guid": "",
       "height": "auto",
       "hideCommandCode": false,
       "hideCommandResult": false,
       "iPythonMetadata": null,
       "inputWidgets": {},
       "isLockedInExamMode": false,
       "latestUser": "a user",
       "latestUserId": null,
       "listResultMetadata": null,
       "metadata": {
        "byteLimit": 2048000,
        "rowLimit": 10000
       },
       "nuid": "9caba09f-4f14-42d2-b3e7-197a7d685858",
       "origId": 0,
       "parentHierarchy": [],
       "pivotAggregation": null,
       "pivotColumns": null,
       "position": 5.0,
       "resultDbfsErrorMessage": null,
       "resultDbfsStatus": "INLINED_IN_TREE",
       "results": null,
       "showCommandTitle": false,
       "startTime": 0,
       "state": "input",
       "streamStates": {},
       "subcommandOptions": {
        "queryPlan": {
         "groups": [
          {
           "column": "DisabilityPercent",
           "type": "column"
          },
          {
           "column": "PT_Indicator",
           "type": "column"
          }
         ],
         "selects": [
          {
           "column": "DisabilityPercent",
           "type": "column"
          },
          {
           "column": "PT_Indicator",
           "type": "column"
          },
          {
           "alias": "column_b636d4a429",
           "args": [
            {
             "column": "RecordCount",
             "type": "column"
            }
           ],
           "function": "SUM",
           "type": "function"
          }
         ]
        }
       },
       "submitTime": 0,
       "subtype": "tableResultSubCmd.visualization",
       "tableResultIndex": 0,
       "tableResultSettingsMap": {},
       "useConsistentColors": false,
       "version": "CommandV1",
       "width": "auto",
       "workflows": null,
       "xColumns": null,
       "yColumns": null
      }
     },
     "output_type": "display_data"
    }
   ],
   "source": [
    "SELECT PT_Indicator, SC_Combined_Disability_Percentage as DisabilityPercent,  COUNT(1) as RecordCount\n",
    "FROM mypatronage_test\n",
    "WHERE RecordStatus\n",
    "AND BATCH_CD = 'SCD'\n",
    "GROUP BY 1,2\n",
    "ORDER BY 1 desc, 2, 3 desc"
   ]
  },
  {
   "cell_type": "code",
   "execution_count": 0,
   "metadata": {
    "application/vnd.databricks.v1+cell": {
     "cellMetadata": {
      "byteLimit": 2048000,
      "rowLimit": 10000
     },
     "inputWidgets": {},
     "nuid": "05df07ff-8bb1-4ce3-a000-db9316817e9b",
     "showTitle": false,
     "tableResultSettingsMap": {},
     "title": ""
    }
   },
   "outputs": [],
   "source": [
    "SELECT count(*), date_format(to_date(Status_Termination_date, 'yyyyMMdd'), 'MM-yyyy') as MonthYear\n",
    "FROM mypatronage_test\n",
    "WHERE date_format(to_date(Status_Termination_date, 'yyyyMMdd'), 'MM-yyyy') = date_format(current_date(), 'MM-yyyy')\n",
    "GROUP BY 2\n"
   ]
  },
  {
   "cell_type": "code",
   "execution_count": 0,
   "metadata": {
    "application/vnd.databricks.v1+cell": {
     "cellMetadata": {
      "byteLimit": 2048000,
      "rowLimit": 10000
     },
     "inputWidgets": {},
     "nuid": "1ca5399d-09a6-48d9-be05-f85cd5472c9c",
     "showTitle": false,
     "tableResultSettingsMap": {},
     "title": ""
    }
   },
   "outputs": [],
   "source": [
    "SELECT date_format(to_date(current_date(),'yyyyMMdd'), 'MM-yyyy')"
   ]
  },
  {
   "cell_type": "code",
   "execution_count": 0,
   "metadata": {
    "application/vnd.databricks.v1+cell": {
     "cellMetadata": {
      "byteLimit": 2048000,
      "rowLimit": 10000
     },
     "inputWidgets": {},
     "nuid": "14ba805b-d5ca-447b-ad16-6418414b349e",
     "showTitle": false,
     "tableResultSettingsMap": {},
     "title": ""
    }
   },
   "outputs": [],
   "source": [
    "WITH CTE AS\n",
    "  (SELECT Status_Termination_date, date_format(to_date(Status_Termination_date, 'yyyyMMdd'), 'MM-yyyy') AS Formatted_Termination_Date\n",
    "FROM mypatronage_test\n",
    "WHERE RecordStatus\n",
    "AND Batch_CD = 'CG'\n",
    "-- WHERE Status_Termination_date IS NOT NULL\n",
    ")\n",
    "SELECT count(*) FROM CTE\n",
    "WHERE Formatted_Termination_Date >= date_format(to_date(current_date(),'yyyyMMdd'), 'MM-yyyy')\n",
    "\n"
   ]
  },
  {
   "cell_type": "code",
   "execution_count": 0,
   "metadata": {
    "application/vnd.databricks.v1+cell": {
     "cellMetadata": {
      "byteLimit": 2048000,
      "rowLimit": 10000
     },
     "inputWidgets": {},
     "nuid": "f00dcc4b-2414-4fcc-9970-f3fa5d2875cc",
     "showTitle": false,
     "tableResultSettingsMap": {},
     "title": ""
    }
   },
   "outputs": [],
   "source": [
    "SELECT count(1)\n",
    "FROM mypatronage_test\n",
    "WHERE to_date(Status_Termination_date, 'yyyyMMdd') >= current_date()\n",
    "AND RecordStatus\n",
    "AND BATCH_CD = 'CG'\n",
    "-- AND Status_Termination_date IS NOT NULL\n",
    "-- GROUP BY Status_Termination_date"
   ]
  },
  {
   "cell_type": "code",
   "execution_count": 0,
   "metadata": {
    "application/vnd.databricks.v1+cell": {
     "cellMetadata": {
      "byteLimit": 2048000,
      "rowLimit": 10000
     },
     "inputWidgets": {},
     "nuid": "f3d33677-808b-4c51-bfee-265f34994a19",
     "showTitle": false,
     "tableResultSettingsMap": {},
     "title": ""
    }
   },
   "outputs": [],
   "source": [
    "SELECT\n",
    "  Batch_CD,\n",
    "  COALESCE(Monday, 0) AS Monday,\n",
    "  COALESCE(Tuesday, 0) AS Tuesday,\n",
    "  COALESCE(Wednesday, 0) AS Wednesday,\n",
    "  COALESCE(Thursday, 0) AS Thursday,\n",
    "  COALESCE(Friday, 0) AS Friday,\n",
    "  COALESCE(Saturday, 0) AS Saturday,\n",
    "  COALESCE(Sunday, 0) AS Sunday\n",
    "FROM\n",
    "  (\n",
    "    SELECT\n",
    "      Batch_CD,\n",
    "      date_format(SDP_Event_Created_Timestamp, 'EEEE') as Weekday,\n",
    "      count(*) as RecordCounts\n",
    "    FROM\n",
    "      mypatronage_test \n",
    "      WHERE extract(year from SDP_Event_Created_Timestamp) >= extract(YEAR FROM CURRENT_DATE()) --filters records based on the current year\n",
    "    GROUP BY\n",
    "      ALL\n",
    "  ) PIVOT (\n",
    "    ROUND(\n",
    "      sum(RecordCounts) / weekofyear(current_date()) -1,\n",
    "      0\n",
    "    ) FOR Weekday IN (\n",
    "      \"Monday\" as Monday,\n",
    "      \"Tuesday\" as Tuesday,\n",
    "      \"Wednesday\" as Wednesday,\n",
    "      \"Thursday\" as Thursday,\n",
    "      \"Friday\" as Friday,\n",
    "      \"Saturday\" as Saturday,\n",
    "      \"Sunday\" as Sunday\n",
    "    )\n",
    "  )\n",
    "GROUP BY ALL "
   ]
  },
  {
   "cell_type": "code",
   "execution_count": 0,
   "metadata": {
    "application/vnd.databricks.v1+cell": {
     "cellMetadata": {
      "byteLimit": 2048000,
      "rowLimit": 10000
     },
     "inputWidgets": {},
     "nuid": "4b1984bd-6b70-41ef-a32d-b9cbd21e183a",
     "showTitle": false,
     "tableResultSettingsMap": {},
     "title": ""
    }
   },
   "outputs": [],
   "source": [
    "SELECT\n",
    "      Batch_CD,\n",
    "      date_format(SDP_Event_Created_Timestamp, 'EEEE') as Weekday,\n",
    "      count(*) as RecordCounts\n",
    "    FROM\n",
    "      mypatronage_test \n",
    "      WHERE extract(year from SDP_Event_Created_Timestamp) >= extract(YEAR FROM CURRENT_DATE()) --filters records based on the current year\n",
    "    GROUP BY\n",
    "      ALL"
   ]
  }
 ],
 "metadata": {
  "application/vnd.databricks.v1+notebook": {
   "computePreferences": null,
   "dashboards": [
    {
     "elements": [
      {
       "dashboardResultIndex": null,
       "elementNUID": "33fe8e7c-50c5-4209-8494-cbc7b00ac56a",
       "elementType": "command",
       "guid": "0dc99224-6b0b-4184-885b-2b42a91ae110",
       "options": {
        "autoScaleImg": false,
        "scale": 0,
        "showRunButton": true,
        "showTitle": true,
        "title": "PT Indicator Count",
        "titleAlign": "center"
       },
       "position": {
        "height": 6,
        "width": 12,
        "x": 0,
        "y": 0,
        "z": null
       },
       "resultIndex": null
      },
      {
       "dashboardResultIndex": null,
       "elementNUID": "bbe378c0-e9ca-42b4-84ed-6d7897bc5841",
       "elementType": "command",
       "guid": "5d02f216-6e22-4aad-983a-1acc905e9f92",
       "options": {
        "autoScaleImg": false,
        "scale": 0,
        "showRunButton": true,
        "showTitle": true,
        "title": "Caregivers Count",
        "titleAlign": "center"
       },
       "position": {
        "height": 6,
        "width": 12,
        "x": 12,
        "y": 0,
        "z": null
       },
       "resultIndex": null
      },
      {
       "dashboardResultIndex": null,
       "elementNUID": "4495bcbc-8a55-40f6-8e82-21ffffeff371",
       "elementType": "command",
       "guid": "8570ad08-cdf5-412a-ae74-9ce3a183cdfe",
       "options": {
        "autoScaleImg": false,
        "scale": 0,
        "showRunButton": true,
        "showTitle": true,
        "title": "Records sent to DMDC in Past 4 weeks",
        "titleAlign": "center"
       },
       "position": {
        "height": 9,
        "width": 12,
        "x": 12,
        "y": 6,
        "z": null
       },
       "resultIndex": null
      },
      {
       "dashboardResultIndex": null,
       "elementNUID": "9caba09f-4f14-42d2-b3e7-197a7d685858",
       "elementType": "command",
       "guid": "af586130-b5f5-4d25-bc69-97449e7e315a",
       "options": {
        "autoScaleImg": false,
        "scale": 0,
        "showRunButton": true,
        "showTitle": true,
        "title": "PT Indicator Per Disability%",
        "titleAlign": "center"
       },
       "position": {
        "height": 9,
        "width": 12,
        "x": 0,
        "y": 6,
        "z": null
       },
       "resultIndex": null
      }
     ],
     "globalVars": {},
     "guid": "",
     "layoutOption": {
      "grid": true,
      "stack": false
     },
     "nuid": "06e831bd-ccaa-49fe-be49-f4ccd587ed78",
     "origId": 3879354366086472,
     "title": "Patronage",
     "version": "DashboardViewV1",
     "width": 1024
    }
   ],
   "environmentMetadata": {
    "base_environment": "",
    "environment_version": "2"
   },
   "inputWidgetPreferences": null,
   "language": "sql",
   "notebookMetadata": {
    "pythonIndentUnit": 4
   },
   "notebookName": "Patronage Dashboard",
   "widgets": {}
  },
  "language_info": {
   "name": "sql"
  }
 },
 "nbformat": 4,
 "nbformat_minor": 0
}

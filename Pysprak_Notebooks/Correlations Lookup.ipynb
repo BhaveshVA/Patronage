{
 "cells": [
  {
   "cell_type": "code",
   "execution_count": 0,
   "metadata": {
    "application/vnd.databricks.v1+cell": {
     "cellMetadata": {
      "byteLimit": 2048000,
      "rowLimit": 10000
     },
     "inputWidgets": {},
     "nuid": "596c1e28-999d-47d7-aa50-dbb987bab609",
     "showTitle": true,
     "tableResultSettingsMap": {},
     "title": "Loading required libraries"
    }
   },
   "outputs": [],
   "source": [
    "from pyspark.sql.functions import *\n",
    "from pyspark.sql.window import Window\n",
    "import json\n",
    "from delta import DeltaTable\n",
    "from datetime import *\n",
    "from pyspark.storagelevel import *\n"
   ]
  },
  {
   "cell_type": "code",
   "execution_count": 0,
   "metadata": {
    "application/vnd.databricks.v1+cell": {
     "cellMetadata": {
      "byteLimit": 2048000,
      "rowLimit": 10000
     },
     "collapsed": true,
     "inputWidgets": {},
     "nuid": "190be665-7b0b-4a25-8826-ce5e1c9a3749",
     "showTitle": false,
     "tableResultSettingsMap": {},
     "title": ""
    }
   },
   "outputs": [],
   "source": [
    "spark.conf.set(\"spark.sql.adaptive.enabled\", \"true\")"
   ]
  },
  {
   "cell_type": "code",
   "execution_count": 0,
   "metadata": {
    "application/vnd.databricks.v1+cell": {
     "cellMetadata": {
      "byteLimit": 2048000,
      "rowLimit": 10000
     },
     "inputWidgets": {},
     "nuid": "edf6d173-21ca-4a3f-a515-ba0c248e52c1",
     "showTitle": false,
     "tableResultSettingsMap": {},
     "title": ""
    }
   },
   "outputs": [],
   "source": [
    "spark.conf.set(\"spark.shuffle.partion\", \"200\")\n",
    "spark.catalog.clearCache()"
   ]
  },
  {
   "cell_type": "code",
   "execution_count": 0,
   "metadata": {
    "application/vnd.databricks.v1+cell": {
     "cellMetadata": {
      "byteLimit": 2048000,
      "rowLimit": 10000
     },
     "inputWidgets": {},
     "nuid": "43297bff-1591-4f3b-9d5a-e8c5af3c9ca7",
     "showTitle": false,
     "tableResultSettingsMap": {},
     "title": ""
    }
   },
   "outputs": [],
   "source": [
    "spark.sql(\"\"\"DROP TABLE IF EXISTS correlation_lookup\"\"\")\n",
    "dbutils.fs.rm(\"/mnt/ci-patronage/delta_tables/correlation_lookup\", True)"
   ]
  },
  {
   "cell_type": "code",
   "execution_count": 0,
   "metadata": {
    "application/vnd.databricks.v1+cell": {
     "cellMetadata": {
      "byteLimit": 2048000,
      "rowLimit": 10000
     },
     "inputWidgets": {},
     "nuid": "4b20bec4-d4cc-48ae-aaf3-24fb0326d672",
     "showTitle": true,
     "tableResultSettingsMap": {},
     "title": "Path to data sources and required columns"
    }
   },
   "outputs": [],
   "source": [
    "# psa = \"/mnt/ci-mvi/Processed/SVeteran.SMVIPersonSiteAssociation/\"\n",
    "# person = \"dbfs:/mnt/ci-mvi/Processed/SVeteran.SMVIPerson\"\n",
    "# mvi_institution = \"/mnt/ci-mvi/Raw/NDim.MVIInstitution/\"\n",
    "\n",
    "data_sources = {\n",
    "    \"psa\": {\n",
    "        \"path\": \"/mnt/ci-mvi/Processed/SVeteran.SMVIPersonSiteAssociation/\",\n",
    "        \"columns\": [\n",
    "        \"MVIPersonICN\",\n",
    "        \"MVITreatingFacilityInstitutionSID\",\n",
    "        \"TreatingFacilityPersonIdentifier\",\n",
    "        \"ActiveMergedIdentifier\",\n",
    "        \"CorrelationModifiedDateTime\",\n",
    "        ],\n",
    "        \"filter_condition\": ((col(\"MVIPersonICN\").isNotNull()) &\n",
    "            (col(\"TreatingFacilityPersonIdentifier\").rlike(\"^[0-9]+$\")) & \n",
    "            # (col(\"MVITreatingFacilityInstitutionSID\").isin([5667, 6061, 6722])) &\n",
    "            ((col(\"ActiveMergedIdentifier\") == \"Active\") | col(\"ActiveMergedIdentifier\").isNull())),\n",
    "        \"WindowSpec\": Window.partitionBy('MVIPersonICN', 'MVITreatingFacilityInstitutionSID', 'TreatingFacilityPersonIdentifier').orderBy(desc('CorrelationModifiedDateTime'))\n",
    "    },\n",
    "    \"person\": {\n",
    "        \"path\":\"/mnt/ci-mvi/Processed/SVeteran.SMVIPerson/\",\n",
    "        \"columns\" :[\"MVIPersonICN\", \"ICNStatus\"],\n",
    "        \"filter_condition\": (col(\"rnk\") == 1),\n",
    "        \"WindowSpec\": Window.partitionBy('MVIPersonICN').orderBy(desc('calc_IngestionTimestamp'))\n",
    "        },\n",
    "    \"mvi_institution\":{\n",
    "        \"path\":\"/mnt/ci-mvi/Raw/NDim.MVIInstitution/\",\n",
    "        \"columns\": [\"MVIInstitutionSID\", \"InstitutionCode\"],\n",
    "        \"filter_condition\":(col(\"MVIInstitutionSID\").rlike(\"^[0-9]+$\")),\n",
    "        \"WindowSpec\":\"\"\n",
    "    }\n",
    "}\n",
    "\n",
    "def read_parquet(source_key):\n",
    "    source_info = data_sources[source_key]\n",
    "    path = source_info[\"path\"]\n",
    "    return spark.read.parquet(path)\n"
   ]
  },
  {
   "cell_type": "code",
   "execution_count": 0,
   "metadata": {
    "application/vnd.databricks.v1+cell": {
     "cellMetadata": {},
     "inputWidgets": {},
     "nuid": "fcb85fd8-9964-4275-9c8e-f09544ecac97",
     "showTitle": false,
     "tableResultSettingsMap": {},
     "title": ""
    }
   },
   "outputs": [],
   "source": []
  },
  {
   "cell_type": "code",
   "execution_count": 0,
   "metadata": {
    "application/vnd.databricks.v1+cell": {
     "cellMetadata": {
      "byteLimit": 2048000,
      "rowLimit": 10000
     },
     "inputWidgets": {},
     "nuid": "52c97553-98f0-4cc8-9ef2-18ad8bfa3c4c",
     "showTitle": true,
     "tableResultSettingsMap": {},
     "title": "Transforming Data"
    }
   },
   "outputs": [],
   "source": [
    "# Read and filter raw PSA DataFrame\n",
    "raw_psa_df = (read_parquet(\"psa\")\n",
    "    .filter(data_sources[\"psa\"][\"filter_condition\"])\n",
    "    .withColumn(\"rnk\", rank().over(data_sources[\"psa\"][\"WindowSpec\"]))\n",
    "    .filter(col(\"rnk\") == 1)\n",
    "    .select(data_sources[\"psa\"][\"columns\"])\n",
    "    .repartition(200, \"MVIPersonICN\")\n",
    ")\n",
    "\n",
    "# Read and filter Person DataFrame\n",
    "person_df = (\n",
    "    read_parquet(\"person\")\n",
    "    .withColumn(\n",
    "        \"rnk\",\n",
    "        rank().over(data_sources[\"person\"][\"WindowSpec\"]),\n",
    "    )\n",
    "    .filter(data_sources[\"person\"][\"filter_condition\"])\n",
    "    .select(data_sources[\"person\"][\"columns\"])\n",
    "    .repartition(200, \"MVIPersonICN\")\n",
    ")\n",
    "\n",
    "# Read and filter Institutions DataFrame\n",
    "\n",
    "institutions_df = (\n",
    "    read_parquet(\"mvi_institution\")\n",
    "    .filter(data_sources[\"mvi_institution\"][\"filter_condition\"])\n",
    "    .select(data_sources[\"mvi_institution\"][\"columns\"])\n",
    "    .distinct()\n",
    ")\n",
    "\n",
    "# Join DataFrames \n",
    "joined_df = (\n",
    "    raw_psa_df\n",
    "    .join(\n",
    "        broadcast(institutions_df),\n",
    "        raw_psa_df[\"MVITreatingFacilityInstitutionSID\"]\n",
    "        == institutions_df[\"MVIInstitutionSID\"],\n",
    "        \"left\",\n",
    "    )\n",
    "    .select(\n",
    "        raw_psa_df[\"MVIPersonICN\"],\n",
    "        institutions_df[\"InstitutionCode\"],\n",
    "        institutions_df[\"MVIInstitutionSID\"],\n",
    "        raw_psa_df[\"TreatingFacilityPersonIdentifier\"],\n",
    "        raw_psa_df[\"CorrelationModifiedDateTime\"]\n",
    "    )\n",
    "    .distinct()\n",
    ").repartition(200, \"MVIPersonICN\").cache()\n",
    "\n",
    "# Find Duplicates\n",
    "person_institution_dups = (\n",
    "    joined_df.groupBy(\"MVIPersonICN\", \"InstitutionCode\")\n",
    "    .count()\n",
    "    .filter(col(\"count\") > 1)\n",
    "    .withColumnRenamed(\"count\", \"count_iens\")\n",
    ")\n",
    "institution_tfpi_dups = (\n",
    "    joined_df.groupBy(\"InstitutionCode\", \"TreatingFacilityPersonIdentifier\")\n",
    "    .count()\n",
    "    .filter(col(\"count\") > 1)\n",
    "    .withColumnRenamed(\"count\", \"count_icns\")\n",
    ")\n",
    "# Clean correlations, filtering out duplicates\n",
    "\n",
    "correlations_df = (\n",
    "    joined_df\n",
    "    .join(broadcast(person_institution_dups), [\"MVIPersonICN\", \"InstitutionCode\"], \"left\")\n",
    "    .join(broadcast(institution_tfpi_dups), [\"InstitutionCode\", \"TreatingFacilityPersonIdentifier\"], \"left\", )\n",
    ").repartition(200, \"MVIPersonICN\").cache()\n",
    "\n",
    "duplicate_correlations_df = correlations_df.filter(col(\"count_iens\").isNotNull() | col(\"count_icns\").isNotNull())\n",
    "\n",
    "clean_correlations_df = (correlations_df\n",
    "                      .filter(col(\"count_iens\").isNull())\n",
    "                      .filter(col(\"count_icns\").isNull())\n",
    "                      .drop(\"count_iens\", \"count_icns\")\n",
    "                      .select(\"MVIPersonICN\",  \"CorrelationModifiedDateTime\", \"InstitutionCode\", \"TreatingFacilityPersonIdentifier\")\n",
    "                      .repartition(200, \"MVIPersonICN\").cache()\n",
    ")\n",
    "# Get max date for each MVIPersonICN\n",
    "max_date_df = (\n",
    "    joined_df\n",
    "    .groupBy(col(\"MVIPersonICN\"))\n",
    "    .agg(max(\"CorrelationModifiedDateTime\").alias(\"Last_Modified_Date\"))\n",
    ").repartition(200, \"MVIPersonICN\").cache()"
   ]
  },
  {
   "cell_type": "code",
   "execution_count": 0,
   "metadata": {
    "application/vnd.databricks.v1+cell": {
     "cellMetadata": {
      "byteLimit": 2048000,
      "rowLimit": 10000
     },
     "inputWidgets": {},
     "nuid": "d4f1a383-cbe6-4345-80a9-666d42cf0fd3",
     "showTitle": true,
     "tableResultSettingsMap": {},
     "title": "Preparing data for \"participant_id\", \"edipi\", \"va_profile_id\" ONLY"
    }
   },
   "outputs": [],
   "source": [
    "start = datetime.now()\n",
    "correlation_lookup_df = (\n",
    "    max_date_df.join(clean_correlations_df, ['MVIPersonICN'], 'left').join(person_df, ['MVIPersonICN'], \"left\")\n",
    "    .groupBy(\"MVIPersonICN\",\"ICNStatus\", \"Last_Modified_Date\")\n",
    "    .pivot(\"InstitutionCode\")\n",
    "    .agg(first(\"TreatingFacilityPersonIdentifier\"))\n",
    "    .withColumnRenamed(\"200CORP\", \"participant_id\")\n",
    "    .withColumnRenamed(\"200DOD\", \"edipi\")\n",
    "    .withColumnRenamed(\"200VETS\", \"va_profile_id\")\n",
    ").select(\"MVIPersonICN\", \"participant_id\", \"edipi\", \"va_profile_id\", \"ICNStatus\", \"Last_Modified_Date\").cache()\n",
    "end = datetime.now()\n",
    "\n",
    "print(f\"Time taken: {end - start}\")\n",
    "\n"
   ]
  },
  {
   "cell_type": "code",
   "execution_count": 0,
   "metadata": {
    "application/vnd.databricks.v1+cell": {
     "cellMetadata": {},
     "inputWidgets": {},
     "nuid": "ce87b50c-d17d-4166-b75d-bd4982f13b62",
     "showTitle": false,
     "tableResultSettingsMap": {},
     "title": ""
    }
   },
   "outputs": [],
   "source": [
    "#  0:02:46.173652"
   ]
  },
  {
   "cell_type": "code",
   "execution_count": 0,
   "metadata": {
    "application/vnd.databricks.v1+cell": {
     "cellMetadata": {
      "byteLimit": 2048000,
      "rowLimit": 10000
     },
     "inputWidgets": {},
     "nuid": "ff7a1e0d-de6e-40b0-b0c0-574a1d0f6edc",
     "showTitle": true,
     "tableResultSettingsMap": {},
     "title": "This will prepare data for all Institutions in JSON format"
    }
   },
   "outputs": [],
   "source": [
    "json_format = (\n",
    "    max_date_df.join(clean_correlations_df, ['MVIPersonICN'], 'left').join(person_df, ['MVIPersonICN'], \"left\")\n",
    "    .groupBy(\"MVIPersonICN\", \"Last_Modified_Date\", \"ICNStatus\")\n",
    "    .agg(\n",
    "        collect_list(\n",
    "                struct(\n",
    "                    col(\"InstitutionCode\").alias(\"Institution\"),\n",
    "                    col(\"TreatingFacilityPersonIdentifier\").alias(\"Identifier\")\n",
    "                )\n",
    "        ).alias(\"InstitutionIDs\")\n",
    "    )\n",
    ").cache()\n",
    "\n",
    "json_format.createOrReplaceTempView(\"temp_json\")\n",
    "\n",
    "# Usage:\n",
    "# SELECT MVIPersonICN, Last_Modified_Date, ICNStatus, Inst FROM temp_json lateral view explode(InstitutionIDS) as Inst where Inst.Institution = '200DOD'\n"
   ]
  },
  {
   "cell_type": "code",
   "execution_count": 0,
   "metadata": {
    "application/vnd.databricks.v1+cell": {
     "cellMetadata": {
      "byteLimit": 2048000,
      "rowLimit": 10000
     },
     "inputWidgets": {},
     "nuid": "3b2cbd7d-fcde-4a1a-abb5-6dad6f519419",
     "showTitle": true,
     "tableResultSettingsMap": {},
     "title": "Save the Dataframe as a delta table"
    }
   },
   "outputs": [],
   "source": [
    "correlation_lookup_df.write.option(\"path\", \"/mnt/ci-patronage/delta_tables/correlation_lookup\").saveAsTable(\"correlation_lookup\")\n",
    "# duplicate_correlations_df.write.option(\"path\",\"/mnt/ci-patronage/delta_tables/duplicate_correlations\").saveAsTable(\"duplicate_correlations\")\n",
    "# json_format.write.option(\"path\", \"/mnt/ci-patronage/delta_tables/CorrelationsForAllInstitutions\").saveAsTable(\"CorrelationsForAllInstitutions\")\n",
    "\n"
   ]
  },
  {
   "cell_type": "code",
   "execution_count": 0,
   "metadata": {
    "application/vnd.databricks.v1+cell": {
     "cellMetadata": {
      "byteLimit": 2048000,
      "implicitDf": true,
      "rowLimit": 10000
     },
     "collapsed": true,
     "inputWidgets": {},
     "nuid": "f31ac1c8-ba5a-4573-b822-4288b49bb248",
     "showTitle": false,
     "tableResultSettingsMap": {},
     "title": ""
    }
   },
   "outputs": [],
   "source": [
    "%sql\n",
    "SELECT MVIPersonICN, Last_Modified_Date, ICNStatus, Inst.Institution, Inst.Identifier FROM temp_json lateral view explode(InstitutionIDS) as Inst where Inst.Institution = '200DOD'"
   ]
  },
  {
   "cell_type": "code",
   "execution_count": 0,
   "metadata": {
    "application/vnd.databricks.v1+cell": {
     "cellMetadata": {
      "byteLimit": 2048000,
      "implicitDf": true,
      "rowLimit": 10000
     },
     "inputWidgets": {},
     "nuid": "782563a3-c450-47c9-baec-a6419e6e5504",
     "showTitle": false,
     "tableResultSettingsMap": {},
     "title": ""
    }
   },
   "outputs": [],
   "source": [
    "%sql\n",
    "SELECT MVIPersonICN, Last_Modified_Date, ICNStatus, Inst.Identifier as 200CORP FROM temp_json lateral view explode(InstitutionIDS) as Inst where Inst.Institution = '200CORP'\n"
   ]
  },
  {
   "cell_type": "code",
   "execution_count": 0,
   "metadata": {
    "application/vnd.databricks.v1+cell": {
     "cellMetadata": {
      "byteLimit": 2048000,
      "rowLimit": 10000
     },
     "inputWidgets": {},
     "nuid": "c5deb815-18da-4b83-83ce-0cfbc2ec14d5",
     "showTitle": false,
     "tableResultSettingsMap": {},
     "title": ""
    }
   },
   "outputs": [],
   "source": [
    "json_format.filter(json_format.MVIPersonICN == 1006433939).display()"
   ]
  },
  {
   "cell_type": "code",
   "execution_count": 0,
   "metadata": {
    "application/vnd.databricks.v1+cell": {
     "cellMetadata": {
      "byteLimit": 2048000,
      "implicitDf": true,
      "rowLimit": 10000
     },
     "inputWidgets": {},
     "nuid": "ac50d186-3e90-40de-aaaa-c3955e1d0d35",
     "showTitle": false,
     "tableResultSettingsMap": {},
     "title": ""
    }
   },
   "outputs": [],
   "source": [
    "%sql\n",
    "SELECT *\n",
    "FROM correlation_lookup"
   ]
  },
  {
   "cell_type": "code",
   "execution_count": 0,
   "metadata": {
    "application/vnd.databricks.v1+cell": {
     "cellMetadata": {
      "byteLimit": 2048000,
      "rowLimit": 10000
     },
     "inputWidgets": {},
     "nuid": "3c338035-936f-4630-b072-ccaee21db1af",
     "showTitle": false,
     "tableResultSettingsMap": {},
     "title": ""
    }
   },
   "outputs": [],
   "source": [
    "duplicate_correlations.createOrReplaceTempView(\"duplicate_correlations\")"
   ]
  },
  {
   "cell_type": "code",
   "execution_count": 0,
   "metadata": {
    "application/vnd.databricks.v1+cell": {
     "cellMetadata": {
      "byteLimit": 2048000,
      "implicitDf": true,
      "rowLimit": 10000
     },
     "inputWidgets": {},
     "nuid": "d077cdd9-3bf4-40b6-974d-c661102adc81",
     "showTitle": false,
     "tableResultSettingsMap": {},
     "title": ""
    }
   },
   "outputs": [],
   "source": [
    "%sql\n",
    "SELECT count(*) \n",
    "FROM \n",
    "-- correlation_lookup a\n",
    "delta.`/mnt/Patronage/identity_correlations` a\n",
    "where a.MVIPersonICN not in (SELECT b.MVIPersonICN FROM delta.`/mnt/ci-patronage/delta_tables/correlation_lookup` b)\n",
    "-- NOT EXISTS (SELECT 1 FROM delta.`/mnt/ci-patronage/delta_tables/correlation_lookup` a \n",
    "                --   where a.participant_id = b.participant_id and a.participant_id is not null and b.participant_id is not null)\n"
   ]
  },
  {
   "cell_type": "code",
   "execution_count": 0,
   "metadata": {
    "application/vnd.databricks.v1+cell": {
     "cellMetadata": {
      "byteLimit": 2048000,
      "implicitDf": true,
      "rowLimit": 10000
     },
     "inputWidgets": {},
     "nuid": "5f0b0151-ba16-4fa4-9fe4-04dd56b022f2",
     "showTitle": false,
     "tableResultSettingsMap": {},
     "title": ""
    }
   },
   "outputs": [],
   "source": [
    "%sql\n",
    "SELECT * \n",
    "-- FROM duplicate_correlations\n",
    "FROM delta.`/mnt/Patronage/duplicate_identity_correlations` \n",
    "where MVIPersonICN in (1019740818, 1081694406,1083817600, 1038815991, 1083491719)"
   ]
  },
  {
   "cell_type": "code",
   "execution_count": 0,
   "metadata": {
    "application/vnd.databricks.v1+cell": {
     "cellMetadata": {
      "byteLimit": 2048000,
      "implicitDf": true,
      "rowLimit": 10000
     },
     "inputWidgets": {},
     "nuid": "e88c20e3-a486-4331-8ec6-33a94c32e708",
     "showTitle": false,
     "tableResultSettingsMap": {},
     "title": ""
    }
   },
   "outputs": [],
   "source": [
    "%sql\n",
    "SELECT count(MVIPersonICN), count(participant_id), count(edipi), count(va_profile_id), 'his' FROM delta.`/mnt/Patronage/identity_correlations` \n",
    "union\n",
    "SELECT count(MVIPersonICN), count(participant_id), count(edipi), count(va_profile_id), 'my' FROM correlation_lookup\n",
    "-- delta.`/mnt/ci-patronage/delta_tables/correlation_lookup` "
   ]
  },
  {
   "cell_type": "code",
   "execution_count": 0,
   "metadata": {
    "application/vnd.databricks.v1+cell": {
     "cellMetadata": {
      "byteLimit": 2048000,
      "implicitDf": true,
      "rowLimit": 10000
     },
     "inputWidgets": {},
     "nuid": "de6b816c-64a7-4a64-82f8-0cf743a0c17b",
     "showTitle": false,
     "tableResultSettingsMap": {},
     "title": ""
    }
   },
   "outputs": [],
   "source": [
    "%sql\n",
    "SELECT count(MVIPersonICN), count(participant_id), count(edipi), count(va_profile_id), 'his' FROM delta.`/mnt/Patronage/identity_correlations` \n",
    "union\n",
    "SELECT count(MVIPersonICN), count(participant_id), count(edipi), count(va_profile_id), 'my' FROM correlation_lookup\n",
    "-- delta.`/mnt/ci-patronage/delta_tables/correlation_lookup` "
   ]
  },
  {
   "cell_type": "code",
   "execution_count": 0,
   "metadata": {
    "application/vnd.databricks.v1+cell": {
     "cellMetadata": {
      "byteLimit": 2048000,
      "implicitDf": true,
      "rowLimit": 10000
     },
     "inputWidgets": {},
     "nuid": "07f7ab52-0f84-49d0-a377-5a3ffc4b5b1f",
     "showTitle": false,
     "tableResultSettingsMap": {},
     "title": ""
    }
   },
   "outputs": [],
   "source": [
    "%sql\n",
    "SELECT * \n",
    "-- FROM correlation_lookup a\n",
    "FROM delta.`/mnt/ci-patronage/delta_tables/correlation_lookup` a\n",
    "where NOT EXISTS (SELECT 1 FROM delta.`/mnt/Patronage/identity_correlations` b where a.va_profile_id = b.va_profile_id  and b.va_profile_id is not null)\n",
    "and  a.va_profile_id is not null"
   ]
  },
  {
   "cell_type": "code",
   "execution_count": 0,
   "metadata": {
    "application/vnd.databricks.v1+cell": {
     "cellMetadata": {
      "byteLimit": 2048000,
      "implicitDf": true,
      "rowLimit": 10000
     },
     "inputWidgets": {},
     "nuid": "09004f91-22d9-41c1-b800-2b643f440166",
     "showTitle": false,
     "tableResultSettingsMap": {},
     "title": ""
    }
   },
   "outputs": [],
   "source": [
    "%sql\n",
    "SELECT * FROM delta.`/mnt/Patronage/identity_correlations` WHERE MVIPersonICN in (1061990009,1058733289,1039175664,1045235898,1004772523,1058437895)"
   ]
  },
  {
   "cell_type": "code",
   "execution_count": 0,
   "metadata": {
    "application/vnd.databricks.v1+cell": {
     "cellMetadata": {
      "byteLimit": 2048000,
      "implicitDf": true,
      "rowLimit": 10000
     },
     "inputWidgets": {},
     "nuid": "022d8745-9841-4bc9-9bd1-4014045b9bfa",
     "showTitle": false,
     "tableResultSettingsMap": {},
     "title": ""
    }
   },
   "outputs": [],
   "source": [
    "%sql\n",
    "SELECT * FROM delta.`/mnt/Patronage/duplicate_identity_correlations`\n",
    "-- WHERE TreatingFacilityPersonIdentifier  in (31131419,32405689,31083987,5583865,14705650,32252045)\n",
    "WHERE MVIPersonICN in (1061990009,1058733289,1039175664,1045235898,1004772523,1058437895)"
   ]
  },
  {
   "cell_type": "code",
   "execution_count": 0,
   "metadata": {
    "application/vnd.databricks.v1+cell": {
     "cellMetadata": {
      "byteLimit": 2048000,
      "rowLimit": 10000
     },
     "inputWidgets": {},
     "nuid": "30a03125-2754-4b74-a55b-0673201d52fe",
     "showTitle": false,
     "tableResultSettingsMap": {},
     "title": ""
    }
   },
   "outputs": [],
   "source": [
    "# Import required libraries\n",
    "from pyspark.sql import SparkSession, DataFrame\n",
    "from pyspark.sql.functions import *\n",
    "from pyspark.sql.window import Window\n",
    "from delta import DeltaTable\n",
    "from datetime import datetime\n",
    "from pyspark.storagelevel import StorageLevel"
   ]
  },
  {
   "cell_type": "code",
   "execution_count": 0,
   "metadata": {
    "application/vnd.databricks.v1+cell": {
     "cellMetadata": {
      "byteLimit": 2048000,
      "rowLimit": 10000
     },
     "inputWidgets": {},
     "nuid": "d90f81a9-ba67-4bb2-806d-68dc28b21a4e",
     "showTitle": false,
     "tableResultSettingsMap": {},
     "title": ""
    }
   },
   "outputs": [],
   "source": [
    "# Set Spark configurations for performance\n",
    "spark.conf.set(\"spark.sql.adaptive.enabled\", \"true\")\n",
    "spark.conf.set(\"spark.shuffle.partitions\", \"200\")\n",
    "spark.catalog.clearCache()"
   ]
  },
  {
   "cell_type": "code",
   "execution_count": 0,
   "metadata": {
    "application/vnd.databricks.v1+cell": {
     "cellMetadata": {
      "byteLimit": 2048000,
      "rowLimit": 10000
     },
     "inputWidgets": {},
     "nuid": "b71d571a-39af-402a-9eee-f4eef155a094",
     "showTitle": false,
     "tableResultSettingsMap": {},
     "title": ""
    }
   },
   "outputs": [],
   "source": [
    "# Utility: Data source configuration\n",
    "DATA_SOURCES = {\n",
    "    \"psa\": {\n",
    "        \"path\": \"/mnt/ci-mvi/Processed/SVeteran.SMVIPersonSiteAssociation/\",\n",
    "        \"columns\": [\n",
    "            \"MVIPersonICN\",\n",
    "            \"MVITreatingFacilityInstitutionSID\",\n",
    "            \"TreatingFacilityPersonIdentifier\",\n",
    "            \"ActiveMergedIdentifier\",\n",
    "            \"CorrelationModifiedDateTime\",\n",
    "        ],\n",
    "        \"filter_condition\": (\n",
    "            (col(\"MVIPersonICN\").isNotNull()) &\n",
    "            (col(\"TreatingFacilityPersonIdentifier\").rlike(\"^[0-9]+$\")) &\n",
    "            ((col(\"ActiveMergedIdentifier\") == \"Active\") | col(\"ActiveMergedIdentifier\").isNull())\n",
    "        ),\n",
    "        \"window_spec\": Window.partitionBy('MVIPersonICN', 'MVITreatingFacilityInstitutionSID', 'TreatingFacilityPersonIdentifier').orderBy(desc('CorrelationModifiedDateTime'))\n",
    "    },\n",
    "    \"person\": {\n",
    "        \"path\": \"/mnt/ci-mvi/Processed/SVeteran.SMVIPerson/\",\n",
    "        \"columns\": [\"MVIPersonICN\", \"ICNStatus\"],\n",
    "        \"filter_condition\": (col(\"rnk\") == 1),\n",
    "        \"window_spec\": Window.partitionBy('MVIPersonICN').orderBy(desc('calc_IngestionTimestamp'))\n",
    "    },\n",
    "    \"mvi_institution\": {\n",
    "        \"path\": \"/mnt/ci-mvi/Raw/NDim.MVIInstitution/\",\n",
    "        \"columns\": [\"MVIInstitutionSID\", \"InstitutionCode\"],\n",
    "        \"filter_condition\": (col(\"MVIInstitutionSID\").rlike(\"^[0-9]+$\")),\n",
    "        \"window_spec\": None\n",
    "    }\n",
    "}"
   ]
  },
  {
   "cell_type": "code",
   "execution_count": 0,
   "metadata": {
    "application/vnd.databricks.v1+cell": {
     "cellMetadata": {
      "byteLimit": 2048000,
      "rowLimit": 10000
     },
     "inputWidgets": {},
     "nuid": "2d9ef684-ff63-4fbf-afc8-0c2d3a1fbc19",
     "showTitle": false,
     "tableResultSettingsMap": {},
     "title": ""
    }
   },
   "outputs": [],
   "source": [
    "# Function: Read parquet data for a given source\n",
    "# Returns a DataFrame\n",
    "\n",
    "def read_parquet(source_key: str) -> DataFrame:\n",
    "    \"\"\"Read parquet data for the given source key.\"\"\"\n",
    "    source = DATA_SOURCES[source_key]\n",
    "    return spark.read.parquet(source[\"path\"])"
   ]
  },
  {
   "cell_type": "code",
   "execution_count": 0,
   "metadata": {
    "application/vnd.databricks.v1+cell": {
     "cellMetadata": {
      "byteLimit": 2048000,
      "rowLimit": 10000
     },
     "inputWidgets": {},
     "nuid": "a9dd2f73-619f-4ab7-8210-734f423bbb39",
     "showTitle": false,
     "tableResultSettingsMap": {},
     "title": ""
    }
   },
   "outputs": [],
   "source": [
    "# Function: Prepare PSA DataFrame (optimized: no repartition/cache here)\n",
    "def prepare_psa_df() -> DataFrame:\n",
    "    \"\"\"Read and filter the PSA DataFrame.\"\"\"\n",
    "    src = DATA_SOURCES[\"psa\"]\n",
    "    df = (\n",
    "        read_parquet(\"psa\")\n",
    "        .filter(src[\"filter_condition\"])\n",
    "        .withColumn(\"rnk\", rank().over(src[\"window_spec\"]))\n",
    "        .filter(col(\"rnk\") == 1)\n",
    "        .select(src[\"columns\"])\n",
    "    )\n",
    "    return df"
   ]
  },
  {
   "cell_type": "code",
   "execution_count": 0,
   "metadata": {
    "application/vnd.databricks.v1+cell": {
     "cellMetadata": {
      "byteLimit": 2048000,
      "rowLimit": 10000
     },
     "inputWidgets": {},
     "nuid": "0aa45496-3881-4de0-81f7-03db75750007",
     "showTitle": false,
     "tableResultSettingsMap": {},
     "title": ""
    }
   },
   "outputs": [],
   "source": [
    "# Function: Prepare Person DataFrame (optimized: no repartition/cache here)\n",
    "def prepare_person_df() -> DataFrame:\n",
    "    \"\"\"Read and filter the Person DataFrame.\"\"\"\n",
    "    src = DATA_SOURCES[\"person\"]\n",
    "    df = (\n",
    "        read_parquet(\"person\")\n",
    "        .withColumn(\"rnk\", rank().over(src[\"window_spec\"]))\n",
    "        .filter(src[\"filter_condition\"])\n",
    "        .select(src[\"columns\"])\n",
    "    )\n",
    "    return df"
   ]
  },
  {
   "cell_type": "code",
   "execution_count": 0,
   "metadata": {
    "application/vnd.databricks.v1+cell": {
     "cellMetadata": {
      "byteLimit": 2048000,
      "rowLimit": 10000
     },
     "inputWidgets": {},
     "nuid": "4332258d-1b9e-4279-8483-776b3ac29ea1",
     "showTitle": false,
     "tableResultSettingsMap": {},
     "title": ""
    }
   },
   "outputs": [],
   "source": [
    "# Function: Prepare Institutions DataFrame (optimized: no distinct unless needed)\n",
    "def prepare_institutions_df() -> DataFrame:\n",
    "    \"\"\"Read and filter the Institutions DataFrame.\"\"\"\n",
    "    src = DATA_SOURCES[\"mvi_institution\"]\n",
    "    df = (\n",
    "        read_parquet(\"mvi_institution\")\n",
    "        .filter(src[\"filter_condition\"])\n",
    "        .select(src[\"columns\"])\n",
    "    )\n",
    "    return df"
   ]
  },
  {
   "cell_type": "code",
   "execution_count": 0,
   "metadata": {
    "application/vnd.databricks.v1+cell": {
     "cellMetadata": {
      "byteLimit": 2048000,
      "rowLimit": 10000
     },
     "inputWidgets": {},
     "nuid": "2ee1e3a8-946b-410b-8c25-c67eab70cc49",
     "showTitle": false,
     "tableResultSettingsMap": {},
     "title": ""
    }
   },
   "outputs": [],
   "source": [
    "# Function: Join DataFrames (optimized: prune columns, no cache/repartition)\n",
    "def join_dataframes(psa_df: DataFrame, institutions_df: DataFrame) -> DataFrame:\n",
    "    \"\"\"Join PSA and Institutions DataFrames.\"\"\"\n",
    "    joined = (\n",
    "        psa_df.join(\n",
    "            broadcast(institutions_df),\n",
    "            psa_df[\"MVITreatingFacilityInstitutionSID\"] == institutions_df[\"MVIInstitutionSID\"],\n",
    "            \"left\"\n",
    "        )\n",
    "        .select(\n",
    "            psa_df[\"MVIPersonICN\"],\n",
    "            institutions_df[\"InstitutionCode\"],\n",
    "            institutions_df[\"MVIInstitutionSID\"],\n",
    "            psa_df[\"TreatingFacilityPersonIdentifier\"],\n",
    "            psa_df[\"CorrelationModifiedDateTime\"]\n",
    "        )\n",
    "        .distinct()\n",
    "    )\n",
    "    return joined"
   ]
  },
  {
   "cell_type": "code",
   "execution_count": 0,
   "metadata": {
    "application/vnd.databricks.v1+cell": {
     "cellMetadata": {
      "byteLimit": 2048000,
      "rowLimit": 10000
     },
     "inputWidgets": {},
     "nuid": "36578a64-ca2e-4da8-baf3-24b5031784fc",
     "showTitle": false,
     "tableResultSettingsMap": {},
     "title": ""
    }
   },
   "outputs": [],
   "source": [
    "# Function: Find Duplicates (optimized: no cache/repartition)\n",
    "def find_duplicates(joined_df: DataFrame):\n",
    "    \"\"\"Find duplicate person-institution and institution-identifier pairs.\"\"\"\n",
    "    person_institution_dups = (\n",
    "        joined_df.groupBy(\"MVIPersonICN\", \"InstitutionCode\")\n",
    "        .count()\n",
    "        .filter(col(\"count\") > 1)\n",
    "        .withColumnRenamed(\"count\", \"count_iens\")\n",
    "    )\n",
    "    institution_tfpi_dups = (\n",
    "        joined_df.groupBy(\"InstitutionCode\", \"TreatingFacilityPersonIdentifier\")\n",
    "        .count()\n",
    "        .filter(col(\"count\") > 1)\n",
    "        .withColumnRenamed(\"count\", \"count_icns\")\n",
    "    )\n",
    "    return person_institution_dups, institution_tfpi_dups"
   ]
  },
  {
   "cell_type": "code",
   "execution_count": 0,
   "metadata": {
    "application/vnd.databricks.v1+cell": {
     "cellMetadata": {
      "byteLimit": 2048000,
      "rowLimit": 10000
     },
     "inputWidgets": {},
     "nuid": "238b7cab-b310-4718-97d1-8e786fdf88a8",
     "showTitle": false,
     "tableResultSettingsMap": {},
     "title": ""
    }
   },
   "outputs": [],
   "source": [
    "# Function: Clean Correlations (optimized: no cache/repartition)\n",
    "def clean_correlations(joined_df: DataFrame, person_institution_dups: DataFrame, institution_tfpi_dups: DataFrame) -> (DataFrame, DataFrame):\n",
    "    \"\"\"Remove duplicate correlations.\"\"\"\n",
    "    correlations = (\n",
    "        joined_df\n",
    "        .join(broadcast(person_institution_dups), [\"MVIPersonICN\", \"InstitutionCode\"], \"left\")\n",
    "        .join(broadcast(institution_tfpi_dups), [\"InstitutionCode\", \"TreatingFacilityPersonIdentifier\"], \"left\")\n",
    "    )\n",
    "    duplicate_correlations = correlations.filter(col(\"count_iens\").isNotNull() | col(\"count_icns\").isNotNull())\n",
    "    clean_correlations = (\n",
    "        correlations\n",
    "        .filter(col(\"count_iens\").isNull())\n",
    "        .filter(col(\"count_icns\").isNull())\n",
    "        .drop(\"count_iens\", \"count_icns\")\n",
    "        .select(\"MVIPersonICN\", \"CorrelationModifiedDateTime\", \"InstitutionCode\", \"TreatingFacilityPersonIdentifier\")\n",
    "    )\n",
    "    return clean_correlations, duplicate_correlations"
   ]
  },
  {
   "cell_type": "code",
   "execution_count": 0,
   "metadata": {
    "application/vnd.databricks.v1+cell": {
     "cellMetadata": {
      "byteLimit": 2048000,
      "rowLimit": 10000
     },
     "inputWidgets": {},
     "nuid": "00d3333b-6714-47f9-9c31-d0fd27d3d014",
     "showTitle": false,
     "tableResultSettingsMap": {},
     "title": ""
    }
   },
   "outputs": [],
   "source": [
    "# Function: Get Max Date for Each Person (optimized: no cache/repartition)\n",
    "def get_max_date_df(joined_df: DataFrame) -> DataFrame:\n",
    "    \"\"\"Get the max CorrelationModifiedDateTime for each MVIPersonICN.\"\"\"\n",
    "    return (\n",
    "        joined_df\n",
    "        .groupBy(col(\"MVIPersonICN\"))\n",
    "        .agg(max(\"CorrelationModifiedDateTime\").alias(\"Last_Modified_Date\"))\n",
    "    )"
   ]
  },
  {
   "cell_type": "code",
   "execution_count": 0,
   "metadata": {
    "application/vnd.databricks.v1+cell": {
     "cellMetadata": {
      "byteLimit": 2048000,
      "rowLimit": 10000
     },
     "inputWidgets": {},
     "nuid": "a3e80016-0372-4919-b331-a7152ef5679d",
     "showTitle": false,
     "tableResultSettingsMap": {},
     "title": ""
    }
   },
   "outputs": [],
   "source": [
    "# Function: Build Correlation Lookup Table (optimized: no cache/repartition)\n",
    "def build_correlation_lookup(max_date_df: DataFrame, clean_correlations_df: DataFrame, person_df: DataFrame) -> DataFrame:\n",
    "    \"\"\"Build the final correlation lookup DataFrame.\"\"\"\n",
    "    return (\n",
    "        max_date_df.join(clean_correlations_df, ['MVIPersonICN'], 'left')\n",
    "        .join(person_df, ['MVIPersonICN'], \"left\")\n",
    "        .groupBy(\"MVIPersonICN\", \"ICNStatus\", \"Last_Modified_Date\")\n",
    "        .pivot(\"InstitutionCode\")\n",
    "        .agg(first(\"TreatingFacilityPersonIdentifier\"))\n",
    "        .withColumnRenamed(\"200CORP\", \"participant_id\")\n",
    "        .withColumnRenamed(\"200DOD\", \"edipi\")\n",
    "        .withColumnRenamed(\"200VETS\", \"va_profile_id\")\n",
    "        .select(\"MVIPersonICN\", \"participant_id\", \"edipi\", \"va_profile_id\", \"ICNStatus\", \"Last_Modified_Date\")\n",
    "    )"
   ]
  },
  {
   "cell_type": "code",
   "execution_count": 0,
   "metadata": {
    "application/vnd.databricks.v1+cell": {
     "cellMetadata": {
      "byteLimit": 2048000,
      "rowLimit": 10000
     },
     "inputWidgets": {},
     "nuid": "11005697-d1ae-4d8e-9e2b-195d11b08177",
     "showTitle": false,
     "tableResultSettingsMap": {},
     "title": ""
    }
   },
   "outputs": [],
   "source": [
    "# Function: Build JSON Format Table (optimized: no cache/repartition)\n",
    "def build_json_format(max_date_df: DataFrame, clean_correlations_df: DataFrame, person_df: DataFrame) -> DataFrame:\n",
    "    \"\"\"Build the JSON format DataFrame for all institutions.\"\"\"\n",
    "    return (\n",
    "        max_date_df.join(clean_correlations_df, ['MVIPersonICN'], 'left')\n",
    "        .join(person_df, ['MVIPersonICN'], \"left\")\n",
    "        .groupBy(\"MVIPersonICN\", \"Last_Modified_Date\", \"ICNStatus\")\n",
    "        .agg(\n",
    "            collect_list(\n",
    "                struct(\n",
    "                    col(\"InstitutionCode\").alias(\"Institution\"),\n",
    "                    col(\"TreatingFacilityPersonIdentifier\").alias(\"Identifier\")\n",
    "                )\n",
    "            ).alias(\"InstitutionIDs\")\n",
    "        )\n",
    "    )"
   ]
  },
  {
   "cell_type": "code",
   "execution_count": 0,
   "metadata": {
    "application/vnd.databricks.v1+cell": {
     "cellMetadata": {
      "byteLimit": 2048000,
      "rowLimit": 10000
     },
     "inputWidgets": {},
     "nuid": "4e5bd557-59a9-477b-bbc5-6c9ec9ea73fd",
     "showTitle": false,
     "tableResultSettingsMap": {},
     "title": ""
    }
   },
   "outputs": [],
   "source": [
    "# Main pipeline execution (optimized: only repartition/cache before write if needed)\n",
    "spark.sql(\"\"\"DROP TABLE IF EXISTS correlation_lookup\"\"\")\n",
    "dbutils.fs.rm(\"/mnt/ci-patronage/delta_tables/correlation_lookup\", True)\n",
    "\n",
    "psa_df = prepare_psa_df()\n",
    "person_df = prepare_person_df()\n",
    "institutions_df = prepare_institutions_df()\n",
    "\n",
    "# Only distinct after join, before heavy groupBy\n",
    "joined_df = join_dataframes(psa_df, institutions_df)\n",
    "\n",
    "person_institution_dups, institution_tfpi_dups = find_duplicates(joined_df)\n",
    "clean_correlations_df, duplicate_correlations_df = clean_correlations(joined_df, person_institution_dups, institution_tfpi_dups)\n",
    "max_date_df = get_max_date_df(joined_df)\n",
    "\n",
    "start = datetime.now()\n",
    "correlation_lookup_df = build_correlation_lookup(max_date_df, clean_correlations_df, person_df).cache()\n",
    "end = datetime.now()\n",
    "print(f\"Time taken: {end - start}\")\n",
    "\n",
    "json_format = build_json_format(max_date_df, clean_correlations_df, person_df)\n",
    "json_format.createOrReplaceTempView(\"temp_json\")"
   ]
  },
  {
   "cell_type": "code",
   "execution_count": 0,
   "metadata": {
    "application/vnd.databricks.v1+cell": {
     "cellMetadata": {
      "byteLimit": 2048000,
      "rowLimit": 10000
     },
     "inputWidgets": {},
     "nuid": "0bee9285-0526-4097-8fcb-76ca0e8d6ae9",
     "showTitle": false,
     "tableResultSettingsMap": {},
     "title": ""
    }
   },
   "outputs": [],
   "source": [
    "# Save results (optimized: repartition before write for parallelism)\n",
    "def save_results():\n",
    "    correlation_lookup_df.repartition(200, \"MVIPersonICN\").write.option(\"path\", \"/mnt/ci-patronage/delta_tables/correlation_lookup\").mode(\"overwrite\").saveAsTable(\"correlation_lookup\")\n",
    "    # duplicate_correlations_df.repartition(200, \"MVIPersonICN\").write.option(\"path\", \"/mnt/ci-patronage/delta_tables/duplicate_correlations\").mode(\"overwrite\").saveAsTable(\"duplicate_correlations\")\n",
    "    # json_format.repartition(200, \"MVIPersonICN\").write.option(\"path\", \"/mnt/ci-patronage/delta_tables/CorrelationsForAllInstitutions\").mode(\"overwrite\").saveAsTable(\"CorrelationsForAllInstitutions\")\n",
    "\n",
    "save_results()"
   ]
  }
 ],
 "metadata": {
  "application/vnd.databricks.v1+notebook": {
   "computePreferences": null,
   "dashboards": [],
   "environmentMetadata": {
    "base_environment": "",
    "environment_version": "2"
   },
   "inputWidgetPreferences": null,
   "language": "python",
   "notebookMetadata": {
    "mostRecentlyExecutedCommandWithImplicitDF": {
     "commandId": 4884676520200830,
     "dataframes": [
      "_sqldf"
     ]
    },
    "pythonIndentUnit": 4
   },
   "notebookName": "Correlations Lookup",
   "widgets": {}
  },
  "language_info": {
   "name": "python"
  }
 },
 "nbformat": 4,
 "nbformat_minor": 0
}

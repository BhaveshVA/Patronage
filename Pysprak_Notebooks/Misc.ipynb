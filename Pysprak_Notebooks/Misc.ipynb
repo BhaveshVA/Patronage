{
 "cells": [
  {
   "cell_type": "code",
   "execution_count": 0,
   "metadata": {
    "application/vnd.databricks.v1+cell": {
     "cellMetadata": {
      "byteLimit": 2048000,
      "rowLimit": 10000
     },
     "inputWidgets": {},
     "nuid": "b815e4d9-c7b9-4e28-a36c-9ade799f7fed",
     "showTitle": false,
     "tableResultSettingsMap": {},
     "title": ""
    }
   },
   "outputs": [],
   "source": [
    "from delta.tables import *\n",
    "from pyspark.sql.types import *\n",
    "from pyspark.sql.functions import *\n",
    "from datetime import datetime, timedelta, date\n",
    "from pyspark.sql.window import Window\n",
    "import time\n",
    "import os\n",
    "import pandas as pd\n"
   ]
  },
  {
   "cell_type": "code",
   "execution_count": 0,
   "metadata": {
    "application/vnd.databricks.v1+cell": {
     "cellMetadata": {
      "byteLimit": 2048000,
      "implicitDf": true,
      "rowLimit": 10000
     },
     "inputWidgets": {},
     "nuid": "41e72724-0118-4861-b369-dd7be4da4032",
     "showTitle": false,
     "tableResultSettingsMap": {},
     "title": ""
    }
   },
   "outputs": [],
   "source": [
    "%sql\n",
    "SELECT BATCH_CD, count(*) FROM mypatronage_test111\n",
    "GROUP BY ALL"
   ]
  },
  {
   "cell_type": "code",
   "execution_count": 0,
   "metadata": {
    "application/vnd.databricks.v1+cell": {
     "cellMetadata": {
      "byteLimit": 2048000,
      "implicitDf": true,
      "rowLimit": 10000
     },
     "inputWidgets": {},
     "nuid": "16016309-b8c3-401f-a5a9-5bdcc4b511db",
     "showTitle": false,
     "tableResultSettingsMap": {},
     "title": ""
    }
   },
   "outputs": [],
   "source": [
    "%sql\n",
    "SELECT BATCH_CD, count(*) FROM mypatronage_test111\n",
    "WHERE BATCH_CD = 'CG' AND RecordStatus IS TRUE and Applicant_Type = 'Primary Caregiver'\n",
    "GROUP BY ALL"
   ]
  },
  {
   "cell_type": "code",
   "execution_count": 0,
   "metadata": {
    "application/vnd.databricks.v1+cell": {
     "cellMetadata": {
      "byteLimit": 2048000,
      "rowLimit": 10000
     },
     "inputWidgets": {},
     "nuid": "788e4275-6698-4cf7-a229-a91b34d32a78",
     "showTitle": false,
     "tableResultSettingsMap": {},
     "title": ""
    }
   },
   "outputs": [],
   "source": [
    "containerPath = '/mnt/vac20sdpasa201vba/ci-vba-edw-2/DeltaTables/'\n",
    "mostRecentRequestPath = None\n",
    "for entity in dbutils.fs.ls(containerPath):\n",
    "  print(entity.name)\n",
    "  print(entity)"
   ]
  },
  {
   "cell_type": "code",
   "execution_count": 0,
   "metadata": {
    "application/vnd.databricks.v1+cell": {
     "cellMetadata": {},
     "inputWidgets": {},
     "nuid": "acceba39-6a4e-46e3-bc50-67b244429dac",
     "showTitle": false,
     "tableResultSettingsMap": {},
     "title": ""
    }
   },
   "outputs": [],
   "source": [
    "df = spark.read.format('delta').load(containerPath + 'DW_ADHOC_RECURR.DOD_PATRONAGE_SCD_PT/')\n",
    "df.createOrReplaceTempView('DOD_PATRONAGE_SCD_PT') # name of the Delta Table you are reading"
   ]
  },
  {
   "cell_type": "code",
   "execution_count": 0,
   "metadata": {
    "application/vnd.databricks.v1+cell": {
     "cellMetadata": {
      "byteLimit": 2048000,
      "rowLimit": 10000
     },
     "inputWidgets": {},
     "nuid": "daa995c4-f631-489b-aae3-a7e096ff54a9",
     "showTitle": false,
     "tableResultSettingsMap": {},
     "title": ""
    }
   },
   "outputs": [],
   "source": [
    "df = spark.read.format(\"delta\").load(\"/mnt/ci-vba-edw-2/DeltaTables/DW_ADHOC_RECURR.DOD_PATRONAGE_SCD_PT/\")"
   ]
  },
  {
   "cell_type": "code",
   "execution_count": 0,
   "metadata": {
    "application/vnd.databricks.v1+cell": {
     "cellMetadata": {
      "byteLimit": 2048000,
      "implicitDf": true,
      "rowLimit": 10000
     },
     "inputWidgets": {},
     "nuid": "d2676a70-2efb-4be4-b1fb-f23ed41c1ee0",
     "showTitle": false,
     "tableResultSettingsMap": {},
     "title": ""
    }
   },
   "outputs": [],
   "source": [
    "%sql\n",
    "SELECT * FROM DELTA.`/mnt/ci-vba-edw-2/DeltaTables/DW_ADHOC_RECURR.DOD_PATRONAGE_SCD_PT/`\n",
    "-- `/mnt/vac20sdpasa201vba/ci-vba-edw-2/DeltaTables/DW_ADHOC_RECURR.DOD_PATRONAGE_SCD_PT/`\n",
    "                    "
   ]
  },
  {
   "cell_type": "code",
   "execution_count": 0,
   "metadata": {
    "application/vnd.databricks.v1+cell": {
     "cellMetadata": {
      "byteLimit": 2048000,
      "implicitDf": true,
      "rowLimit": 10000
     },
     "inputWidgets": {},
     "nuid": "c2741394-d07c-440e-961f-97cac3d2a63f",
     "showTitle": false,
     "tableResultSettingsMap": {},
     "title": ""
    }
   },
   "outputs": [],
   "source": [
    "%sql\n",
    "SELECT PTCPNT_VET_ID, count(1)\n",
    "FROM delta.`/mnt/vac20sdpasa201vba/ci-vba-edw-2/DeltaTables/DW_ADHOC_RECURR.DOD_PATRONAGE_SCD_PT`\n",
    "GROUP BY ALL\n",
    "HAVING count(1) > 1"
   ]
  },
  {
   "cell_type": "code",
   "execution_count": 0,
   "metadata": {
    "application/vnd.databricks.v1+cell": {
     "cellMetadata": {
      "byteLimit": 2048000,
      "implicitDf": true,
      "rowLimit": 10000
     },
     "inputWidgets": {},
     "nuid": "62e0b0a8-3735-4a50-8f88-97385ba97e24",
     "showTitle": false,
     "tableResultSettingsMap": {},
     "title": ""
    }
   },
   "outputs": [],
   "source": [
    "%sql\n",
    "SELECT count(DISTINCT ICN, EDIPI) FROM mypatronage_test111\n",
    "-- 6386058\n"
   ]
  },
  {
   "cell_type": "code",
   "execution_count": 0,
   "metadata": {
    "application/vnd.databricks.v1+cell": {
     "cellMetadata": {
      "byteLimit": 2048000,
      "rowLimit": 10000
     },
     "inputWidgets": {},
     "nuid": "25d6231e-cf96-42c8-9b61-21641d75e823",
     "showTitle": false,
     "tableResultSettingsMap": {},
     "title": ""
    }
   },
   "outputs": [],
   "source": [
    "cg_unix_start_time = int(time.mktime(datetime(2024, 12, 18, 23, 59, 59).timetuple())) * 1000\n",
    "print(cg_unix_start_time)\n",
    "others_unix_start_time = int(time.mktime(datetime(2023, 11, 1, 0, 0, 0).timetuple())) * 1000\n",
    "print(others_unix_start_time)\n",
    "date_today = datetime.today().date()\n",
    "print(date_today) #date only\n",
    "date_timestamp = datetime.today()\n",
    "print(date_timestamp) #timestamp\n",
    "print(date_timestamp.strftime(\"%A, %d %B %Y [Month Number: %m]\" )) #formatting\n",
    "print(int(time.mktime(date_today.timetuple())))\n",
    "# print(int(time.mktime(cg_unix_start_time.timetuple()))) #1698796800000\n",
    "\n"
   ]
  },
  {
   "cell_type": "code",
   "execution_count": 0,
   "metadata": {
    "application/vnd.databricks.v1+cell": {
     "cellMetadata": {
      "byteLimit": 2048000,
      "implicitDf": true,
      "rowLimit": 10000
     },
     "inputWidgets": {},
     "nuid": "6ccba874-d3f0-4073-a236-4ca4e1355ca0",
     "showTitle": false,
     "tableResultSettingsMap": {},
     "title": ""
    }
   },
   "outputs": [],
   "source": [
    "%sql\n",
    "with DateSeries as (\n",
    "SELECT EXPLODE(SEQUENCE( DATE('2025-01-01'), last_day('2025-12-01'), INTERVAL 1 DAY )) as Year_2025\n",
    ")\n",
    "SELECT DATE_PART('DOW', Year_2025) FROM DateSeries\n",
    "-- DATE_PART(EXPLODE(SEQUENCE( DATE('2025-01-01'), last_day('2025-12-01'), INTERVAL 1 DAY )), 'DAYOFWEEK') as Year_2025\n"
   ]
  },
  {
   "cell_type": "code",
   "execution_count": 0,
   "metadata": {
    "application/vnd.databricks.v1+cell": {
     "cellMetadata": {
      "byteLimit": 2048000,
      "implicitDf": true,
      "rowLimit": 10000
     },
     "inputWidgets": {},
     "nuid": "e4be52de-8ceb-4c55-91af-d858cbb0a71b",
     "showTitle": true,
     "tableResultSettingsMap": {},
     "title": "Create Date Dimension"
    }
   },
   "outputs": [],
   "source": [
    "%sql\n",
    "WITH DateSeries AS (\n",
    "SELECT SEQUENCE (\n",
    "  DATE('2025-01-01'),\n",
    "  last_day('2025-12-01'),\n",
    "  INTERVAL 1 DAY\n",
    ") AS DateArray\n",
    ")\n",
    "SELECT EXPLODE(DateArray) AS Date_Col FROM DateSeries\n",
    "-- SELECT * FROM variant_explode()"
   ]
  },
  {
   "cell_type": "code",
   "execution_count": 0,
   "metadata": {
    "application/vnd.databricks.v1+cell": {
     "cellMetadata": {
      "byteLimit": 2048000,
      "implicitDf": true,
      "rowLimit": 10000
     },
     "inputWidgets": {},
     "nuid": "1a0934e6-eba1-49f3-a9dd-ea2e8b12c52a",
     "showTitle": false,
     "tableResultSettingsMap": {},
     "title": ""
    }
   },
   "outputs": [],
   "source": [
    "%sql\n",
    "SELECT EXPLODE(sequence(1, 10, 1)) as nbrs"
   ]
  },
  {
   "cell_type": "code",
   "execution_count": 0,
   "metadata": {
    "application/vnd.databricks.v1+cell": {
     "cellMetadata": {
      "byteLimit": 2048000,
      "implicitDf": true,
      "rowLimit": 10000
     },
     "inputWidgets": {},
     "nuid": "fae152cf-40b7-42bb-95dd-d8e82b6ff3be",
     "showTitle": false,
     "tableResultSettingsMap": {},
     "title": ""
    }
   },
   "outputs": [],
   "source": [
    "%sql\n",
    "SELECT DISTINCT SDP_Event_Created_Timestamp FROM mypatronage_test where BATCH_CD = 'SCD' ORDER BY 1 desc LIMIT 1 OFFSET 1 --(OFFSET starts with 0)"
   ]
  },
  {
   "cell_type": "code",
   "execution_count": 0,
   "metadata": {
    "application/vnd.databricks.v1+cell": {
     "cellMetadata": {
      "byteLimit": 2048000,
      "implicitDf": true,
      "rowLimit": 10000
     },
     "collapsed": true,
     "inputWidgets": {},
     "nuid": "a3e196d4-bda5-41fc-bf65-af2a606aeb66",
     "showTitle": true,
     "tableResultSettingsMap": {},
     "title": "Week Day-wise records upserted in a table"
    }
   },
   "outputs": [],
   "source": [
    "%sql\n",
    "SELECT\n",
    "  Batch_CD,\n",
    "  COALESCE(Monday, 0) AS Monday,\n",
    "  COALESCE(Tuesday, 0) AS Tuesday,\n",
    "  COALESCE(Wednesday, 0) AS Wednesday,\n",
    "  COALESCE(Thursday, 0) AS Thursday,\n",
    "  COALESCE(Friday, 0) AS Friday,\n",
    "  COALESCE(Saturday, 0) AS Saturday,\n",
    "  COALESCE(Sunday, 0) AS Sunday\n",
    "FROM\n",
    "  (\n",
    "    SELECT\n",
    "      Batch_CD,\n",
    "      date_format(SDP_Event_Created_Timestamp, 'EEEE') as Weekday,\n",
    "      count(*) as RecordCounts\n",
    "    FROM\n",
    "      mypatronage_test -- WHERE extract(year from SDP_Event_Created_Timestamp) >= extract(YEAR FROM CURRENT_DATE) --filters records based on the current year\n",
    "    GROUP BY\n",
    "      ALL\n",
    "  ) PIVOT (\n",
    "    ROUND(\n",
    "      sum(RecordCounts) / weekofyear(current_date()) -1,\n",
    "      0\n",
    "    ) FOR Weekday IN (\n",
    "      \"Monday\" as Monday,\n",
    "      \"Tuesday\" as Tuesday,\n",
    "      \"Wednesday\" as Wednesday,\n",
    "      \"Thursday\" as Thursday,\n",
    "      \"Friday\" as Friday,\n",
    "      \"Saturday\" as Saturday,\n",
    "      \"Sunday\" as Sunday\n",
    "    )\n",
    "  )\n",
    "GROUP BY ALL \n",
    "-- WHERE Batch_CD = \"CG\""
   ]
  },
  {
   "cell_type": "code",
   "execution_count": 0,
   "metadata": {
    "application/vnd.databricks.v1+cell": {
     "cellMetadata": {
      "byteLimit": 2048000,
      "implicitDf": true,
      "rowLimit": 10000
     },
     "inputWidgets": {},
     "nuid": "930fbd60-3d70-4068-a689-e532e4bd0f90",
     "showTitle": true,
     "tableResultSettingsMap": {},
     "title": "Using QUALIFY clause"
    }
   },
   "outputs": [],
   "source": [
    "%sql\n",
    "SELECT \n",
    "   ICN, SC_Combined_Disability_Percentage as Disability_Percent, \n",
    "   PT_Indicator, filename, RecordLastUpdated, SDP_Event_Created_Timestamp as InsertedOn, \n",
    "   RecordStatus, \n",
    "   count(ICN) OVER (PARTITION BY ICN ) as cnt \n",
    "FROM mypatronage_test\n",
    "QUALIFY cnt >=2"
   ]
  },
  {
   "cell_type": "code",
   "execution_count": 0,
   "metadata": {
    "application/vnd.databricks.v1+cell": {
     "cellMetadata": {},
     "inputWidgets": {},
     "nuid": "4b3de32a-93b4-442b-b110-78b6863890ed",
     "showTitle": true,
     "tableResultSettingsMap": {},
     "title": "Using \"DISTINCT FROM\" clause in where condition to compare 2 columns"
    }
   },
   "outputs": [],
   "source": [
    "%sql\n",
    "SELECT ICN, PT_Indicator, SC_Combined_Disability_Percentage, filename from mypatronage where ICN in (select ICN\n",
    "from pivoted_df\n",
    "where `pivoted_df`.`June-24` is distinct from `pivoted_df`.`May-24` and (`pivoted_df`.`June-24` is not null and `pivoted_df`.`May-24` is not null))"
   ]
  },
  {
   "cell_type": "code",
   "execution_count": 0,
   "metadata": {
    "application/vnd.databricks.v1+cell": {
     "cellMetadata": {
      "byteLimit": 2048000,
      "implicitDf": true,
      "rowLimit": 10000
     },
     "inputWidgets": {},
     "nuid": "61829d1c-3495-4d96-b93c-262ec39fa85c",
     "showTitle": true,
     "tableResultSettingsMap": {},
     "title": "read_files using SELECT statement"
    }
   },
   "outputs": [],
   "source": [
    "%sql\n",
    "select * from  read_files('/mnt/ci-vadir-shared/CPIDODIEX_20241005_spool.csv');\n"
   ]
  },
  {
   "cell_type": "code",
   "execution_count": 0,
   "metadata": {
    "application/vnd.databricks.v1+cell": {
     "cellMetadata": {},
     "inputWidgets": {},
     "nuid": "29f211da-af26-4223-b7b3-477b77fa4e76",
     "showTitle": true,
     "tableResultSettingsMap": {},
     "title": "Quering checkpoint location for Autoloader"
    }
   },
   "outputs": [],
   "source": [
    "%sql\n",
    "SELECT * FROM cloud_files_state(  \"dbfs:/FileStore/streaming/scd/checkpoint/write_scd\" )  -- path to checkpoint"
   ]
  },
  {
   "cell_type": "code",
   "execution_count": 0,
   "metadata": {
    "application/vnd.databricks.v1+cell": {
     "cellMetadata": {
      "byteLimit": 2048000,
      "implicitDf": true,
      "rowLimit": 10000
     },
     "inputWidgets": {},
     "nuid": "e1ba60f8-bf00-487c-a812-779146a16a4c",
     "showTitle": false,
     "tableResultSettingsMap": {},
     "title": ""
    }
   },
   "outputs": [],
   "source": [
    "%sql\n",
    "SELECT DISTINCT input_file_name(), _metadata.file_modification_time,* FROM read_files(\n",
    "    '/mnt/ci-vadir-shared/*.csv',\n",
    "    format => 'csv', inferSchema=>True, modifiedAfter => to_date(\"2024-08-01 00:00:00\", 'yyyy-MM-dd HH:mm:ss'))\n",
    "where _metadata.file_modification_time > '2024-08-01' "
   ]
  },
  {
   "cell_type": "code",
   "execution_count": 0,
   "metadata": {
    "application/vnd.databricks.v1+cell": {
     "cellMetadata": {
      "byteLimit": 2048000,
      "rowLimit": 10000
     },
     "inputWidgets": {},
     "nuid": "4fa802a5-67ab-49e3-9669-71e63f784b89",
     "showTitle": false,
     "tableResultSettingsMap": {},
     "title": ""
    }
   },
   "outputs": [],
   "source": [
    "scd_schema1 = StructType([StructField('PTCPNT_ID', StringType()), \n",
    "                          StructField('CMBNED_DEGREE_DSBLTY', StringType()), \n",
    "                          StructField('DSBL_DTR_DT', StringType())]\n",
    ")"
   ]
  },
  {
   "cell_type": "code",
   "execution_count": 0,
   "metadata": {
    "application/vnd.databricks.v1+cell": {
     "cellMetadata": {
      "byteLimit": 2048000,
      "rowLimit": 10000
     },
     "inputWidgets": {},
     "nuid": "0d4df784-f76a-4151-9531-737c1afa9b60",
     "showTitle": false,
     "tableResultSettingsMap": {},
     "title": ""
    }
   },
   "outputs": [],
   "source": [
    "new_cg_schema =  'Discharge_Revocation_Date__c STRING, Caregiver_Status__c STRING, CreatedById STRING, Dispositioned_Date__c STRING, CARMA_Case_ID__c STRING, Applicant_Type__c STRING, CreatedDate TIMESTAMP, Veteran_ICN__c STRING, Benefits_End_Date__c STRING, Caregiver_Id__c STRING, CARMA_Case_Number__c STRING, Caregiver_ICN__c STRING'\n",
    "\n",
    "\n",
    "old_cg_schema = 'Discharge_Revocation_Date__c STRING, Caregiver_Status__c STRING, CreatedById STRING, Dispositioned_Date__c STRING, Applicant_Type__c STRING, CreatedDate TIMESTAMP, Veteran_ICN__c STRING, Benefits_End_Date__c STRING, Caregiver_Id__c STRING, Caregiver_ICN__c STRING'"
   ]
  },
  {
   "cell_type": "code",
   "execution_count": 0,
   "metadata": {
    "application/vnd.databricks.v1+cell": {
     "cellMetadata": {},
     "inputWidgets": {},
     "nuid": "cb0aea2c-de1e-4f34-bc8b-3820780dcc3b",
     "showTitle": false,
     "tableResultSettingsMap": {},
     "title": ""
    }
   },
   "outputs": [],
   "source": [
    "%sql\n",
    "select *, _metadata.file_modification_time, _metadata.file_path, rank() over(partition by Caregiver_ICN__c, Veteran_ICN__c, Applicant_Type__c order by  CreatedDate desc  ) rnk\n",
    "from read_files('{cg_dir}', inferSchema=>False, header=>True,  schema=> '{use_schema}', modifiedAfter=> '{cg_max_date}') qualify rnk=1"
   ]
  },
  {
   "cell_type": "code",
   "execution_count": 0,
   "metadata": {
    "application/vnd.databricks.v1+cell": {
     "cellMetadata": {
      "byteLimit": 2048000,
      "implicitDf": true,
      "rowLimit": 10000
     },
     "inputWidgets": {},
     "nuid": "36a57e3e-ce81-4306-bac1-f9af8f36ee5a",
     "showTitle": true,
     "tableResultSettingsMap": {},
     "title": "Use python variable inside sql"
    }
   },
   "outputs": [],
   "source": [
    "cg_max_date = spark.sql(\"\"\"SELECT cast(coalesce(max(from_unixtime(unix_timestamp(cast(SDP_Event_Created_Timestamp AS TIMESTAMP)))), '2023-10-30') as TIMESTAMP) cg_max_date \n",
    "            FROM mypatronage_test\"\"\").collect()[0][0]\n",
    "cg_dir = '/mnt/ci-carma/landing/*.csv'\n",
    "print(cg_max_date)\n",
    "cg_max_date = '2023-10-30 00:00:00'\n",
    "\n",
    "if datetime.strptime(cg_max_date, '%Y-%m-%d %H:%M:%S') < datetime.strptime('2024-08-08 00:00:00', '%Y-%m-%d %H:%M:%S'):\n",
    "    use_schema = old_cg_schema\n",
    "else:\n",
    "    use_schema = new_cg_schema\n",
    "\n",
    "cg_query = f\"\"\"\n",
    "select *, _metadata.file_modification_time, _metadata.file_path, rank() over(partition by Caregiver_ICN__c, Veteran_ICN__c, Applicant_Type__c order by  CreatedDate desc  ) rnk\n",
    "from read_files('{cg_dir}', inferSchema=>False, header=>True,  schema=> '{use_schema}', modifiedAfter=> '{cg_max_date}') qualify rnk=1\"\"\"\n",
    "\n",
    "cg_raw_df = spark.sql(cg_query)\n",
    "cg_raw_df.display()\n"
   ]
  },
  {
   "cell_type": "code",
   "execution_count": 0,
   "metadata": {
    "application/vnd.databricks.v1+cell": {
     "cellMetadata": {
      "byteLimit": 2048000,
      "implicitDf": true,
      "rowLimit": 10000
     },
     "inputWidgets": {},
     "nuid": "4a5cbeeb-3731-4681-a2f0-54e8f474ed07",
     "showTitle": true,
     "tableResultSettingsMap": {},
     "title": "Calculates Upserts on a table"
    }
   },
   "outputs": [],
   "source": [
    "%sql\n",
    "SELECT\n",
    "  version,\n",
    "  operation,\n",
    "  cast(operationMetrics.numTargetRowsInserted as INT) as Inserted,\n",
    "  cast(operationMetrics.numTargetRowsUpdated as INT) as Updates  \n",
    "FROM\n",
    "  (describe history mypatronage_test)\n",
    "where\n",
    "  operation not in (\"CREATE TABLE\", \"OPTIMIZE\")\n",
    "order by\n",
    "  1 desc;"
   ]
  },
  {
   "cell_type": "code",
   "execution_count": 0,
   "metadata": {
    "application/vnd.databricks.v1+cell": {
     "cellMetadata": {
      "byteLimit": 2048000,
      "rowLimit": 10000
     },
     "inputWidgets": {},
     "nuid": "ba3a2f34-b4c1-4c46-929b-8bfbebe00c46",
     "showTitle": true,
     "tableResultSettingsMap": {},
     "title": "Display a .csv file"
    }
   },
   "outputs": [],
   "source": [
    "%fs \n",
    "head 'dbfs:/mnt/ci-carma/landing/caregiverevent-4ea51390-55a9-11ef-a8b3-02f025e39701.csv'"
   ]
  },
  {
   "cell_type": "code",
   "execution_count": 0,
   "metadata": {
    "application/vnd.databricks.v1+cell": {
     "cellMetadata": {
      "byteLimit": 2048000,
      "implicitDf": true,
      "rowLimit": 10000
     },
     "inputWidgets": {},
     "nuid": "03c7b8ba-de07-440e-b8ae-6f25a1553fe7",
     "showTitle": true,
     "tableResultSettingsMap": {},
     "title": "Show partitions in a delta table"
    }
   },
   "outputs": [],
   "source": [
    "%sql\n",
    "SHOW PARTITIONS delta.`dbfs:/user/hive/warehouse/mypatronage_test`"
   ]
  },
  {
   "cell_type": "code",
   "execution_count": 0,
   "metadata": {
    "application/vnd.databricks.v1+cell": {
     "cellMetadata": {
      "byteLimit": 2048000,
      "implicitDf": true,
      "rowLimit": 10000
     },
     "inputWidgets": {},
     "nuid": "dce64be4-551c-46e4-936a-16506870807d",
     "showTitle": true,
     "tableResultSettingsMap": {},
     "title": "Nesting columns in a struct"
    }
   },
   "outputs": [],
   "source": [
    "%sql\n",
    "with person(name, last_name, street, city, zip) as\n",
    "  (values('Bhavesh', 'Patel', '109 Austin St', 'TF', 07712) )\n",
    "select name, last_name,\n",
    "  struct(* EXCEPT (name, last_name)) AS address, --removes fields name and last_name\n",
    "  struct(* ) AS Full_Info\n",
    "from person"
   ]
  },
  {
   "cell_type": "code",
   "execution_count": 0,
   "metadata": {
    "application/vnd.databricks.v1+cell": {
     "cellMetadata": {
      "byteLimit": 2048000,
      "implicitDf": true,
      "rowLimit": 10000
     },
     "inputWidgets": {},
     "nuid": "ae1bd72a-8381-4f20-b746-5a4a6137488d",
     "showTitle": true,
     "tableResultSettingsMap": {},
     "title": "Unnesting fields in a struct"
    }
   },
   "outputs": [],
   "source": [
    "%sql\n",
    "with person(name, last_name, address) as\n",
    "  (values('Bhavesh', 'Patel', \n",
    "          named_struct('street', '109 Austin St', \n",
    "                        'city','TF', \n",
    "                        'zip', 07712) ))\n",
    "select *\n",
    "-- * except (address), address.* except(street)\n",
    "  from person"
   ]
  },
  {
   "cell_type": "code",
   "execution_count": 0,
   "metadata": {
    "application/vnd.databricks.v1+cell": {
     "cellMetadata": {
      "byteLimit": 2048000,
      "implicitDf": true,
      "rowLimit": 10000
     },
     "inputWidgets": {},
     "nuid": "6d7f4e10-87be-4bb5-8d0e-9cb5484be760",
     "showTitle": true,
     "tableResultSettingsMap": {},
     "title": "Serializing a row into a string (csv or any)"
    }
   },
   "outputs": [],
   "source": [
    "%sql\n",
    "with person(name, last_name, street, city, zip) as\n",
    "  (values('Bhavesh', 'Patel', '109 Austin St', 'TF', 07712) )\n",
    "select concat_ws('',*), \n",
    "      concat_ws(',',*)\n",
    "from person"
   ]
  },
  {
   "cell_type": "code",
   "execution_count": 0,
   "metadata": {
    "application/vnd.databricks.v1+cell": {
     "cellMetadata": {
      "byteLimit": 2048000,
      "rowLimit": 10000
     },
     "inputWidgets": {},
     "nuid": "3fbda48e-83b9-4e30-b3f2-11bc78cd8e32",
     "showTitle": true,
     "tableResultSettingsMap": {},
     "title": "Creating widgets to dynamically run a cell"
    }
   },
   "outputs": [],
   "source": [
    "\n",
    "dbutils.widgets.dropdown(\"time_period\", \"Weekly\", [\"Weekly\", \"Monthly\"])\n",
    "time_period = dbutils.widgets.get(\"time_period\")\n",
    "print(time_period)\n",
    "today = date.today()\n",
    "if time_period == 'Weekly':\n",
    "    start_date = today - timedelta(days=today.weekday(), weeks=1) - timedelta(days=1)\n",
    "    end_date = start_date + timedelta(days=6)\n",
    "else:\n",
    "    first = today.replace(day=1)\n",
    "    end_date = first - timedelta(days=1)\n",
    "    start_date = first - timedelta(days=end_date.day)\n",
    "\n",
    "print(start_date,  end_date)\n",
    "\n"
   ]
  },
  {
   "cell_type": "code",
   "execution_count": 0,
   "metadata": {
    "application/vnd.databricks.v1+cell": {
     "cellMetadata": {},
     "inputWidgets": {},
     "nuid": "bb1a092e-1d9e-478c-a50a-4ea62842fd1a",
     "showTitle": true,
     "tableResultSettingsMap": {},
     "title": "Use Dataframe directly as a table name"
    }
   },
   "outputs": [],
   "source": [
    "%python\n",
    "spark.sql(\"select * from {df}\", df=df).display()"
   ]
  },
  {
   "cell_type": "code",
   "execution_count": 0,
   "metadata": {
    "application/vnd.databricks.v1+cell": {
     "cellMetadata": {
      "byteLimit": 2048000,
      "rowLimit": 10000
     },
     "inputWidgets": {},
     "nuid": "b0255435-2028-4842-bb84-b09cc06d2016",
     "showTitle": true,
     "tableResultSettingsMap": {},
     "title": "Summary of a dataframe"
    }
   },
   "outputs": [],
   "source": [
    "%python\n",
    "\n",
    "def get_summary(input_df):\n",
    "    \"\"\"\n",
    "    Get summary statistics for a dataframe.\n",
    "    Input: Spark dataframe\n",
    "    Ouptput: Spark dataframe with summary statistics: Total Records, Nulls, Distincts, Dups, Non-Nulls, Max, Min and % of Nulls\n",
    "    \"\"\"\n",
    "    # Total Records\n",
    "    total_records = input_df.count()\n",
    "\n",
    "    # Null Counts\n",
    "    null_counts = input_df.select([sum(col(c).isNull().cast(\"int\")).alias(c) for c in input_df.columns])\n",
    "    null_counts_dict = null_counts.first().asDict()\n",
    "\n",
    "    # Total Non Null Counts\n",
    "    counts = input_df.select([count(col(c)).alias(c) for c in input_df.columns])\n",
    "    counts_dict = counts.first().asDict()\n",
    "\n",
    "    # Count distinct\n",
    "    distinct_counts_per_column = {}\n",
    "    for column in input_df.columns:\n",
    "        distinct_counts = input_df.select(countDistinct(col(column)).alias(column)).first()[column]\n",
    "        distinct_counts_per_column[column] = distinct_counts\n",
    "\n",
    "    total_dups_dict = {column: counts_dict[column] - distinct_counts_per_column[column] for column in input_df.columns}\n",
    "\n",
    "    # max for each column\n",
    "    max_value = {col: input_df.agg(max(col)).collect()[0][0] for col in input_df.columns}\n",
    "\n",
    "    # min for each column\n",
    "    min_value = {col: input_df.agg(min(col)).collect()[0][0] for col in input_df.columns}\n",
    "\n",
    "    # % of nulls\n",
    "    null_percent = {column: \"{:.2f}\".format((null_counts_dict[column] / total_records) * 100) for column in input_df.columns }\n",
    "    # Create a summary DataFrame\n",
    "    summary_data = [{\"CountType\": \"Total Records\", **{c: total_records for c in input_df.columns}},\n",
    "                    {\"CountType\": \"Total Nulls\", **null_counts_dict},\n",
    "                    {\"CountType\": \"Null Percentage\", **null_percent},\n",
    "                    {\"CountType\": \"Distinct Values\", **distinct_counts_per_column},\n",
    "                    {\"CountType\": \"Total Dups\", **total_dups_dict},\n",
    "                    {\"CountType\": \"Total Non-Nulls\", **counts_dict},\n",
    "                    {\"CountType\": \"Max Value\", **max_value},\n",
    "                    {\"CountType\": \"Min Value\", **min_value},\n",
    "                    ]\n",
    "\n",
    "\n",
    "    summary_df = spark.createDataFrame(summary_data)\n",
    "\n",
    "    # Reorder columns\n",
    "    summary_df = summary_df.select(\"CountType\", *input_df.columns)\n",
    "\n",
    "    return summary_df\n",
    "\n",
    "# Example usage\n",
    "# df = spark.table('test_correlations')\n",
    "# display(get_summary(df))"
   ]
  },
  {
   "cell_type": "code",
   "execution_count": 0,
   "metadata": {
    "application/vnd.databricks.v1+cell": {
     "cellMetadata": {
      "byteLimit": 2048000,
      "rowLimit": 10000
     },
     "inputWidgets": {},
     "nuid": "f49c37f6-4741-452f-8ba6-fb4f2d849383",
     "showTitle": true,
     "tableResultSettingsMap": {},
     "title": "Creates a dataframe that contain a list of input_values"
    }
   },
   "outputs": [],
   "source": [
    "def get_any_id(df, input_value):\n",
    "    conditions = [df[col].isin(input_value) for col in df.columns]\n",
    "    df_filtered = df.filter(reduce(lambda a, b: a | b, conditions))\n",
    "\n",
    "    return df_filtered\n",
    "\n",
    "# Example usage\n",
    "# df = spark.table(\"test_correlations\")\n",
    "# df = df.drop(\"Last_updated_date\") # remove all non numerical columns\n",
    "# input_value = [1000669101, 24116350, 1082816891]\n",
    "# result_df = get_any_id(df, input_value)\n",
    "# display(result_df)"
   ]
  },
  {
   "cell_type": "code",
   "execution_count": 0,
   "metadata": {
    "application/vnd.databricks.v1+cell": {
     "cellMetadata": {},
     "inputWidgets": {},
     "nuid": "4a45ff93-4a24-4689-9366-82e261c88111",
     "showTitle": false,
     "tableResultSettingsMap": {},
     "title": ""
    }
   },
   "outputs": [],
   "source": [
    "%python\n",
    "spark.sql(\"select MVIPersonICN, Inst.* FROM {df} lateral view explode(InstitutionIDS) as Inst where Inst.InstitutionID = '200DOD' \",  df=json_format).display()"
   ]
  },
  {
   "cell_type": "code",
   "execution_count": 0,
   "metadata": {
    "application/vnd.databricks.v1+cell": {
     "cellMetadata": {
      "byteLimit": 2048000,
      "implicitDf": true,
      "rowLimit": 10000
     },
     "inputWidgets": {},
     "nuid": "dde62fb6-dace-43e9-8343-9c31af24198e",
     "showTitle": false,
     "tableResultSettingsMap": {},
     "title": ""
    }
   },
   "outputs": [],
   "source": [
    "%sql\n",
    "select * from  \n",
    "read_files('/mnt/ci-vadir-shared/CPIDODIEX_20241005_spool.csv', format=>'csv', header=>true) \n",
    "where PTCPNT_ID in (40336746, 3453321, 45264911, 29646885, 57919878, 52213693, 43597650, 47771523, 37241976, 51983424, 7839780)"
   ]
  },
  {
   "cell_type": "code",
   "execution_count": 0,
   "metadata": {
    "application/vnd.databricks.v1+cell": {
     "cellMetadata": {
      "byteLimit": 2048000,
      "implicitDf": true,
      "rowLimit": 10000
     },
     "inputWidgets": {},
     "nuid": "b8add625-74a2-4696-b275-06a784a32a4c",
     "showTitle": false,
     "tableResultSettingsMap": {},
     "title": ""
    }
   },
   "outputs": [],
   "source": [
    "%sql\n",
    "select * from mypatronage_test where Status_Begin_Date is null and Batch_Cd = 'SCD'"
   ]
  },
  {
   "cell_type": "code",
   "execution_count": 0,
   "metadata": {
    "application/vnd.databricks.v1+cell": {
     "cellMetadata": {
      "byteLimit": 2048000,
      "implicitDf": true,
      "rowLimit": 10000
     },
     "inputWidgets": {},
     "nuid": "121a9141-5595-4108-a862-5e6278d9d4f1",
     "showTitle": false,
     "tableResultSettingsMap": {},
     "title": ""
    }
   },
   "outputs": [],
   "source": [
    "%sql\n",
    "select * from  \n",
    "read_files('/mnt/ci-vadir-shared/CPIDODIEX_20241005_spool.csv', format=>'csv', header=>true) \n",
    "where PTCPNT_ID in (SELECT participant_id\n",
    "FROM delta.`/mnt/Patronage/SCD_Staging`\n",
    "WHERE Status_Begin_Date IS NULL AND SDP_Event_Created_Timestamp = \"2024-10-05T00:00:00.000+00:00\" )"
   ]
  },
  {
   "cell_type": "code",
   "execution_count": 0,
   "metadata": {
    "application/vnd.databricks.v1+cell": {
     "cellMetadata": {
      "byteLimit": 2048000,
      "implicitDf": true,
      "rowLimit": 10000
     },
     "inputWidgets": {},
     "nuid": "71158763-2a6c-49dc-be4c-c04ba3ef24a6",
     "showTitle": false,
     "tableResultSettingsMap": {},
     "title": ""
    }
   },
   "outputs": [],
   "source": [
    "%sql\n",
    "SELECT\n",
    "  version,\n",
    "  operation,\n",
    "  cast(operationMetrics.numTargetRowsInserted as INT) as Inserted,\n",
    "  cast(operationMetrics.numTargetRowsUpdated as INT) as Updates  \n",
    "FROM\n",
    "  (describe history mypatronage_test)\n",
    "where\n",
    "  operation not in (\"CREATE TABLE\", \"OPTIMIZE\")\n",
    "order by\n",
    "  1 desc;"
   ]
  },
  {
   "cell_type": "code",
   "execution_count": 0,
   "metadata": {
    "application/vnd.databricks.v1+cell": {
     "cellMetadata": {
      "byteLimit": 2048000,
      "implicitDf": true,
      "rowLimit": 10000
     },
     "inputWidgets": {},
     "nuid": "d539c70d-724a-4754-bb82-e32bc6d0c143",
     "showTitle": true,
     "tableResultSettingsMap": {},
     "title": "List files from sub-directories"
    }
   },
   "outputs": [],
   "source": [
    "file_list_schema = StructType(\n",
    "    [\n",
    "        StructField(\"path\", StringType()),\n",
    "        StructField(\"name\", StringType()),\n",
    "        StructField(\"size\", StringType()),\n",
    "        StructField(\"modificationTime\", StringType()),\n",
    "    ]\n",
    ")\n",
    "def all_file_list(path, cg_unix_start_time):\n",
    "    \"\"\"\n",
    "    Creates a List of files that are at any depth inside a directory\n",
    "    Parameter: Path of a directory\n",
    "    Returns: Flat List with file names and it's metadata\n",
    "    \"\"\"\n",
    "    items = dbutils.fs.ls(path)\n",
    "    files = []\n",
    "\n",
    "    for item in items:\n",
    "        if item.isDir():\n",
    "            # If it's a directory, recursively list its contents\n",
    "            files += all_file_list(item.path, cg_unix_start_time)\n",
    "        elif (\n",
    "            (\n",
    "                item.name.startswith(\"caregiverevent\")\n",
    "                and item.name.endswith(\".csv\")\n",
    "                and item.modificationTime > cg_unix_start_time\n",
    "            )\n",
    "            or (\n",
    "                (item.name.startswith(\"CPIDODIEX_\") and item.name.endswith(\".csv\"))\n",
    "                and \"NEW\" not in item.name\n",
    "            )\n",
    "            or (item.name.startswith(\"WRTS\") and item.name.endswith(\".txt\"))\n",
    "            or (item.path.startswith(\"dbfs:/mnt/vac20sdpasa201vba/ci-vba-edw-2/\") and item.name.endswith(\".parquet\"))\n",
    "        ):\n",
    "            files.append((item.path, item.name, item.size, item.modificationTime))\n",
    "\n",
    "    return files\n",
    "\n",
    "def collect_data_source():\n",
    "    \"\"\"\n",
    "    This is a helper function that will create a pyspark dataframe with all the files required to process\n",
    "    Returns: Pyspark dataframe with files that are ready to process from all the\n",
    "    \"\"\"\n",
    "    cg_start_time = datetime(\n",
    "        2024, 12, 18, 23, 59, 59\n",
    "    )  # this is the new datetime(2024, 12, 18, 23, 59, 59) for Caregivers data\n",
    "    cg_unix_start_time = int(time.mktime(cg_start_time.timetuple())) * 1000\n",
    "\n",
    "    others_start_time = datetime(2023, 11, 1, 0, 0, 0) # Start datetime for SCD and PAI data\n",
    "    others_unix_start_time = int(time.mktime(others_start_time.timetuple())) * 1000\n",
    "\n",
    "    # print(others_unix_start_time)\n",
    "\n",
    "    raw_file_folders = [\n",
    "        \"/mnt/ci-carma/landing/\",\n",
    "        \"/mnt/ci-vadir-shared/\",\n",
    "        \"/mnt/ci-patronage/pai_landing/\",\n",
    "        \"/mnt/vac20sdpasa201vba/ci-vba-edw-2/DeltaTables/DW_ADHOC_RECURR.DOD_PATRONAGE_SCD_PT/\",\n",
    "    ]\n",
    "    master_file_list = []\n",
    "\n",
    "    for files in raw_file_folders:\n",
    "        master_file_list.append(all_file_list(files, cg_unix_start_time))\n",
    "    flattened_file_list = [item for sublist in master_file_list for item in sublist]\n",
    "    # print(flattened_file_list)\n",
    "\n",
    "    file_list_df = spark.createDataFrame(flattened_file_list, file_list_schema)\n",
    "    # display(file_list_df)\n",
    "\n",
    "    filtered_file_list_df = (\n",
    "        file_list_df.filter(file_list_df[\"modificationTime\"] > others_unix_start_time)\n",
    "        .withColumn(\"dateTime\", to_timestamp(col(\"modificationTime\") / 1000))\n",
    "        .orderBy(col(\"modificationTime\"))\n",
    "    )\n",
    "\n",
    "    no_of_files = spark.sql(\n",
    "        \"SELECT COALESCE(COUNT(DISTINCT filename), 0) AS count from mypatronage_test\"\n",
    "    ).collect()[0][0]\n",
    "    # print(f\"Total files processed till last run: {no_of_files}\")\n",
    "\n",
    "    # display(filtered_file_list_df)\n",
    "    query = f\"\"\"SELECT COALESCE(MAX(SDP_Event_Created_Timestamp), TIMESTAMP('{others_start_time}')) AS max_date from mypatronage_test \"\"\"\n",
    "    # print(query)\n",
    "    if no_of_files == 1:\n",
    "        max_processed_date = others_start_time\n",
    "    else:\n",
    "        max_processed_date = spark.sql(query).collect()[0][0]\n",
    "\n",
    "    files_to_process_now = filtered_file_list_df.filter(\n",
    "        filtered_file_list_df[\"dateTime\"] > max_processed_date\n",
    "    ).orderBy(col(\"modificationTime\"))\n",
    "\n",
    "    now = datetime.now()\n",
    "    today_start_time = datetime(now.year, now.month, now.day)\n",
    "    yesterday_end_time = today_start_time - timedelta(\n",
    "        hours=4\n",
    "    )  # To match the time of file creation date in blob storage\n",
    "    yesterday_end_time_ts = int(yesterday_end_time.timestamp() * 1000)\n",
    "\n",
    "    # files_to_process_now = files_to_process_now.filter(\n",
    "    #     files_to_process_now[\"modificationTime\"] <= yesterday_end_time_ts\n",
    "    # )\n",
    "    print(\n",
    "        f\"Upserting all files landed between date: {max_processed_date} and date: {yesterday_end_time} \"\n",
    "    )\n",
    "    # display(files_to_process_now)\n",
    "    if files_to_process_now.count() != 0:\n",
    "        return files_to_process_now\n",
    "    else:\n",
    "        # dbutils.notebook.exit(\"Notebook exited because there are no files to upsert.\")\n",
    "        pass\n"
   ]
  },
  {
   "cell_type": "code",
   "execution_count": 0,
   "metadata": {
    "application/vnd.databricks.v1+cell": {
     "cellMetadata": {
      "byteLimit": 2048000,
      "rowLimit": 10000
     },
     "inputWidgets": {},
     "nuid": "19d8cacb-cb34-41d3-a78b-588c13e942f8",
     "showTitle": false,
     "tableResultSettingsMap": {},
     "title": ""
    }
   },
   "outputs": [],
   "source": [
    "display(dbutils.fs.ls(\"/mnt/vac20sdpasa201vba/\"))"
   ]
  },
  {
   "cell_type": "code",
   "execution_count": 0,
   "metadata": {
    "application/vnd.databricks.v1+cell": {
     "cellMetadata": {
      "byteLimit": 2048000,
      "rowLimit": 10000
     },
     "inputWidgets": {},
     "nuid": "12268f89-8453-4ad4-a108-b5e2db111e29",
     "showTitle": false,
     "tableResultSettingsMap": {},
     "title": ""
    }
   },
   "outputs": [],
   "source": [
    "files_to_process = collect_data_source()\n",
    "display(files_to_process)"
   ]
  },
  {
   "cell_type": "code",
   "execution_count": 0,
   "metadata": {
    "application/vnd.databricks.v1+cell": {
     "cellMetadata": {
      "byteLimit": 2048000,
      "rowLimit": 10000
     },
     "inputWidgets": {},
     "nuid": "b04017d7-cdd0-408e-a209-8dff9f20ab9e",
     "showTitle": false,
     "tableResultSettingsMap": {},
     "title": ""
    }
   },
   "outputs": [],
   "source": [
    "from ftplib import FTP\n",
    "ip_add = '140.20.107.4'\n",
    "username = 'patelbn'\n",
    "password = 'w&zuyHqy_XX5zXe4'"
   ]
  },
  {
   "cell_type": "code",
   "execution_count": 0,
   "metadata": {
    "application/vnd.databricks.v1+cell": {
     "cellMetadata": {
      "byteLimit": 2048000,
      "rowLimit": 10000
     },
     "inputWidgets": {},
     "nuid": "b1e3d33b-e1f4-4b26-829a-7e9cf30f7d4c",
     "showTitle": false,
     "tableResultSettingsMap": {},
     "title": ""
    }
   },
   "outputs": [],
   "source": [
    "ftp = FTP(ip_add)\n",
    "ftp.login(username, password)"
   ]
  },
  {
   "cell_type": "code",
   "execution_count": 0,
   "metadata": {
    "application/vnd.databricks.v1+cell": {
     "cellMetadata": {
      "byteLimit": 2048000,
      "implicitDf": true,
      "rowLimit": 10000
     },
     "inputWidgets": {},
     "nuid": "1a7bad7b-edca-4c5f-a525-7adcdd8f07d6",
     "showTitle": false,
     "tableResultSettingsMap": {},
     "title": ""
    }
   },
   "outputs": [],
   "source": [
    "%sql\n",
    "SELECT DISTINCT data_date\n",
    "FROM DELTA.`/mnt/vac20sdpasa201vba/ci-vba-edw-2/DeltaTables/DW_ADHOC_RECURR.DOD_PATRONAGE_SCD_PT/`\n",
    "ORDER BY DATA_DATE DESC\n",
    "-- 2024-10-08 00:00:00.0000000"
   ]
  },
  {
   "cell_type": "code",
   "execution_count": 0,
   "metadata": {
    "application/vnd.databricks.v1+cell": {
     "cellMetadata": {
      "byteLimit": 2048000,
      "implicitDf": true,
      "rowLimit": 10000
     },
     "inputWidgets": {},
     "nuid": "11d3c630-3f8e-46b4-bb85-92053e9a07ab",
     "showTitle": false,
     "tableResultSettingsMap": {},
     "title": ""
    }
   },
   "outputs": [],
   "source": [
    "%sql\n",
    "SELECT count(distinct PT35_PRMLGN_DT)\n",
    "FROM DELTA.`/mnt/vac20sdpasa201vba/ci-vba-edw-2/DeltaTables/DW_ADHOC_RECURR.DOD_PATRONAGE_SCD_PT/`\n",
    "-- ORDER BY PT35_PRMLGN_DT DESC\n",
    "-- LIMIT 1"
   ]
  },
  {
   "cell_type": "code",
   "execution_count": 0,
   "metadata": {
    "application/vnd.databricks.v1+cell": {
     "cellMetadata": {
      "byteLimit": 2048000,
      "implicitDf": true,
      "rowLimit": 10000
     },
     "inputWidgets": {},
     "nuid": "d90bb736-dcef-467f-9da5-e870bbb7123f",
     "showTitle": false,
     "tableResultSettingsMap": {},
     "title": ""
    }
   },
   "outputs": [],
   "source": [
    "%sql\n",
    "SELECT *\n",
    "FROM delta.`/mnt/Patronage/identity_correlations`\n",
    "WHERE participant_id = 63371531"
   ]
  },
  {
   "cell_type": "code",
   "execution_count": 0,
   "metadata": {
    "application/vnd.databricks.v1+cell": {
     "cellMetadata": {
      "byteLimit": 2048000,
      "implicitDf": true,
      "rowLimit": 10000
     },
     "inputWidgets": {},
     "nuid": "7877f652-ea0a-4d21-a1ec-ac433c3b3aca",
     "showTitle": false,
     "tableResultSettingsMap": {},
     "title": ""
    }
   },
   "outputs": [],
   "source": [
    "%sql\n",
    "SELECT *\n",
    "FROM delta.`/mnt/Patronage/duplicate_identity_correlations`\n",
    "-- WHERE TreatingFacilityPersonIdentifier = 63371531\n",
    "WHERE MVIPersonICN = 1008568848"
   ]
  },
  {
   "cell_type": "code",
   "execution_count": 0,
   "metadata": {
    "application/vnd.databricks.v1+cell": {
     "cellMetadata": {
      "byteLimit": 2048000,
      "implicitDf": true,
      "rowLimit": 10000
     },
     "inputWidgets": {},
     "nuid": "93807501-2fbc-4d54-8cd4-477a8faf2a61",
     "showTitle": false,
     "tableResultSettingsMap": {},
     "title": ""
    }
   },
   "outputs": [],
   "source": [
    "%sql\n",
    "CREATE TABLE Employee (EmpNo INT, ProjId INT, Dept INT);\n",
    "INSERT INTO Employee VALUES (1,1,10);\n",
    "INSERT INTO Employee VALUES (1,2,10);\n",
    "INSERT INTO Employee VALUES (2,1,20);\n",
    "INSERT INTO Employee VALUES (2,2,20);\n",
    "INSERT INTO Employee VALUES (3,1,30);\n",
    "SELECT EmpNo, COLLECT_LIST(ProjId) AS ProjId, Dept FROM Employee GROUP BY EmpNo, Dept;"
   ]
  },
  {
   "cell_type": "code",
   "execution_count": 0,
   "metadata": {
    "application/vnd.databricks.v1+cell": {
     "cellMetadata": {
      "byteLimit": 2048000,
      "implicitDf": true,
      "rowLimit": 10000
     },
     "inputWidgets": {},
     "nuid": "cbec9fe4-24ad-4864-bbe2-8b064d83565a",
     "showTitle": false,
     "tableResultSettingsMap": {},
     "title": ""
    }
   },
   "outputs": [],
   "source": [
    "%sql\n",
    "SELECT EmpNo, collect_list(struct(Dept, ProjId)) AS ProjId FROM Employee GROUP BY EmpNo, Dept; "
   ]
  },
  {
   "cell_type": "code",
   "execution_count": 0,
   "metadata": {
    "application/vnd.databricks.v1+cell": {
     "cellMetadata": {
      "byteLimit": 2048000,
      "implicitDf": true,
      "rowLimit": 10000
     },
     "inputWidgets": {},
     "nuid": "43f3cdce-4be1-4ad3-b508-494996e159ce",
     "showTitle": false,
     "tableResultSettingsMap": {},
     "title": ""
    }
   },
   "outputs": [],
   "source": [
    "%sql\n",
    "SELECT PT_Indicator, count(1)\n",
    "FROM mypatronage_test\n",
    "WHERE Batch_CD ='SCD' and RecordStatus IS TRUE\n",
    "GROUP BY 1"
   ]
  },
  {
   "cell_type": "code",
   "execution_count": 0,
   "metadata": {
    "application/vnd.databricks.v1+cell": {
     "cellMetadata": {
      "byteLimit": 2048000,
      "implicitDf": true,
      "rowLimit": 10000
     },
     "inputWidgets": {},
     "nuid": "29ff167a-2641-4edf-88ad-fbe8f0f019b9",
     "showTitle": false,
     "tableResultSettingsMap": {},
     "title": ""
    }
   },
   "outputs": [],
   "source": [
    "%sql\n",
    "CREATE TEMP VIEW temp_pat as SELECT * FROM delta.`/mnt/Patronage/SCD_Staging` VERSION AS OF 128"
   ]
  },
  {
   "cell_type": "code",
   "execution_count": 0,
   "metadata": {
    "application/vnd.databricks.v1+cell": {
     "cellMetadata": {
      "byteLimit": 2048000,
      "implicitDf": true,
      "rowLimit": 10000
     },
     "inputWidgets": {},
     "nuid": "81509be1-ced8-4da4-8a37-295a8ed202a7",
     "showTitle": false,
     "tableResultSettingsMap": {},
     "title": ""
    }
   },
   "outputs": [],
   "source": [
    "%sql\n",
    "SELECT d.PTCPNT_VET_ID as d_Participant_ID, d.PT_35_FLAG as d_PT, p.participant_id as pat_id, p.PT_Indicator pat_PT  FROM DELTA.`/mnt/vac20sdpasa201vba/ci-vba-edw-2/DeltaTables/DW_ADHOC_RECURR.DOD_PATRONAGE_SCD_PT/` d\n",
    "JOIN temp_pat p ON d.PTCPNT_VET_ID = p.participant_id\n",
    "WHERE d.PT_35_FLAG != p.PT_Indicator"
   ]
  },
  {
   "cell_type": "code",
   "execution_count": 0,
   "metadata": {
    "application/vnd.databricks.v1+cell": {
     "cellMetadata": {
      "byteLimit": 2048000,
      "implicitDf": true,
      "rowLimit": 10000
     },
     "inputWidgets": {},
     "nuid": "49dad63c-841c-468f-9390-6d534ef05637",
     "showTitle": false,
     "tableResultSettingsMap": {},
     "title": ""
    }
   },
   "outputs": [],
   "source": [
    "%sql\n",
    "SELECT count(*)\n",
    "-- d.PTCPNT_VET_ID as d_Participant_ID, d.PT_35_FLAG as d_PT, p.participant_id as pat_id, p.PT_Indicator pat_PT \n",
    "FROM DELTA.`/mnt/vac20sdpasa201vba/ci-vba-edw-2/DeltaTables/DW_ADHOC_RECURR.DOD_PATRONAGE_SCD_PT/` d\n",
    "JOIN temp_pat p ON d.PTCPNT_VET_ID = p.participant_id\n",
    "WHERE d.PT_35_FLAG != p.PT_Indicator"
   ]
  },
  {
   "cell_type": "code",
   "execution_count": 0,
   "metadata": {
    "application/vnd.databricks.v1+cell": {
     "cellMetadata": {
      "byteLimit": 2048000,
      "implicitDf": true,
      "rowLimit": 10000
     },
     "inputWidgets": {},
     "nuid": "509a3cb8-fbae-4145-ac4d-54c36a0585f6",
     "showTitle": false,
     "tableResultSettingsMap": {
      "0": {
       "dataGridStateBlob": null,
       "filterBlob": "{\"filterGroups\":[],\"syncTimestamp\":1744632701049}",
       "queryPlanFiltersBlob": null,
       "tableResultIndex": 0
      }
     },
     "title": ""
    }
   },
   "outputs": [],
   "source": [
    "%sql\n",
    "SELECT *\n",
    "FROM mypatronage_test\n",
    "WHERE ICN NOT IN (SELECT ICN FROM delta.`/mnt/Patronage/SCD_Staging`)\n",
    "AND BATCH_CD = 'SCD'"
   ]
  },
  {
   "cell_type": "code",
   "execution_count": 0,
   "metadata": {
    "application/vnd.databricks.v1+cell": {
     "cellMetadata": {
      "byteLimit": 2048000,
      "implicitDf": true,
      "rowLimit": 10000
     },
     "inputWidgets": {},
     "nuid": "b3c81be5-d840-4cbe-92c1-9f5d701d2f5e",
     "showTitle": false,
     "tableResultSettingsMap": {},
     "title": ""
    }
   },
   "outputs": [],
   "source": [
    "%sql\n",
    "SELECT * FROM delta.`/mnt/Patronage/SCD_Staging`\n",
    "WHERE ICN NOT IN (SELECT DISTINCT ICN \n",
    "FROM mypatronage_test WHERE\n",
    "BATCH_CD = 'SCD')"
   ]
  },
  {
   "cell_type": "code",
   "execution_count": 0,
   "metadata": {
    "application/vnd.databricks.v1+cell": {
     "cellMetadata": {
      "byteLimit": 2048000,
      "implicitDf": true,
      "rowLimit": 10000
     },
     "inputWidgets": {},
     "nuid": "4e302ec9-49f3-42f5-badb-a974f5987e89",
     "showTitle": false,
     "tableResultSettingsMap": {},
     "title": ""
    }
   },
   "outputs": [],
   "source": [
    "%sql\n",
    "SELECT * FROM delta.`/mnt/Patronage/SCD_Staging`\n",
    "WHERE ICN = 1079152916"
   ]
  },
  {
   "cell_type": "code",
   "execution_count": 0,
   "metadata": {
    "application/vnd.databricks.v1+cell": {
     "cellMetadata": {
      "byteLimit": 2048000,
      "rowLimit": 10000
     },
     "inputWidgets": {},
     "nuid": "b2caff38-db57-4fdf-9ab5-d5bb028a2398",
     "showTitle": false,
     "tableResultSettingsMap": {},
     "title": ""
    }
   },
   "outputs": [],
   "source": [
    "icn_relationship = (spark.read.format(\"delta\")\n",
    "                    .load(\"/mnt/Patronage/identity_correlations\")\n",
    "                    .withColumnRenamed('MVIPersonICN', 'ICN')).persist()"
   ]
  },
  {
   "cell_type": "code",
   "execution_count": 0,
   "metadata": {
    "application/vnd.databricks.v1+cell": {
     "cellMetadata": {
      "byteLimit": 2048000,
      "implicitDf": true,
      "rowLimit": 10000
     },
     "inputWidgets": {},
     "nuid": "cf7730d8-d679-4044-a083-ac2511a87692",
     "showTitle": false,
     "tableResultSettingsMap": {},
     "title": ""
    }
   },
   "outputs": [],
   "source": [
    "%sql\n",
    "SELECT * from delta.`/mnt/Patronage/duplicate_identity_correlations`\n",
    "WHERE TreatingFacilityPersonIdentifier = 64246516"
   ]
  },
  {
   "cell_type": "code",
   "execution_count": 0,
   "metadata": {
    "application/vnd.databricks.v1+cell": {
     "cellMetadata": {
      "byteLimit": 2048000,
      "implicitDf": true,
      "rowLimit": 10000
     },
     "inputWidgets": {},
     "nuid": "c0706ed1-a230-4439-bb2b-6c85a71e107a",
     "showTitle": false,
     "tableResultSettingsMap": {},
     "title": ""
    }
   },
   "outputs": [],
   "source": [
    "%sql\n",
    "SELECT * from delta.`/mnt/Patronage/identity_correlations`\n",
    "WHERE participant_id = 64246516"
   ]
  },
  {
   "cell_type": "code",
   "execution_count": 0,
   "metadata": {
    "application/vnd.databricks.v1+cell": {
     "cellMetadata": {
      "byteLimit": 2048000,
      "implicitDf": true,
      "rowLimit": 10000
     },
     "inputWidgets": {},
     "nuid": "2fefd27e-18dc-4297-bab5-0de81dc51be9",
     "showTitle": false,
     "tableResultSettingsMap": {},
     "title": ""
    }
   },
   "outputs": [],
   "source": [
    "%sql\n",
    "SELECT\n",
    "  version,\n",
    "  operation,\n",
    "  cast(operationMetrics.numTargetRowsInserted as INT) as Inserted,\n",
    "  cast(operationMetrics.numTargetRowsUpdated as INT) as Updates  \n",
    "FROM\n",
    "  (describe history delta.`/mnt/Patronage/SCD_Staging`)\n",
    "where\n",
    "  operation not in (\"CREATE TABLE\", \"OPTIMIZE\")\n",
    "order by\n",
    "  1 desc;"
   ]
  },
  {
   "cell_type": "code",
   "execution_count": 0,
   "metadata": {
    "application/vnd.databricks.v1+cell": {
     "cellMetadata": {
      "byteLimit": 2048000,
      "implicitDf": true,
      "rowLimit": 10000
     },
     "inputWidgets": {},
     "nuid": "76df91f5-43b9-4a63-a734-54c8064a75ef",
     "showTitle": false,
     "tableResultSettingsMap": {},
     "title": ""
    }
   },
   "outputs": [],
   "source": [
    "%sql\n",
    "SELECT EXPLODE(collect_set(SC_Combined_Disability_Percentage))\n",
    "FROM mypatronage_test WHERE BATCH_CD = 'SCD'"
   ]
  },
  {
   "cell_type": "code",
   "execution_count": 0,
   "metadata": {
    "application/vnd.databricks.v1+cell": {
     "cellMetadata": {
      "byteLimit": 2048000,
      "implicitDf": true,
      "rowLimit": 10000
     },
     "inputWidgets": {},
     "nuid": "47754559-2114-44ae-808c-ba2e6d282f7d",
     "showTitle": false,
     "tableResultSettingsMap": {},
     "title": ""
    }
   },
   "outputs": [],
   "source": [
    "%sql\n",
    "SELECT *\n",
    "FROM (\n",
    "  SELECT SC_Combined_Disability_Percentage, count(*) over() AS TotRec\n",
    "  FROM mypatronage_test WHERE BATCH_CD = 'SCD'\n",
    ")\n",
    "PIVOT (\n",
    "  count(SC_Combined_Disability_Percentage)\n",
    "  FOR SC_Combined_Disability_Percentage IN ('010', '020'\n",
    "  )\n",
    ")"
   ]
  },
  {
   "cell_type": "code",
   "execution_count": 0,
   "metadata": {
    "application/vnd.databricks.v1+cell": {
     "cellMetadata": {
      "byteLimit": 2048000,
      "implicitDf": true,
      "rowLimit": 10000
     },
     "inputWidgets": {},
     "nuid": "704cb72c-6ea4-45dd-8c49-dfe22ef9437a",
     "showTitle": false,
     "tableResultSettingsMap": {},
     "title": ""
    }
   },
   "outputs": [],
   "source": [
    "%sql\n",
    "SELECT SC_Combined_Disability_Percentage, count(*) over() AS TotRec\n",
    "  FROM mypatronage_test WHERE BATCH_CD = 'SCD'\n",
    "  "
   ]
  },
  {
   "cell_type": "code",
   "execution_count": 0,
   "metadata": {
    "application/vnd.databricks.v1+cell": {
     "cellMetadata": {
      "byteLimit": 2048000,
      "rowLimit": 10000
     },
     "inputWidgets": {},
     "nuid": "86030354-33c7-4fea-9f72-d247637360f9",
     "showTitle": false,
     "tableResultSettingsMap": {},
     "title": ""
    }
   },
   "outputs": [],
   "source": [
    "from ftplib import FTP\n",
    "ip_add = '140.20.107.4'\n",
    "username = 'patelbn'\n",
    "password = 'w&zuyHqy_XX5zXe4'\n",
    "ftp_directory = '/ftp/data02/pftbat/incoming' \n"
   ]
  },
  {
   "cell_type": "code",
   "execution_count": 0,
   "metadata": {
    "application/vnd.databricks.v1+cell": {
     "cellMetadata": {
      "byteLimit": 2048000,
      "rowLimit": 10000
     },
     "inputWidgets": {},
     "nuid": "a1761586-1a0b-406d-b338-6fea58eb88b3",
     "showTitle": false,
     "tableResultSettingsMap": {},
     "title": ""
    }
   },
   "outputs": [],
   "source": [
    "ftp = FTP()\n",
    "ftp.connect(host=ip_add, port=21, timeout=60)\n",
    "ftp.login(user=username, passwd=password)\n",
    "ftp.set_pasv(True)"
   ]
  },
  {
   "cell_type": "code",
   "execution_count": 0,
   "metadata": {
    "application/vnd.databricks.v1+cell": {
     "cellMetadata": {
      "byteLimit": 2048000,
      "implicitDf": true,
      "rowLimit": 10000
     },
     "inputWidgets": {},
     "nuid": "54848e98-5ab6-4032-965c-9431e1ee2915",
     "showTitle": false,
     "tableResultSettingsMap": {},
     "title": ""
    }
   },
   "outputs": [],
   "source": [
    "%sql\n",
    "  select EDIPI,\n",
    "          Batch_CD,\n",
    "          SC_Combined_Disability_Percentage,\n",
    "          status_begin_date,\n",
    "          PT_Indicator,\n",
    "          Individual_Unemployability,\n",
    "          Status_Last_Update,\n",
    "          Status_Termination_Date\n",
    "          from mypatronage_test111\n",
    "        where Batch_CD = 'CG'\n",
    "        and SDP_Event_Created_Timestamp >= DATE('2025-05-16')\n",
    "        and SDP_Event_Created_Timestamp <= DATE('2025-05-20')\n",
    "        and EDIPI is not null\n",
    "        and Applicant_Type = 'Primary Caregiver'\n",
    "        and (Status_Termination_Date is NULL OR Status_Termination_Date >= curdate()\n",
    "            OR Caregiver_Status IN ('Approved', 'Pending Revocation/Discharge'))\n",
    "        and EDIPI is not null\n",
    "        and sentToDoD is false"
   ]
  },
  {
   "cell_type": "code",
   "execution_count": 0,
   "metadata": {
    "application/vnd.databricks.v1+cell": {
     "cellMetadata": {
      "byteLimit": 2048000,
      "implicitDf": true,
      "rowLimit": 10000
     },
     "inputWidgets": {},
     "nuid": "553f297b-5fc6-48b4-b600-612ca01a2071",
     "showTitle": false,
     "tableResultSettingsMap": {},
     "title": ""
    }
   },
   "outputs": [],
   "source": [
    "%sql\n",
    "select count(*)\n",
    "            -- edipi,\n",
    "            -- Batch_CD,\n",
    "            -- SC_Combined_Disability_Percentage,\n",
    "            -- Status_Begin_Date,\n",
    "            -- PT_Indicator,\n",
    "            -- Individual_Unemployability,\n",
    "            -- Status_Last_Update,\n",
    "            -- Status_Termination_Date\n",
    "        from mypatronage_test111\n",
    "        where Batch_CD = 'SCD'\n",
    "        and SDP_Event_Created_Timestamp >= DATE('2025-05-16')\n",
    "        and SDP_Event_Created_Timestamp <= DATE('2025-05-20')\n",
    "        and edipi is not null\n",
    "        and sentToDoD is false"
   ]
  },
  {
   "cell_type": "code",
   "execution_count": 0,
   "metadata": {
    "application/vnd.databricks.v1+cell": {
     "cellMetadata": {
      "byteLimit": 2048000,
      "rowLimit": 10000
     },
     "inputWidgets": {},
     "nuid": "0c685ec7-78e0-4971-964b-7545a481aede",
     "showTitle": false,
     "tableResultSettingsMap": {},
     "title": ""
    }
   },
   "outputs": [],
   "source": [
    "20196 + 155"
   ]
  },
  {
   "cell_type": "code",
   "execution_count": 0,
   "metadata": {
    "application/vnd.databricks.v1+cell": {
     "cellMetadata": {
      "byteLimit": 2048000,
      "implicitDf": true,
      "rowLimit": 10000
     },
     "inputWidgets": {},
     "nuid": "bbe01dcf-5e22-4546-ba1d-e54b32d7e0ab",
     "showTitle": false,
     "tableResultSettingsMap": {},
     "title": ""
    }
   },
   "outputs": [],
   "source": [
    "%sql\n",
    "  select rpad(coalesce(EDIPI,''),10,' ' ) ||\n",
    "            rpad(coalesce(Batch_CD,''), 3,' ') ||\n",
    "            rpad(coalesce(SC_Combined_Disability_Percentage,''),3,' ') ||\n",
    "            rpad(coalesce(date_format(status_begin_date, 'yyyyMMdd'),''),8,' ') ||\n",
    "            rpad(coalesce(PT_Indicator,''),1,' ') ||\n",
    "            rpad(coalesce(Individual_Unemployability,''),1,' ') ||  \n",
    "            rpad(coalesce(date_format(Status_Last_Update, 'yyyyMMdd'),''),8,' ') ||\n",
    "            rpad(coalesce(date_format(Status_Termination_Date, 'yyyyMMdd'),''),8,' ') as CG\n",
    "        from mypatronage_test111\n",
    "        where Batch_CD = 'CG'\n",
    "        and SDP_Event_Created_Timestamp >= DATE('2025-05-16')\n",
    "        and SDP_Event_Created_Timestamp <= DATE('2025-05-20')\n",
    "        and EDIPI is not null\n",
    "        and Applicant_Type = 'Primary Caregiver'\n",
    "        and (Status_Termination_Date is NULL OR Status_Termination_Date >= curdate()\n",
    "            OR Caregiver_Status IN ('Approved', 'Pending Revocation/Discharge'))\n",
    "        and EDIPI is not null"
   ]
  },
  {
   "cell_type": "code",
   "execution_count": 0,
   "metadata": {
    "application/vnd.databricks.v1+cell": {
     "cellMetadata": {},
     "inputWidgets": {},
     "nuid": "85c9dddf-f904-45f1-8dfb-9303fcf24df9",
     "showTitle": false,
     "tableResultSettingsMap": {},
     "title": ""
    }
   },
   "outputs": [],
   "source": [
    "%sql\n",
    "  select rpad(coalesce(EDIPI,''),10,' ' ) ||\n",
    "            rpad(coalesce(Batch_CD,''), 3,' ') ||\n",
    "            rpad(coalesce(SC_Combined_Disability_Percentage,''),3,' ') ||\n",
    "            rpad(coalesce(date_format(status_begin_date, 'yyyyMMdd'),''),8,' ') ||\n",
    "            rpad(coalesce(PT_Indicator,''),1,' ') ||\n",
    "            rpad(coalesce(Individual_Unemployability,''),1,' ') ||  \n",
    "            rpad(coalesce(date_format(Status_Last_Update, 'yyyyMMdd'),''),8,' ') ||\n",
    "            rpad(coalesce(date_format(Status_Termination_Date, 'yyyyMMdd'),''),8,' ') as CG\n",
    "        from mypatronage_test111\n",
    "        where Batch_CD = 'CG'\n",
    "        and SDP_Event_Created_Timestamp >= DATE('2025-05-16')\n",
    "        and SDP_Event_Created_Timestamp <= DATE('2025-05-20')\n",
    "        and EDIPI is not null\n",
    "        and Applicant_Type = 'Primary Caregiver'\n",
    "        and (Status_Termination_Date is NULL OR Status_Termination_Date >= curdate()\n",
    "            OR Caregiver_Status IN ('Approved', 'Pending Revocation/Discharge'))\n",
    "        and EDIPI is not null\n",
    "        \n",
    "        union all\n",
    "        \n",
    "        select rpad(coalesce(edipi,''),10,' ' ) ||\n",
    "            rpad(coalesce(Batch_CD,''), 3,' ') ||\n",
    "            rpad(coalesce(SC_Combined_Disability_Percentage,''),3,' ') ||\n",
    "            rpad(coalesce(Status_Begin_Date,''),8,' ') ||\n",
    "            rpad(coalesce(PT_Indicator,''),1,' ') ||\n",
    "            rpad(coalesce(Individual_Unemployability,''),1,' ') ||\n",
    "            rpad(coalesce(Status_Last_Update,''),8,' ') ||\n",
    "            rpad(coalesce(Status_Termination_Date,''),8,' ') as CG\n",
    "        from scd_data\n",
    "        where SDP_Event_Created_Timestamp >= DATE('2025-05-16')\n",
    "        and SDP_Event_Created_Timestamp <= DATE('2025-05-20')\n",
    "        and edipi is not null"
   ]
  }
 ],
 "metadata": {
  "application/vnd.databricks.v1+notebook": {
   "computePreferences": {
    "hardware": {
     "accelerator": null,
     "gpuPoolId": null,
     "memory": null
    }
   },
   "dashboards": [],
   "environmentMetadata": {
    "base_environment": "",
    "environment_version": "1"
   },
   "inputWidgetPreferences": null,
   "language": "python",
   "notebookMetadata": {
    "mostRecentlyExecutedCommandWithImplicitDF": {
     "commandId": 7988875206239303,
     "dataframes": [
      "_sqldf"
     ]
    },
    "pythonIndentUnit": 4,
    "widgetLayout": []
   },
   "notebookName": "Misc",
   "widgets": {
    "time_period": {
     "currentValue": "Weekly",
     "nuid": "fb104f9e-80c7-4604-a6a2-61eadeb08541",
     "typedWidgetInfo": {
      "autoCreated": false,
      "defaultValue": "Weekly",
      "label": "",
      "name": "time_period",
      "options": {
       "widgetDisplayType": "Dropdown",
       "choices": [
        "Weekly",
        "Monthly"
       ],
       "fixedDomain": true,
       "multiselect": false
      },
      "parameterDataType": "String"
     },
     "widgetInfo": {
      "widgetType": "dropdown",
      "defaultValue": "Weekly",
      "label": "",
      "name": "time_period",
      "options": {
       "widgetType": "dropdown",
       "autoCreated": false,
       "choices": [
        "Weekly",
        "Monthly"
       ]
      }
     }
    }
   }
  },
  "language_info": {
   "name": "python"
  }
 },
 "nbformat": 4,
 "nbformat_minor": 0
}

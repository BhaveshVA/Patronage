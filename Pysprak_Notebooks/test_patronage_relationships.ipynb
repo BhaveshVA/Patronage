{
 "cells": [
  {
   "cell_type": "markdown",
   "metadata": {
    "application/vnd.databricks.v1+cell": {
     "cellMetadata": {},
     "inputWidgets": {},
     "nuid": "818ab91e-7ed1-4491-a309-c7dd07644935",
     "showTitle": false,
     "tableResultSettingsMap": {},
     "title": ""
    }
   },
   "source": [
    "# Patronage Relationships: End-to-End Test Suite\n",
    "This notebook demonstrates and tests the reusable Spark functions in the `patronage_relationships` package using sample data. Use this as a template for validation and onboarding."
   ]
  },
  {
   "cell_type": "code",
   "execution_count": 0,
   "metadata": {
    "application/vnd.databricks.v1+cell": {
     "cellMetadata": {
      "byteLimit": 2048000,
      "rowLimit": 10000
     },
     "inputWidgets": {},
     "nuid": "911c9e1f-5d52-416c-aa85-5492de4cdc4d",
     "showTitle": false,
     "tableResultSettingsMap": {},
     "title": ""
    }
   },
   "outputs": [],
   "source": [
    "# Import required libraries and the reusable package\n",
    "from pyspark.sql import SparkSession\n",
    "from pyspark.sql.types import StructType, StructField, StringType, IntegerType, TimestampType\n",
    "from datetime import datetime\n",
    "from patronage_relationships.core import *\n",
    "\n",
    "spark = SparkSession.builder.getOrCreate()"
   ]
  },
  {
   "cell_type": "code",
   "execution_count": 0,
   "metadata": {
    "application/vnd.databricks.v1+cell": {
     "cellMetadata": {
      "byteLimit": 2048000,
      "rowLimit": 10000
     },
     "inputWidgets": {},
     "nuid": "ee6ec2df-1f57-4db3-9810-ed1a6c215667",
     "showTitle": false,
     "tableResultSettingsMap": {},
     "title": ""
    }
   },
   "outputs": [],
   "source": [
    "# Sample DataFrames for testing\n",
    "psa_data = [\n",
    "    (\"ICN1\", 1001, \"12345\", \"Active\", datetime(2024, 1, 1, 10, 0)),\n",
    "    (\"ICN1\", 1001, \"12345\", \"Active\", datetime(2024, 1, 2, 10, 0)),\n",
    "    (\"ICN1\", 1001, \"12345\", \"Active\", datetime(2024, 1, 2, 10, 0)),\n",
    "\n",
    "    (\"ICN1\", 1002, \"12345\", \"Active\", datetime(2024, 1, 2, 10, 0)),\n",
    "    (\"ICN2\", 1002, \"54321\", None, datetime(2024, 1, 1, 11, 0)),\n",
    "    (\"ICN3\", 1003, \"99999\", \"Inactive\", datetime(2024, 1, 1, 12, 0)),\n",
    "    (\"ICN3\", 1003, \"12345\", \"Active\", datetime(2025, 1, 1, 12, 0)),\n",
    "\n",
    "]\n",
    "psa_schema = StructType([\n",
    "    StructField(\"MVIPersonICN\", StringType()),\n",
    "    StructField(\"MVITreatingFacilityInstitutionSID\", IntegerType()),\n",
    "    StructField(\"TreatingFacilityPersonIdentifier\", StringType()),\n",
    "    StructField(\"ActiveMergedIdentifier\", StringType()),\n",
    "    StructField(\"CorrelationModifiedDateTime\", TimestampType()),\n",
    "])\n",
    "psa_df = spark.createDataFrame(psa_data, psa_schema)\n",
    "\n",
    "person_data = [\n",
    "    (\"ICN1\", \"A\", datetime(2024, 1, 2, 10, 0)),\n",
    "    (\"ICN2\", \"B\", datetime(2024, 1, 1, 11, 0)),\n",
    "    (\"ICN3\", \"C\", datetime(2024, 1, 1, 12, 0)),\n",
    "]\n",
    "person_schema = StructType([\n",
    "    StructField(\"MVIPersonICN\", StringType()),\n",
    "    StructField(\"ICNStatus\", StringType()),\n",
    "    StructField(\"calc_IngestionTimestamp\", TimestampType()),\n",
    "])\n",
    "person_df = spark.createDataFrame(person_data, person_schema)\n",
    "\n",
    "institution_data = [\n",
    "    (1001, \"200CORP\"),\n",
    "    (1002, \"200DOD\"),\n",
    "    (1003, \"200VETS\"),\n",
    "]\n",
    "institution_schema = StructType([\n",
    "    StructField(\"MVIInstitutionSID\", IntegerType()),\n",
    "    StructField(\"InstitutionCode\", StringType()),\n",
    "])\n",
    "institution_df = spark.createDataFrame(institution_data, institution_schema)"
   ]
  },
  {
   "cell_type": "code",
   "execution_count": 0,
   "metadata": {
    "application/vnd.databricks.v1+cell": {
     "cellMetadata": {
      "byteLimit": 2048000,
      "rowLimit": 10000
     },
     "inputWidgets": {},
     "nuid": "f1c48cef-5bbe-4d38-a6f4-ccb166e0f3eb",
     "showTitle": false,
     "tableResultSettingsMap": {},
     "title": ""
    }
   },
   "outputs": [],
   "source": [
    "# Test filter_psa\n",
    "filtered_psa = filter_psa(psa_df)\n",
    "filtered_psa.show()"
   ]
  },
  {
   "cell_type": "code",
   "execution_count": 0,
   "metadata": {
    "application/vnd.databricks.v1+cell": {
     "cellMetadata": {
      "byteLimit": 2048000,
      "rowLimit": 10000
     },
     "inputWidgets": {},
     "nuid": "2240ca7d-b517-44f6-8eb0-95e523195dba",
     "showTitle": false,
     "tableResultSettingsMap": {},
     "title": ""
    }
   },
   "outputs": [],
   "source": [
    "# Test filter_person\n",
    "filtered_person = filter_person(person_df)\n",
    "filtered_person.show()"
   ]
  },
  {
   "cell_type": "code",
   "execution_count": 0,
   "metadata": {
    "application/vnd.databricks.v1+cell": {
     "cellMetadata": {
      "byteLimit": 2048000,
      "rowLimit": 10000
     },
     "inputWidgets": {},
     "nuid": "9eae692a-ff62-461a-9b03-75c1b39a7d0f",
     "showTitle": false,
     "tableResultSettingsMap": {},
     "title": ""
    }
   },
   "outputs": [],
   "source": [
    "# Test filter_institution\n",
    "filtered_institution = filter_institution(institution_df)\n",
    "filtered_institution.show()"
   ]
  },
  {
   "cell_type": "code",
   "execution_count": 0,
   "metadata": {
    "application/vnd.databricks.v1+cell": {
     "cellMetadata": {
      "byteLimit": 2048000,
      "rowLimit": 10000
     },
     "inputWidgets": {},
     "nuid": "aea30ad2-0552-418b-af11-f587dd714607",
     "showTitle": false,
     "tableResultSettingsMap": {},
     "title": ""
    }
   },
   "outputs": [],
   "source": [
    "# Test join_psa_institution\n",
    "joined = join_psa_institution(filtered_psa, filtered_institution)\n",
    "joined.show()"
   ]
  },
  {
   "cell_type": "code",
   "execution_count": 0,
   "metadata": {
    "application/vnd.databricks.v1+cell": {
     "cellMetadata": {
      "byteLimit": 2048000,
      "rowLimit": 10000
     },
     "inputWidgets": {},
     "nuid": "2f962ef2-a815-43f8-94f4-d3fc7f4f67f5",
     "showTitle": false,
     "tableResultSettingsMap": {},
     "title": ""
    }
   },
   "outputs": [],
   "source": [
    "# Test find_duplicate_relationships\n",
    "person_institution_dups, institution_tfpi_dups = find_duplicate_relationships(joined)\n",
    "person_institution_dups.show()\n",
    "institution_tfpi_dups.show()"
   ]
  },
  {
   "cell_type": "code",
   "execution_count": 0,
   "metadata": {
    "application/vnd.databricks.v1+cell": {
     "cellMetadata": {
      "byteLimit": 2048000,
      "rowLimit": 10000
     },
     "inputWidgets": {},
     "nuid": "080a468a-c1ad-4dcc-be4d-96a774b90715",
     "showTitle": false,
     "tableResultSettingsMap": {},
     "title": ""
    }
   },
   "outputs": [],
   "source": [
    "# Test remove_duplicate_relationships\n",
    "clean_corr, dup_corr = remove_duplicate_relationships(joined, person_institution_dups, institution_tfpi_dups)\n",
    "clean_corr.show()\n",
    "dup_corr.show()"
   ]
  },
  {
   "cell_type": "code",
   "execution_count": 0,
   "metadata": {
    "application/vnd.databricks.v1+cell": {
     "cellMetadata": {
      "byteLimit": 2048000,
      "rowLimit": 10000
     },
     "inputWidgets": {},
     "nuid": "4d0afba3-0a4f-4aff-8292-45afd618af8c",
     "showTitle": false,
     "tableResultSettingsMap": {},
     "title": ""
    }
   },
   "outputs": [],
   "source": [
    "# Test get_latest_correlation_date\n",
    "latest_date = get_latest_correlation_date(joined)\n",
    "latest_date.show()"
   ]
  },
  {
   "cell_type": "code",
   "execution_count": 0,
   "metadata": {
    "application/vnd.databricks.v1+cell": {
     "cellMetadata": {
      "byteLimit": 2048000,
      "rowLimit": 10000
     },
     "inputWidgets": {},
     "nuid": "de7888c9-1a83-46bc-92f4-2cb1d028f497",
     "showTitle": false,
     "tableResultSettingsMap": {},
     "title": ""
    }
   },
   "outputs": [],
   "source": [
    "# Test build_correlation_lookup_table\n",
    "lookup_table = build_correlation_lookup_table(latest_date, clean_corr, filtered_person)\n",
    "lookup_table.show()"
   ]
  },
  {
   "cell_type": "code",
   "execution_count": 0,
   "metadata": {
    "application/vnd.databricks.v1+cell": {
     "cellMetadata": {
      "byteLimit": 2048000,
      "rowLimit": 10000
     },
     "inputWidgets": {},
     "nuid": "d7e562d8-0c52-4f17-9308-ae7083e17bab",
     "showTitle": false,
     "tableResultSettingsMap": {},
     "title": ""
    }
   },
   "outputs": [],
   "source": [
    "# Test build_json_correlation_table\n",
    "json_table = build_json_correlation_table(latest_date, clean_corr, filtered_person)\n",
    "json_table.show(truncate=False)"
   ]
  }
 ],
 "metadata": {
  "application/vnd.databricks.v1+notebook": {
   "computePreferences": null,
   "dashboards": [],
   "environmentMetadata": null,
   "inputWidgetPreferences": null,
   "language": "python",
   "notebookMetadata": {
    "pythonIndentUnit": 4
   },
   "notebookName": "test_patronage_relationships",
   "widgets": {}
  },
  "language_info": {
   "name": "python"
  }
 },
 "nbformat": 4,
 "nbformat_minor": 0
}

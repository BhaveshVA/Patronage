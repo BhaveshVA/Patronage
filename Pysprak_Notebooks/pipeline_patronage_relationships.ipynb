{
 "cells": [
  {
   "cell_type": "markdown",
   "metadata": {
    "application/vnd.databricks.v1+cell": {
     "cellMetadata": {},
     "inputWidgets": {},
     "nuid": "89f97c64-7724-425d-965a-7462790f45d3",
     "showTitle": false,
     "tableResultSettingsMap": {},
     "title": ""
    }
   },
   "source": [
    "# Patronage Relationships: Production Pipeline Example\n",
    "This notebook demonstrates how to use the `patronage_relationships` package in a real pipeline. Update paths and configs as needed for your environment."
   ]
  },
  {
   "cell_type": "code",
   "execution_count": 0,
   "metadata": {
    "application/vnd.databricks.v1+cell": {
     "cellMetadata": {
      "byteLimit": 2048000,
      "rowLimit": 10000
     },
     "inputWidgets": {},
     "nuid": "b7db5dc6-7f0a-4a16-b580-ada398bde3da",
     "showTitle": false,
     "tableResultSettingsMap": {},
     "title": ""
    }
   },
   "outputs": [],
   "source": [
    "# Import required libraries and the reusable package\n",
    "from pyspark.sql import SparkSession\n",
    "from patronage_relationships.core import *\n",
    "from datetime import datetime\n",
    "\n",
    "spark = SparkSession.builder.getOrCreate()"
   ]
  },
  {
   "cell_type": "code",
   "execution_count": 0,
   "metadata": {
    "application/vnd.databricks.v1+cell": {
     "cellMetadata": {
      "byteLimit": 2048000,
      "rowLimit": 10000
     },
     "inputWidgets": {},
     "nuid": "2af79147-d855-4f99-bb4a-af9e9ff6b33c",
     "showTitle": false,
     "tableResultSettingsMap": {},
     "title": ""
    }
   },
   "outputs": [],
   "source": [
    "# Read data from production sources (update paths as needed)\n",
    "psa_df = spark.read.parquet(\"/mnt/ci-mvi/Processed/SVeteran.SMVIPersonSiteAssociation/\")\n",
    "person_df = spark.read.parquet(\"/mnt/ci-mvi/Processed/SVeteran.SMVIPerson/\")\n",
    "institution_df = spark.read.parquet(\"/mnt/ci-mvi/Raw/NDim.MVIInstitution/\")"
   ]
  },
  {
   "cell_type": "code",
   "execution_count": 0,
   "metadata": {
    "application/vnd.databricks.v1+cell": {
     "cellMetadata": {
      "byteLimit": 2048000,
      "rowLimit": 10000
     },
     "inputWidgets": {},
     "nuid": "b07733ff-3b5d-41eb-9c58-f138aac76a41",
     "showTitle": false,
     "tableResultSettingsMap": {},
     "title": ""
    }
   },
   "outputs": [],
   "source": [
    "# Apply reusable functions\n",
    "filtered_psa = filter_psa(psa_df)\n",
    "filtered_person = filter_person(person_df)\n",
    "filtered_institution = filter_institution(institution_df)\n",
    "\n",
    "joined = join_psa_institution(filtered_psa, filtered_institution)\n",
    "person_institution_dups, institution_tfpi_dups = find_duplicate_relationships(joined)\n",
    "clean_corr, dup_corr = remove_duplicate_relationships(joined, person_institution_dups, institution_tfpi_dups)\n",
    "latest_date = get_latest_correlation_date(joined)\n",
    "\n",
    "start = datetime.now()\n",
    "lookup_table = build_correlation_lookup_table(latest_date, clean_corr, filtered_person).cache()\n",
    "end = datetime.now()\n",
    "print(f\"Time taken: {end - start}\")\n",
    "\n",
    "json_table = build_json_correlation_table(latest_date, clean_corr, filtered_person)\n",
    "json_table.createOrReplaceTempView(\"temp_json\")"
   ]
  },
  {
   "cell_type": "code",
   "execution_count": 0,
   "metadata": {
    "application/vnd.databricks.v1+cell": {
     "cellMetadata": {
      "byteLimit": 2048000,
      "rowLimit": 10000
     },
     "inputWidgets": {},
     "nuid": "937702cd-1426-4e77-b86c-e9bba365d7ac",
     "showTitle": false,
     "tableResultSettingsMap": {},
     "title": ""
    }
   },
   "outputs": [],
   "source": [
    "# Save results (repartition for parallelism if needed)\n",
    "lookup_table.repartition(200, \"MVIPersonICN\").write.option(\"path\", \"/mnt/ci-patronage/delta_tables/correlation_lookup\").mode(\"overwrite\").saveAsTable(\"correlation_lookup\")\n",
    "# dup_corr.repartition(200, \"MVIPersonICN\").write.option(\"path\", \"/mnt/ci-patronage/delta_tables/duplicate_correlations\").mode(\"overwrite\").saveAsTable(\"duplicate_correlations\")\n",
    "# json_table.repartition(200, \"MVIPersonICN\").write.option(\"path\", \"/mnt/ci-patronage/delta_tables/CorrelationsForAllInstitutions\").mode(\"overwrite\").saveAsTable(\"CorrelationsForAllInstitutions\")"
   ]
  }
 ],
 "metadata": {
  "application/vnd.databricks.v1+notebook": {
   "computePreferences": null,
   "dashboards": [],
   "environmentMetadata": null,
   "inputWidgetPreferences": null,
   "language": "python",
   "notebookMetadata": {
    "pythonIndentUnit": 4
   },
   "notebookName": "pipeline_patronage_relationships",
   "widgets": {}
  },
  "language_info": {
   "name": "python"
  }
 },
 "nbformat": 4,
 "nbformat_minor": 0
}
